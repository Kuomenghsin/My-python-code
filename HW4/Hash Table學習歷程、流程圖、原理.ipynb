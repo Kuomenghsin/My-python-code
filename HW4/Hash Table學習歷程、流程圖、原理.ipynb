{
 "cells": [
  {
   "cell_type": "markdown",
   "metadata": {},
   "source": [
    "參考資料:\n",
    "\n",
    "https://www.youtube.com/watch?v=aZVNWYSR_sY\n",
    "\n",
    "https://www.youtube.com/watch?v=2BldESGZKB8\n",
    "\n",
    "https://github.com/timvandermeij/md5.py/blob/master/md5.py\n",
    "\n",
    "http://alrightchiu.github.io/SecondRound/hash-tableintrojian-jie.html\n",
    "\n",
    "https://hackmd.io/@EW34LLeXTra2Oikg0WEQ5Q/HJln3jU_e?type=view"
   ]
  },
  {
   "cell_type": "markdown",
   "metadata": {},
   "source": [
    "Hash Function的原理：簡單講就是很厲害的數學家們研究出來的算法，能把每個不同的字串都轉換成\"唯一\"的一組數字\n",
    "\n",
    "目前有許多Hash Function流通，例如：MD5、SHA-2等等，阿我們雖然只是那些套件的使用者，但我們還是得稍微了解一下原理\n",
    "\n",
    "就像我們也要學計算機概論，知道電腦、網路大概是怎麼運作的，學習Hash Table也是一樣的道理，要先理解Hash Function如何運作\n",
    "\n",
    "Hash Table的終極目標是希望能在O(1)的時間複雜度情況，將資料進行查找、新增、刪除，但實際上卻很難實現\n",
    "\n",
    "因為很難每個字串都對應到\"唯一\"且\"index不重複\"的Hash Table(簡單講就是每條linked list的長度都 = 1)\n",
    "\n",
    "基本上一定會遇到碰撞，此時用linked list的話就可以把碰撞值塞到next，而capacity的大小也需要謹慎考慮\n",
    "\n",
    "例如今天有100筆資料，結果capacity只設1，那這樣就跟linked list沒兩樣了，因為所有資料都會丟進那條linked list\n",
    "\n",
    "但是如果今天有1000筆資料，分布不平均的情況，capacity設1000，會使部分list的空間沒有存放任何值，導致記憶體空間的浪費\n",
    "\n",
    "所以，Hash Table所追求的O(1)時間複雜度，目前似乎是不太可能執行(就算可以，也會造成大量的記憶體空間浪費)\n",
    "\n",
    "不過比起單條linked list或者是BST，worst case需要O(n)的時間複雜度，Hash Table真的算是快多了！\n",
    "\n",
    "Hash Function必須要有以下的幾個特點：\n",
    "\n",
    "1.不可逆(如果可逆的話，那麼就沒有加密的必要了，因為我可以直接從加密後的數據回推原本的數據)\n",
    "\n",
    "2.每個字串必須要能轉換成唯一的加密值，且不同字串不能轉換成相同的加密值(簡單講就是要具有唯一性)\n",
    "\n",
    "3.盡量要分布均勻，不要很多字串都在同個index的位置，造成部分linked list很長，部分linked list很短"
   ]
  },
  {
   "cell_type": "code",
   "execution_count": 1,
   "metadata": {},
   "outputs": [
    {
     "name": "stdout",
     "output_type": "stream",
     "text": [
      "Requirement already satisfied: pycryptodome in c:\\users\\samue\\anaconda3\\lib\\site-packages (3.9.4)\n",
      "Note: you may need to restart the kernel to use updated packages.\n"
     ]
    }
   ],
   "source": [
    "pip install pycryptodome"
   ]
  },
  {
   "cell_type": "code",
   "execution_count": 3,
   "metadata": {},
   "outputs": [
    {
     "name": "stdout",
     "output_type": "stream",
     "text": [
      "Collecting pycryptodomex\n",
      "  Downloading https://files.pythonhosted.org/packages/44/d3/14529fc45fe742207adb3a85df6674c51c4e6e95366b2a84516d3696b40f/pycryptodomex-3.9.4-cp37-cp37m-win_amd64.whl (10.1MB)\n",
      "Installing collected packages: pycryptodomex\n",
      "Successfully installed pycryptodomex-3.9.4\n",
      "Note: you may need to restart the kernel to use updated packages.\n"
     ]
    }
   ],
   "source": [
    "pip install pycryptodomex"
   ]
  },
  {
   "cell_type": "code",
   "execution_count": 1,
   "metadata": {},
   "outputs": [],
   "source": [
    "from Cryptodome.Hash import MD5"
   ]
  },
  {
   "cell_type": "code",
   "execution_count": 3,
   "metadata": {},
   "outputs": [],
   "source": [
    "a = MD5.new()"
   ]
  },
  {
   "cell_type": "code",
   "execution_count": 4,
   "metadata": {},
   "outputs": [],
   "source": [
    "a.update(\"imucici\".encode(\"utf-8\"))"
   ]
  },
  {
   "cell_type": "code",
   "execution_count": 5,
   "metadata": {},
   "outputs": [
    {
     "name": "stdout",
     "output_type": "stream",
     "text": [
      "3ad5fc59c19f1f4e9145419057e00090\n"
     ]
    }
   ],
   "source": [
    "print(a.hexdigest())"
   ]
  },
  {
   "cell_type": "code",
   "execution_count": 7,
   "metadata": {},
   "outputs": [
    {
     "name": "stdout",
     "output_type": "stream",
     "text": [
      "78206301264842596847283861755225178256\n"
     ]
    }
   ],
   "source": [
    "print(int(a.hexdigest(),16))"
   ]
  },
  {
   "cell_type": "markdown",
   "metadata": {},
   "source": [
    "11/23更新，為啥我的一行就安裝成功，姊姊的卻用了整個下午..\n",
    "\n",
    "原來不一定要在cmd pip install 原來也不一定要加!才能install...這世界好複雜...好難懂..."
   ]
  },
  {
   "cell_type": "code",
   "execution_count": 2,
   "metadata": {},
   "outputs": [],
   "source": [
    "class ListNode:\n",
    "    \n",
    "    def __init__(self,val):\n",
    "        self.val = val\n",
    "        self.next = None\n",
    "\n",
    "class MyHashSet:\n",
    "    \n",
    "    def __init__(self,capacity):\n",
    "        self.capacity = capacity\n",
    "        self.data = [None] * capacity\n",
    "    \n",
    "    def add(self,key):\n",
    "        a = MD5.new()\n",
    "        a.update(key.encode(\"utf-8\"))\n",
    "        return int(a.hexdigest(),16)"
   ]
  },
  {
   "cell_type": "code",
   "execution_count": 3,
   "metadata": {},
   "outputs": [
    {
     "data": {
      "text/plain": [
       "78206301264842596847283861755225178256"
      ]
     },
     "execution_count": 3,
     "metadata": {},
     "output_type": "execute_result"
    }
   ],
   "source": [
    "MyHashSet(3).add(\"imucici\")"
   ]
  },
  {
   "cell_type": "code",
   "execution_count": 26,
   "metadata": {},
   "outputs": [],
   "source": [
    "class ListNode:\n",
    "    \n",
    "    def __init__(self,val):\n",
    "        self.val = val\n",
    "        self.next = None\n",
    "\n",
    "class MyHashSet:\n",
    "    \n",
    "    def __init__(self,capacity):\n",
    "        self.capacity = capacity\n",
    "        self.data = [None] * capacity\n",
    "    \n",
    "    def add(self,key):\n",
    "        a = MD5.new()\n",
    "        a.update(key.encode(\"utf-8\"))\n",
    "        b = int(a.hexdigest(),16)\n",
    "        return b % self.capacity"
   ]
  },
  {
   "cell_type": "code",
   "execution_count": 27,
   "metadata": {},
   "outputs": [
    {
     "data": {
      "text/plain": [
       "1"
      ]
     },
     "execution_count": 27,
     "metadata": {},
     "output_type": "execute_result"
    }
   ],
   "source": [
    "MyHashSet(3).add(\"imucici\")"
   ]
  },
  {
   "cell_type": "code",
   "execution_count": 7,
   "metadata": {},
   "outputs": [],
   "source": [
    "class ListNode:\n",
    "    \n",
    "    def __init__(self,val):\n",
    "        self.val = val\n",
    "        self.next = None\n",
    "\n",
    "class MyHashSet:\n",
    "    \n",
    "    def __init__(self,capacity):\n",
    "        self.capacity = capacity\n",
    "        self.data = [None] * capacity\n",
    "        \n",
    "        self.data[0] = ListNode(1)\n",
    "        self.data[1] = ListNode(4)\n",
    "        self.data[2] = ListNode(7)\n",
    "        \n",
    "        self.data[0].next = ListNode(2)\n",
    "        self.data[0].next.next = ListNode(3)\n",
    "        \n",
    "        self.data[1].next = ListNode(5)\n",
    "        self.data[1].next.next = ListNode(6)\n",
    "        \n",
    "        self.data[2].next = ListNode(8)\n",
    "        self.data[2].next.next = ListNode(9)\n",
    "        \n",
    "        print(self.data[2].next.next.val)\n",
    "      \n",
    "        \n",
    "#     def add(self,key):\n",
    "#         a = MD5.new()\n",
    "#         a.update(key.encode(\"utf-8\"))\n",
    "#         b = int(a.hexdigest(),16)\n",
    "#         return b % self.capacity"
   ]
  },
  {
   "cell_type": "code",
   "execution_count": 8,
   "metadata": {},
   "outputs": [
    {
     "name": "stdout",
     "output_type": "stream",
     "text": [
      "9\n"
     ]
    },
    {
     "data": {
      "text/plain": [
       "<__main__.MyHashSet at 0x1a06b4c89c8>"
      ]
     },
     "execution_count": 8,
     "metadata": {},
     "output_type": "execute_result"
    }
   ],
   "source": [
    "MyHashSet(3)"
   ]
  },
  {
   "cell_type": "markdown",
   "metadata": {},
   "source": [
    "11/23稍微研究了一下self.capacity跟self.data的意義，我覺得這個想法。真。的。很。神！！！\n",
    "\n",
    "capacity就是指要有幾條linked list，data就是用arr的方式來儲存linked list的head節點\n",
    "\n",
    "跟BST一樣，只要有head節點，就能走訪整個linked list的結構，那至於為什麼要用arr來儲存每條linked list的head呢？\n",
    "\n",
    "因為arr具有index的概念，所以按照HT的邏輯，把字串轉成10進位再除以capacity取餘數，來決定要放到哪條linked list\n",
    "\n",
    "如果餘1，就放到self.data[1]的linked list底下。歐麥尬，研究出這個方法的人到底是何方神聖阿==真的是有夠聰明的"
   ]
  },
  {
   "cell_type": "code",
   "execution_count": 1,
   "metadata": {},
   "outputs": [],
   "source": [
    "class ListNode:\n",
    "    \n",
    "    def __init__(self,val):\n",
    "        self.val = val\n",
    "        self.next = None\n",
    "\n",
    "class MyHashSet:\n",
    "    \n",
    "    def __init__(self,capacity):\n",
    "        self.capacity = capacity\n",
    "        self.data = [None] * capacity   \n",
    "        \n",
    "    def add(self,key):\n",
    "        a = MD5.new()\n",
    "        a.update(key.encode(\"utf-8\"))\n",
    "        val = int(a.hexdigest(),16)\n",
    "        rem = val % self.capacity\n",
    "        print(key,\"=\",val)\n",
    "        \n",
    "        for i in range(self.capacity):\n",
    "            if i == rem:\n",
    "                if self.data[i] is None:\n",
    "                    self.data[i] = ListNode(val)\n",
    "                    return self.data[i]\n",
    "                else:\n",
    "                    temp = self.data[i]\n",
    "                    while temp is not None:\n",
    "                        temp = temp.next\n",
    "                    temp = ListNode(val)\n",
    "                    return temp\n",
    "    \n",
    "    def traversal(self):\n",
    "        for i in range(self.capacity):\n",
    "            while self.data[i] is not None:\n",
    "                print(self.data[i].val)\n",
    "                self.data[i] = self.data[i].next"
   ]
  },
  {
   "cell_type": "code",
   "execution_count": 2,
   "metadata": {},
   "outputs": [],
   "source": [
    "from Cryptodome.Hash import MD5"
   ]
  },
  {
   "cell_type": "code",
   "execution_count": 3,
   "metadata": {},
   "outputs": [],
   "source": [
    "a = MyHashSet(3)"
   ]
  },
  {
   "cell_type": "code",
   "execution_count": 4,
   "metadata": {},
   "outputs": [],
   "source": [
    "head = a.add(\"a\")"
   ]
  },
  {
   "cell_type": "code",
   "execution_count": 5,
   "metadata": {},
   "outputs": [
    {
     "name": "stdout",
     "output_type": "stream",
     "text": [
      "b = 195289424170611159128911017612795795343\n"
     ]
    }
   ],
   "source": [
    "se = a.add(\"b\")"
   ]
  },
  {
   "cell_type": "code",
   "execution_count": 6,
   "metadata": {},
   "outputs": [
    {
     "name": "stdout",
     "output_type": "stream",
     "text": [
      "c = 99079589977253916124855502156832923443\n"
     ]
    }
   ],
   "source": [
    "th = a.add(\"c\")"
   ]
  },
  {
   "cell_type": "code",
   "execution_count": 7,
   "metadata": {},
   "outputs": [
    {
     "data": {
      "text/plain": [
       "False"
      ]
     },
     "execution_count": 7,
     "metadata": {},
     "output_type": "execute_result"
    }
   ],
   "source": [
    "head.next == se"
   ]
  },
  {
   "cell_type": "code",
   "execution_count": 8,
   "metadata": {},
   "outputs": [
    {
     "name": "stdout",
     "output_type": "stream",
     "text": [
      "16955237001963240173058271559858726497\n"
     ]
    }
   ],
   "source": [
    "a.traversal()"
   ]
  },
  {
   "cell_type": "markdown",
   "metadata": {},
   "source": [
    "測試了一個早上，不知道為啥那個linked list就是接不上去啊== 尬的，到底要怎麼辦LA，真D是HEN煩ㄟ"
   ]
  },
  {
   "cell_type": "code",
   "execution_count": 1,
   "metadata": {},
   "outputs": [],
   "source": [
    "class ListNode:\n",
    "    \n",
    "    def __init__(self,val):\n",
    "        self.val = val\n",
    "        self.next = None\n",
    "\n",
    "class MyHashSet:\n",
    "    \n",
    "    def __init__(self,capacity):\n",
    "        self.capacity = capacity\n",
    "        self.data = [None] * capacity   \n",
    "        \n",
    "    def add(self,key):\n",
    "        a = MD5.new()\n",
    "        a.update(key.encode(\"utf-8\"))\n",
    "        val = int(a.hexdigest(),16)\n",
    "        rem = val % self.capacity\n",
    "        print(key,\"=\",val)\n",
    "        \n",
    "        for i in range(self.capacity):\n",
    "            if i == rem:\n",
    "                if self.data[i] is None:\n",
    "                    self.data[i] = ListNode(val)\n",
    "                    return self.data[i]\n",
    "                else:\n",
    "                    temp = self.data[i]\n",
    "                    while temp.next is not None:\n",
    "                        temp = temp.next\n",
    "                    temp.next = ListNode(val)\n",
    "                    return temp.next"
   ]
  },
  {
   "cell_type": "code",
   "execution_count": 2,
   "metadata": {},
   "outputs": [],
   "source": [
    "from Cryptodome.Hash import MD5"
   ]
  },
  {
   "cell_type": "code",
   "execution_count": 3,
   "metadata": {},
   "outputs": [],
   "source": [
    "a = MyHashSet(3)"
   ]
  },
  {
   "cell_type": "code",
   "execution_count": 4,
   "metadata": {},
   "outputs": [
    {
     "name": "stdout",
     "output_type": "stream",
     "text": [
      "a = 16955237001963240173058271559858726497\n"
     ]
    }
   ],
   "source": [
    "head = a.add(\"a\")"
   ]
  },
  {
   "cell_type": "code",
   "execution_count": 5,
   "metadata": {},
   "outputs": [
    {
     "name": "stdout",
     "output_type": "stream",
     "text": [
      "b = 195289424170611159128911017612795795343\n"
     ]
    }
   ],
   "source": [
    "se = a.add(\"b\")"
   ]
  },
  {
   "cell_type": "code",
   "execution_count": 6,
   "metadata": {},
   "outputs": [
    {
     "data": {
      "text/plain": [
       "True"
      ]
     },
     "execution_count": 6,
     "metadata": {},
     "output_type": "execute_result"
    }
   ],
   "source": [
    "head.next == se"
   ]
  },
  {
   "cell_type": "markdown",
   "metadata": {},
   "source": [
    "終於...回去看了一下linked list的概念(還好當初有把linked list學好，不然真的是一路死到底)\n",
    "\n",
    "當要新增節點的時候，我們需要找它前一個節點，並且用.next = ListNode(val)的語法，才會連結起來\n",
    "\n",
    "def addAtTail(self, val: int) -> None:\n",
    "\n",
    "        newTail = Node(val) #創建一個新的尾節點(newTail)\n",
    "        \n",
    "        if self.head == None:\n",
    "            \n",
    "            self.head = newTail #如果原本的頭節點=None，新的尾節點就直接變成頭節點\n",
    "            \n",
    "            return self.head\n",
    "        \n",
    "        else:\n",
    "            \n",
    "            while self.head.next != None:\n",
    "                \n",
    "                self.head = self.head.next\n",
    "            \n",
    "            self.head.next = newTail \n",
    "            \n",
    "        self.size+=1 \n",
    "        \n",
    "        return self.head.next"
   ]
  },
  {
   "cell_type": "code",
   "execution_count": 1,
   "metadata": {},
   "outputs": [],
   "source": [
    "class ListNode:\n",
    "    \n",
    "    def __init__(self,val):\n",
    "        self.val = val\n",
    "        self.next = None\n",
    "\n",
    "class MyHashSet:\n",
    "    \n",
    "    def __init__(self,capacity):\n",
    "        self.capacity = capacity\n",
    "        self.data = [None] * capacity   \n",
    "        \n",
    "    def add(self,key):\n",
    "        a = MD5.new()\n",
    "        a.update(key.encode(\"utf-8\"))\n",
    "        val = int(a.hexdigest(),16)\n",
    "        rem = val % self.capacity\n",
    "        \n",
    "        for i in range(self.capacity):\n",
    "            if i == rem:\n",
    "                if self.data[i] is None:\n",
    "                    self.data[i] = ListNode(val)\n",
    "                else:\n",
    "                    temp = self.data[i]\n",
    "                    while temp.next is not None:\n",
    "                        temp = temp.next\n",
    "                    temp.next = ListNode(val)\n",
    "                    \n",
    "    def pre(self):\n",
    "        for i in range(self.capacity):\n",
    "            temp = self.data[i]\n",
    "            count = 0\n",
    "            while temp is not None:\n",
    "                print(\"linked list\",i,\"index =\",count,\" = \",temp.val)\n",
    "                temp = temp.next\n",
    "                count += 1"
   ]
  },
  {
   "cell_type": "code",
   "execution_count": 2,
   "metadata": {},
   "outputs": [],
   "source": [
    "from Cryptodome.Hash import MD5"
   ]
  },
  {
   "cell_type": "code",
   "execution_count": 3,
   "metadata": {},
   "outputs": [],
   "source": [
    "a = MyHashSet(3)"
   ]
  },
  {
   "cell_type": "code",
   "execution_count": 4,
   "metadata": {},
   "outputs": [],
   "source": [
    "a.add(\"a\")\n",
    "a.add(\"b\")\n",
    "a.add(\"c\")\n",
    "a.add(\"d\")\n",
    "a.add(\"e\")\n",
    "a.add(\"f\")\n",
    "a.add(\"g\")\n",
    "a.add(\"h\")\n",
    "a.add(\"i\")\n",
    "a.add(\"j\")\n",
    "a.add(\"k\")\n",
    "a.add(\"l\")\n",
    "a.add(\"m\")\n",
    "a.add(\"n\")\n",
    "a.add(\"o\")\n",
    "a.add(\"p\")\n",
    "a.add(\"q\")\n",
    "a.add(\"r\")\n",
    "a.add(\"s\")\n",
    "a.add(\"t\")\n",
    "a.add(\"u\")\n",
    "a.add(\"v\")\n",
    "a.add(\"w\")\n",
    "a.add(\"x\")\n",
    "a.add(\"y\")\n",
    "a.add(\"z\")"
   ]
  },
  {
   "cell_type": "code",
   "execution_count": 5,
   "metadata": {},
   "outputs": [
    {
     "name": "stdout",
     "output_type": "stream",
     "text": [
      "linked list 0 index = 0  =  173422077530204247440288476180261147053\n",
      "linked list 0 index = 1  =  187279361568289349169310600456257773043\n",
      "linked list 0 index = 2  =  60777752534275580890634032213986982707\n",
      "linked list 0 index = 3  =  148288579530247940334623493365503709211\n",
      "linked list 0 index = 4  =  5024858982525279126580546866271809588\n",
      "linked list 0 index = 5  =  302196537698737132528447936141189276830\n",
      "linked list 0 index = 6  =  210300553624167067071713953942295567658\n",
      "linked list 0 index = 7  =  209794194358692857395451740504350025638\n",
      "linked list 1 index = 0  =  16955237001963240173058271559858726497\n",
      "linked list 1 index = 1  =  195289424170611159128911017612795795343\n",
      "linked list 1 index = 2  =  99079589977253916124855502156832923443\n",
      "linked list 1 index = 3  =  299611584147932843547128611849858313266\n",
      "linked list 1 index = 4  =  49268479078006861543109070154241760913\n",
      "linked list 1 index = 5  =  178594487029704683911797514996985530177\n",
      "linked list 1 index = 6  =  164219822302695027364520073011152511905\n",
      "linked list 1 index = 7  =  288891476066694434127227667080919403468\n",
      "linked list 1 index = 8  =  174832678556295648811075566251100652666\n",
      "linked list 1 index = 9  =  100043567133538282742383207975405601329\n",
      "linked list 1 index = 10  =  164114529109600808371696498605782324044\n",
      "linked list 1 index = 11  =  320556862105665356727910535058133114216\n",
      "linked list 1 index = 12  =  86828518130618008439946455853590066269\n",
      "linked list 2 index = 0  =  190917122200326810055233066464581373159\n",
      "linked list 2 index = 1  =  237879873640563870927460284185496028253\n",
      "linked list 2 index = 2  =  72085025882002076319884508409206166805\n",
      "linked list 2 index = 3  =  157622325528168190746359577861378892061\n",
      "linked list 2 index = 4  =  334539238117652783139009887043263471063\n"
     ]
    }
   ],
   "source": [
    "a.pre()"
   ]
  },
  {
   "cell_type": "code",
   "execution_count": 1,
   "metadata": {},
   "outputs": [],
   "source": [
    "class ListNode:\n",
    "    \n",
    "    def __init__(self,val):\n",
    "        self.val = val\n",
    "        self.next = None\n",
    "\n",
    "class MyHashSet:\n",
    "    \n",
    "    def __init__(self,capacity):\n",
    "        self.capacity = capacity\n",
    "        self.data = [None] * capacity   \n",
    "        \n",
    "    def add(self,key):\n",
    "        a = MD5.new()\n",
    "        a.update(key.encode(\"utf-8\"))\n",
    "        val = int(a.hexdigest(),16)\n",
    "        rem = val % self.capacity\n",
    "        \n",
    "        for i in range(self.capacity):\n",
    "            if i == rem:\n",
    "                if self.data[i] == None:\n",
    "                    self.data[i] = ListNode(val)\n",
    "                else:\n",
    "                    temp = self.data[i]\n",
    "                    while temp.next != None:\n",
    "                        temp = temp.next\n",
    "                    temp.next = ListNode(val)\n",
    "    \n",
    "    def remove(self,key):\n",
    "        a = MD5.new()\n",
    "        a.update(key.encode(\"utf-8\"))\n",
    "        val = int(a.hexdigest(),16)\n",
    "        rem = val % self.capacity\n",
    "        \n",
    "        for i in range(self.capacity):\n",
    "            if i == rem:\n",
    "                \n",
    "                # case 1: linked list為空\n",
    "                \n",
    "                if self.data[i] == None:\n",
    "                    return False\n",
    "                \n",
    "                # case 2: val在head\n",
    "                \n",
    "                elif self.data[i].val == val:\n",
    "                    self.data[i] = self.data[i].next\n",
    "                    \n",
    "                #case 3: val不在head 且 next為空\n",
    "                    \n",
    "                else:\n",
    "                    if self.data[i].next == None:\n",
    "                        return False\n",
    "                    else:\n",
    "                        prev = self.data[i]\n",
    "                        remo = self.data[i].next\n",
    "                        while remo != None and remo.val != val:\n",
    "                            prev = remo\n",
    "                            remo = remo.next\n",
    "                        \n",
    "                #case 3-1: val不在head 也找不到          \n",
    "                    \n",
    "                    if remo == None:\n",
    "                        return False \n",
    "                    \n",
    "                #case 3-2: val在某個非head的位置\n",
    "                \n",
    "                    else:\n",
    "                        prev.next = remo.next\n",
    "                        remo = None\n",
    "                    \n",
    "    def pre(self):\n",
    "        for i in range(self.capacity):\n",
    "            temp = self.data[i]\n",
    "            count = 0\n",
    "            while temp is not None:\n",
    "                print(\"linked list\",i,\"index =\",count,\" = \",temp.val)\n",
    "                temp = temp.next\n",
    "                count += 1"
   ]
  },
  {
   "cell_type": "code",
   "execution_count": 2,
   "metadata": {},
   "outputs": [],
   "source": [
    "from Cryptodome.Hash import MD5"
   ]
  },
  {
   "cell_type": "code",
   "execution_count": 3,
   "metadata": {},
   "outputs": [],
   "source": [
    "a = MyHashSet(3)"
   ]
  },
  {
   "cell_type": "code",
   "execution_count": 4,
   "metadata": {},
   "outputs": [],
   "source": [
    "a.add(\"a\")\n",
    "a.add(\"b\")\n",
    "a.add(\"c\")\n",
    "a.add(\"e\")"
   ]
  },
  {
   "cell_type": "code",
   "execution_count": 5,
   "metadata": {},
   "outputs": [
    {
     "name": "stdout",
     "output_type": "stream",
     "text": [
      "linked list 1 index = 0  =  16955237001963240173058271559858726497\n",
      "linked list 1 index = 1  =  195289424170611159128911017612795795343\n",
      "linked list 1 index = 2  =  99079589977253916124855502156832923443\n",
      "linked list 1 index = 3  =  299611584147932843547128611849858313266\n"
     ]
    }
   ],
   "source": [
    "a.pre()"
   ]
  },
  {
   "cell_type": "code",
   "execution_count": 6,
   "metadata": {},
   "outputs": [],
   "source": [
    "a.remove(\"c\")"
   ]
  },
  {
   "cell_type": "code",
   "execution_count": 7,
   "metadata": {},
   "outputs": [
    {
     "name": "stdout",
     "output_type": "stream",
     "text": [
      "linked list 1 index = 0  =  16955237001963240173058271559858726497\n",
      "linked list 1 index = 1  =  195289424170611159128911017612795795343\n",
      "linked list 1 index = 2  =  299611584147932843547128611849858313266\n"
     ]
    }
   ],
   "source": [
    "a.pre()"
   ]
  },
  {
   "cell_type": "code",
   "execution_count": 8,
   "metadata": {},
   "outputs": [],
   "source": [
    "a.remove(\"e\")"
   ]
  },
  {
   "cell_type": "code",
   "execution_count": 9,
   "metadata": {},
   "outputs": [
    {
     "name": "stdout",
     "output_type": "stream",
     "text": [
      "linked list 1 index = 0  =  16955237001963240173058271559858726497\n",
      "linked list 1 index = 1  =  195289424170611159128911017612795795343\n"
     ]
    }
   ],
   "source": [
    "a.pre()"
   ]
  },
  {
   "cell_type": "code",
   "execution_count": 10,
   "metadata": {},
   "outputs": [
    {
     "data": {
      "text/plain": [
       "False"
      ]
     },
     "execution_count": 10,
     "metadata": {},
     "output_type": "execute_result"
    }
   ],
   "source": [
    "a.remove(\"d\")"
   ]
  },
  {
   "cell_type": "code",
   "execution_count": 11,
   "metadata": {},
   "outputs": [],
   "source": [
    "a.remove(\"a\")"
   ]
  },
  {
   "cell_type": "code",
   "execution_count": 12,
   "metadata": {},
   "outputs": [
    {
     "name": "stdout",
     "output_type": "stream",
     "text": [
      "linked list 1 index = 0  =  195289424170611159128911017612795795343\n"
     ]
    }
   ],
   "source": [
    "a.pre()"
   ]
  },
  {
   "cell_type": "markdown",
   "metadata": {},
   "source": [
    "目前看起來是沒問題，刪頭、刪中間、刪尾、找不到刪除的值，都可以正常的執行，且可以執行多次"
   ]
  },
  {
   "cell_type": "code",
   "execution_count": 1,
   "metadata": {},
   "outputs": [],
   "source": [
    "class ListNode:\n",
    "    \n",
    "    def __init__(self,val):\n",
    "        self.val = val\n",
    "        self.next = None\n",
    "\n",
    "class MyHashSet:\n",
    "    \n",
    "    def __init__(self,capacity):\n",
    "        self.capacity = capacity\n",
    "        self.data = [None] * capacity   \n",
    "        \n",
    "    def add(self,key):\n",
    "        a = MD5.new()\n",
    "        a.update(key.encode(\"utf-8\"))\n",
    "        val = int(a.hexdigest(),16)\n",
    "        rem = val % self.capacity\n",
    "        \n",
    "        if self.data[rem] == None:\n",
    "            self.data[rem] = ListNode(val)\n",
    "        else:\n",
    "            temp = self.data[rem]\n",
    "            while temp.next != None:\n",
    "                temp = temp.next\n",
    "            temp.next = ListNode(val)\n",
    "    \n",
    "    def remove(self,key):\n",
    "        a = MD5.new()\n",
    "        a.update(key.encode(\"utf-8\"))\n",
    "        val = int(a.hexdigest(),16)\n",
    "        rem = val % self.capacity\n",
    "\n",
    "                \n",
    "        # case 1: linked list為空\n",
    "\n",
    "        if self.data[rem] == None:\n",
    "            return False\n",
    "\n",
    "        # case 2: val在head\n",
    "\n",
    "        elif self.data[rem].val == val:\n",
    "            self.data[rem] = self.data[rem].next\n",
    "\n",
    "        #case 3: val不在head 且 next為空\n",
    "\n",
    "        else:\n",
    "            if self.data[rem].next == None:\n",
    "                return False\n",
    "            else:\n",
    "                prev = self.data[rem]\n",
    "                remo = self.data[rem].next\n",
    "                while remo != None and remo.val != val:\n",
    "                    prev = remo\n",
    "                    remo = remo.next\n",
    "\n",
    "        #case 3-1: val不在head 也找不到          \n",
    "\n",
    "            if remo == None:\n",
    "                return False \n",
    "\n",
    "        #case 3-2: val在某個非head的位置\n",
    "\n",
    "            else:\n",
    "                prev.next = remo.next\n",
    "                remo = None\n",
    "                        \n",
    "    def contains(self,key):\n",
    "        a = MD5.new()\n",
    "        a.update(key.encode(\"utf-8\"))\n",
    "        val = int(a.hexdigest(),16)\n",
    "        rem = val % self.capacity\n",
    "        \n",
    "        # case 1: linked list為空\n",
    "                \n",
    "        if self.data[rem] == None:\n",
    "            return False\n",
    "\n",
    "        # case 2: val在head\n",
    "\n",
    "        elif self.data[rem].val == val:\n",
    "            return True\n",
    "\n",
    "        #case 3: val不在head 且 next為空\n",
    "\n",
    "        else:\n",
    "            if self.data[rem].next == None:\n",
    "                return False\n",
    "            else:\n",
    "                prev = self.data[rem]\n",
    "                remo = self.data[rem].next\n",
    "                while remo != None and remo.val != val:\n",
    "                    prev = remo\n",
    "                    remo = remo.next\n",
    "\n",
    "        #case 3-1: val不在head 也找不到          \n",
    "\n",
    "            if remo == None:\n",
    "                return False \n",
    "\n",
    "        #case 3-2: val在某個非head的位置\n",
    "\n",
    "            else:\n",
    "                return True\n",
    "                    \n",
    "    def pre(self):\n",
    "        for i in range(self.capacity):\n",
    "            temp = self.data[i]\n",
    "            count = 0\n",
    "            while temp is not None:\n",
    "                print(\"linked list\",i,\"index =\",count,\" = \",temp.val)\n",
    "                temp = temp.next\n",
    "                count += 1"
   ]
  },
  {
   "cell_type": "code",
   "execution_count": 2,
   "metadata": {},
   "outputs": [],
   "source": [
    "from Cryptodome.Hash import MD5"
   ]
  },
  {
   "cell_type": "code",
   "execution_count": 3,
   "metadata": {},
   "outputs": [],
   "source": [
    "a = MyHashSet(3)"
   ]
  },
  {
   "cell_type": "code",
   "execution_count": 4,
   "metadata": {},
   "outputs": [],
   "source": [
    "a.add(\"a\")\n",
    "a.add(\"b\")\n",
    "a.add(\"c\")\n",
    "a.add(\"e\")"
   ]
  },
  {
   "cell_type": "code",
   "execution_count": 5,
   "metadata": {},
   "outputs": [
    {
     "data": {
      "text/plain": [
       "True"
      ]
     },
     "execution_count": 5,
     "metadata": {},
     "output_type": "execute_result"
    }
   ],
   "source": [
    "a.contains(\"a\")"
   ]
  },
  {
   "cell_type": "code",
   "execution_count": 6,
   "metadata": {},
   "outputs": [
    {
     "data": {
      "text/plain": [
       "True"
      ]
     },
     "execution_count": 6,
     "metadata": {},
     "output_type": "execute_result"
    }
   ],
   "source": [
    "a.contains(\"b\")"
   ]
  },
  {
   "cell_type": "code",
   "execution_count": 7,
   "metadata": {},
   "outputs": [
    {
     "data": {
      "text/plain": [
       "True"
      ]
     },
     "execution_count": 7,
     "metadata": {},
     "output_type": "execute_result"
    }
   ],
   "source": [
    "a.contains(\"c\")"
   ]
  },
  {
   "cell_type": "code",
   "execution_count": 8,
   "metadata": {},
   "outputs": [
    {
     "data": {
      "text/plain": [
       "True"
      ]
     },
     "execution_count": 8,
     "metadata": {},
     "output_type": "execute_result"
    }
   ],
   "source": [
    "a.contains(\"e\")"
   ]
  },
  {
   "cell_type": "code",
   "execution_count": 9,
   "metadata": {},
   "outputs": [
    {
     "data": {
      "text/plain": [
       "False"
      ]
     },
     "execution_count": 9,
     "metadata": {},
     "output_type": "execute_result"
    }
   ],
   "source": [
    "a.contains(\"d\")"
   ]
  },
  {
   "cell_type": "markdown",
   "metadata": {},
   "source": [
    "11/30更新，助教說如果add相同的key進去兩次，linked list可以只要記錄一次就好，這樣remove的部分也比較輕鬆\n",
    "\n",
    "簡單講就是跟上次的BST很像，remove過後的key不可以再被contains搜尋到，這樣就ok了~"
   ]
  },
  {
   "cell_type": "code",
   "execution_count": 1,
   "metadata": {},
   "outputs": [],
   "source": [
    "from Cryptodome.Hash import MD5"
   ]
  },
  {
   "cell_type": "code",
   "execution_count": 1,
   "metadata": {},
   "outputs": [],
   "source": [
    "class ListNode:\n",
    "    \n",
    "    def __init__(self,val):\n",
    "        self.val = val\n",
    "        self.next = None\n",
    "\n",
    "class MyHashSet:\n",
    "    \n",
    "    def __init__(self,capacity = 5):\n",
    "        self.capacity = capacity\n",
    "        self.data = [None] * capacity   \n",
    "        \n",
    "    def add(self,key):\n",
    "        a = MD5.new()\n",
    "        a.update(key.encode(\"utf-8\"))\n",
    "        val = int(a.hexdigest(),16)\n",
    "        rem = val % self.capacity\n",
    "        \n",
    "        if self.data[rem] == None:\n",
    "            self.data[rem] = ListNode(val)\n",
    "        else:\n",
    "            det = True\n",
    "            if self.data[rem].val == val:\n",
    "                det = False\n",
    "            if det:              \n",
    "                temp = self.data[rem]\n",
    "                while temp.next != None and temp.next.val != val:\n",
    "                    temp = temp.next\n",
    "                if temp.next == None:\n",
    "                    temp.next = ListNode(val)\n",
    "    \n",
    "    def remove(self,key):\n",
    "        a = MD5.new()\n",
    "        a.update(key.encode(\"utf-8\"))\n",
    "        val = int(a.hexdigest(),16)\n",
    "        rem = val % self.capacity\n",
    "                \n",
    "        # case 1: linked list為空\n",
    "\n",
    "        if self.data[rem] == None:\n",
    "            pass\n",
    "\n",
    "        # case 2: val在head\n",
    "\n",
    "        elif self.data[rem].val == val:\n",
    "            self.data[rem] = self.data[rem].next\n",
    "\n",
    "        #case 3: val不在head 且 next為空\n",
    "\n",
    "        else:\n",
    "            if self.data[rem].next == None:\n",
    "                pass\n",
    "            else:\n",
    "                prev = self.data[rem]\n",
    "                remo = self.data[rem].next\n",
    "                while remo != None and remo.val != val:\n",
    "                    prev = remo\n",
    "                    remo = remo.next\n",
    "\n",
    "        #case 3-1: val不在head 也找不到          \n",
    "\n",
    "                if remo == None:\n",
    "                    pass \n",
    "\n",
    "        #case 3-2: val在某個非head的位置\n",
    "\n",
    "                else:\n",
    "                    prev.next = remo.next\n",
    "                    remo = None\n",
    "                        \n",
    "    def contains(self,key):\n",
    "        a = MD5.new()\n",
    "        a.update(key.encode(\"utf-8\"))\n",
    "        val = int(a.hexdigest(),16)\n",
    "        rem = val % self.capacity\n",
    "        \n",
    "        # case 1: linked list為空\n",
    "                \n",
    "        if self.data[rem] == None:\n",
    "            return False\n",
    "\n",
    "        # case 2: val在head\n",
    "\n",
    "        elif self.data[rem].val == val:\n",
    "            return True\n",
    "\n",
    "        #case 3: val不在head 且 next為空\n",
    "\n",
    "        else:\n",
    "            if self.data[rem].next == None:\n",
    "                return False\n",
    "            else:\n",
    "                prev = self.data[rem]\n",
    "                remo = self.data[rem].next\n",
    "                while remo != None and remo.val != val:\n",
    "                    prev = remo\n",
    "                    remo = remo.next\n",
    "\n",
    "        #case 3-1: val不在head 也找不到          \n",
    "\n",
    "                if remo == None:\n",
    "                    return False \n",
    "\n",
    "        #case 3-2: val在某個非head的位置\n",
    "\n",
    "                else:\n",
    "                    return True\n",
    "                    \n",
    "    def pre(self):\n",
    "        for i in range(self.capacity):\n",
    "            temp = self.data[i]\n",
    "            count = 0\n",
    "            while temp is not None:\n",
    "                print(\"linked list\",i,\"index =\",count,\" = \",temp.val)\n",
    "                temp = temp.next\n",
    "                count += 1\n",
    "\n",
    "#參考資料:\n",
    "\n",
    "#https://www.youtube.com/watch?v=aZVNWYSR_sY\n",
    "\n",
    "#https://www.youtube.com/watch?v=2BldESGZKB8\n",
    "\n",
    "#https://github.com/timvandermeij/md5.py/blob/master/md5.py\n",
    "\n",
    "#http://alrightchiu.github.io/SecondRound/hash-tableintrojian-jie.html\n",
    "\n",
    "#https://hackmd.io/@EW34LLeXTra2Oikg0WEQ5Q/HJln3jU_e?type=view"
   ]
  },
  {
   "cell_type": "code",
   "execution_count": 3,
   "metadata": {},
   "outputs": [],
   "source": [
    "a = MyHashSet(3)"
   ]
  },
  {
   "cell_type": "code",
   "execution_count": 4,
   "metadata": {},
   "outputs": [],
   "source": [
    "a.add(\"a\")\n",
    "a.add(\"b\")\n",
    "a.add(\"c\")\n",
    "a.add(\"e\")"
   ]
  },
  {
   "cell_type": "code",
   "execution_count": 6,
   "metadata": {},
   "outputs": [
    {
     "name": "stdout",
     "output_type": "stream",
     "text": [
      "True\n"
     ]
    }
   ],
   "source": [
    "print(a.contains(\"a\")==a.contains(\"b\")==a.contains(\"c\")==a.contains(\"e\"))"
   ]
  },
  {
   "cell_type": "code",
   "execution_count": 7,
   "metadata": {},
   "outputs": [
    {
     "data": {
      "text/plain": [
       "False"
      ]
     },
     "execution_count": 7,
     "metadata": {},
     "output_type": "execute_result"
    }
   ],
   "source": [
    "a.contains(\"d\")"
   ]
  },
  {
   "cell_type": "code",
   "execution_count": 8,
   "metadata": {},
   "outputs": [
    {
     "name": "stdout",
     "output_type": "stream",
     "text": [
      "linked list 1 index = 0  =  16955237001963240173058271559858726497\n",
      "linked list 1 index = 1  =  195289424170611159128911017612795795343\n",
      "linked list 1 index = 2  =  99079589977253916124855502156832923443\n",
      "linked list 1 index = 3  =  299611584147932843547128611849858313266\n"
     ]
    }
   ],
   "source": [
    "a.pre()"
   ]
  },
  {
   "cell_type": "code",
   "execution_count": 9,
   "metadata": {},
   "outputs": [],
   "source": [
    "a.remove(\"f\")"
   ]
  },
  {
   "cell_type": "code",
   "execution_count": 10,
   "metadata": {},
   "outputs": [
    {
     "name": "stdout",
     "output_type": "stream",
     "text": [
      "linked list 1 index = 0  =  16955237001963240173058271559858726497\n",
      "linked list 1 index = 1  =  195289424170611159128911017612795795343\n",
      "linked list 1 index = 2  =  99079589977253916124855502156832923443\n",
      "linked list 1 index = 3  =  299611584147932843547128611849858313266\n"
     ]
    }
   ],
   "source": [
    "a.pre()"
   ]
  },
  {
   "cell_type": "code",
   "execution_count": 11,
   "metadata": {},
   "outputs": [],
   "source": [
    "a.remove(\"e\")"
   ]
  },
  {
   "cell_type": "code",
   "execution_count": 12,
   "metadata": {},
   "outputs": [
    {
     "name": "stdout",
     "output_type": "stream",
     "text": [
      "linked list 1 index = 0  =  16955237001963240173058271559858726497\n",
      "linked list 1 index = 1  =  195289424170611159128911017612795795343\n",
      "linked list 1 index = 2  =  99079589977253916124855502156832923443\n"
     ]
    }
   ],
   "source": [
    "a.pre()"
   ]
  },
  {
   "cell_type": "code",
   "execution_count": 1,
   "metadata": {},
   "outputs": [
    {
     "data": {
      "text/html": [
       "<img src=\"https://github.com/samuel871211/My-python-code/blob/master/week6/1.jpg?raw=true\" width=\"1000\" height=\"1000\"/>"
      ],
      "text/plain": [
       "<IPython.core.display.Image object>"
      ]
     },
     "execution_count": 1,
     "metadata": {},
     "output_type": "execute_result"
    }
   ],
   "source": [
    "from IPython.display import Image\n",
    "from IPython.core.display import HTML\n",
    "Image(url=\"https://github.com/samuel871211/My-python-code/blob/master/week6/1.jpg?raw=true\"  ,width = 1000,height = 1000)"
   ]
  },
  {
   "cell_type": "code",
   "execution_count": 2,
   "metadata": {},
   "outputs": [
    {
     "data": {
      "text/html": [
       "<img src=\"https://github.com/samuel871211/My-python-code/blob/master/week6/2.jpg?raw=true\" width=\"1000\" height=\"1000\"/>"
      ],
      "text/plain": [
       "<IPython.core.display.Image object>"
      ]
     },
     "execution_count": 2,
     "metadata": {},
     "output_type": "execute_result"
    }
   ],
   "source": [
    "from IPython.display import Image\n",
    "from IPython.core.display import HTML\n",
    "Image(url=\"https://github.com/samuel871211/My-python-code/blob/master/week6/2.jpg?raw=true\"  ,width = 1000,height = 1000)"
   ]
  },
  {
   "cell_type": "markdown",
   "metadata": {},
   "source": [
    "這次的hash table，經過之前linked list跟BST的洗禮之後，我們只花了一天的時間就把程式碼實現了，非常的開心~\n",
    "\n",
    "有一種很不真實的感覺，原來把邏輯轉換成程式碼是這麼直覺的事情，由於語法已經很熟了，所以幾乎不用思考要怎麼寫\n",
    "\n",
    "DEBUG的部分也不會覺得心慌了，就是用平常心來面對ERROR，而且過去兩個月錯誤的累積，讓我現在DEBUG能力變得更強了\n",
    "\n",
    "而且我跟我姊姊也越來越有默契了，以前常常我解釋了很久她都聽不太懂，或是我跟她講我的邏輯、想法，她不能馬上領悟\n",
    "\n",
    "可是11/24我們一起寫程式的時候，我幾乎不用跟她解釋太多，我把我的邏輯跟她講，她馬上就能理解我的意思\n",
    "\n",
    "我們互相沒有看彼此的程式碼，但是我們寫出來的東西在某些程度真的是非常的相似XDD 感覺那個邏輯腦已經被同化了\n",
    "\n",
    "當然，在某些地方，姊姊還是保有她獨特的風格，在上次BST的作業中，我也發現到我們兩個都有共同的盲點，部分邏輯沒有考慮進去\n",
    "\n",
    "希望未來的作業也能互相砥礪，一起慢慢的找出彼此邏輯的盲點，這次hash table我們都覺得不難(還好之前linked list有學好XDD)"
   ]
  }
 ],
 "metadata": {
  "kernelspec": {
   "display_name": "Python 3",
   "language": "python",
   "name": "python3"
  },
  "language_info": {
   "codemirror_mode": {
    "name": "ipython",
    "version": 3
   },
   "file_extension": ".py",
   "mimetype": "text/x-python",
   "name": "python",
   "nbconvert_exporter": "python",
   "pygments_lexer": "ipython3",
   "version": "3.7.4"
  }
 },
 "nbformat": 4,
 "nbformat_minor": 2
}
