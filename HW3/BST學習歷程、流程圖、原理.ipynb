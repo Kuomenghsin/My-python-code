{
 "cells": [
  {
   "cell_type": "markdown",
   "metadata": {},
   "source": [
    "參考網站：https://www.youtube.com/watch?v=YlgPi75hIBc&t\n",
    "\n",
    "參考部分：insert、search、traversal的程式碼\n",
    "\n",
    "11/2首次開始建立BT\n",
    "\n",
    "11/3因為對於BinaryTree(BT)的概念很模糊，所以先來研究BinarySearchTree(BT)\n",
    "\n",
    "11/7有詢問助教關於BT的建構邏輯\n",
    "\n",
    "參考網站：https://www.geeksforgeeks.org/binary-search-tree-set-1-search-and-insertion/\n",
    "\n",
    "參考部分：r = Node(50)  insert(r,Node(30))  insert(r,Node(20))   \n",
    "\n",
    "簡單講就是先建立一個root(根節點)，之後insert就是以那個root為基礎\n",
    "\n",
    "11/11看了助教的作業批改程式碼格式，我剛開始有點搞不好為什麼insert函式裡面要輸入root跟val，不是只要輸入val就好了嗎\n",
    "\n",
    "於是上網找了一些相關的資料，看一下有沒有相關的程式碼也是需要輸入root跟val的版本\n",
    "\n",
    "當我看到這篇的時候，我整個就是茅塞頓開！這樣子的方式就可以把所有heavy lifting搬到同一個insert函式底下進行recursive呼叫了\n",
    "\n",
    "就像我之前說的，每次進行recursive，如果class底下有init，就會重新初始化一次，所以我之前的寫法在BST底下init\n",
    "\n",
    "包含 size = 0 跟 root = None，所以我就不能在BST底下進行recursive呼叫，然後又都用size跟root來進行邏輯判斷\n",
    "\n",
    "所以之前才會把所有的heavy lifting搬到Node底下來做事，由於Node的init是節點的屬性(value,leftchild,rightchild)\n",
    "\n",
    "所以這邊就可以進行recursive呼叫，在給予新值(想要insert的值)三個BST節點的屬性，之後就可以用那三個屬性來進行compare惹"
   ]
  },
  {
   "cell_type": "code",
   "execution_count": 8,
   "metadata": {},
   "outputs": [],
   "source": [
    "class dog:\n",
    "    def __init__(self,name,weight,height,age):\n",
    "        self.name = name\n",
    "        self.weight = weight\n",
    "        self.height = height\n",
    "        self.age = age"
   ]
  },
  {
   "cell_type": "code",
   "execution_count": 2,
   "metadata": {},
   "outputs": [],
   "source": [
    "mydog = dog(\"wanwanouo\",50,100,5)"
   ]
  },
  {
   "cell_type": "code",
   "execution_count": 3,
   "metadata": {},
   "outputs": [
    {
     "data": {
      "text/plain": [
       "50"
      ]
     },
     "execution_count": 3,
     "metadata": {},
     "output_type": "execute_result"
    }
   ],
   "source": [
    "mydog.weight "
   ]
  },
  {
   "cell_type": "markdown",
   "metadata": {},
   "source": [
    "由於剛開始在建BST的時候，對於class的概念非常的模糊，error實在多到不行，所以先建立一個簡易的class來了解概念\n",
    "\n",
    "這邊我們創建的mydog會先呼叫class dog，之後把值輸入，這時候mydog就會具有.name .weight .height .age的屬性(attribute)"
   ]
  },
  {
   "cell_type": "code",
   "execution_count": 4,
   "metadata": {},
   "outputs": [],
   "source": [
    "class Node:\n",
    "    def __init__(self,val):\n",
    "        self.value = val\n",
    "        self.leftchild = None\n",
    "        self.rightchild = None\n",
    "\n",
    "class BST:\n",
    "    def __init__(self):\n",
    "        self.root = None\n",
    "        self.size = 0"
   ]
  },
  {
   "cell_type": "markdown",
   "metadata": {},
   "source": [
    "依照當初建的linked list所延伸出來的基礎設定，不管建BT還是BST都是用這套邏輯，只有class名稱要修改而已~"
   ]
  },
  {
   "cell_type": "code",
   "execution_count": 5,
   "metadata": {},
   "outputs": [],
   "source": [
    "class Node:\n",
    "    def __init__(self,val):\n",
    "        self.val = val\n",
    "        self.next = None #每個節點(包含新增的節點)的主要兩個元素就是val跟next\n",
    "        \n",
    "class MyLinkedList:\n",
    "    def addAtHead(self, val: int) -> None:\n",
    "        newHead = Node(val) #這邊我們呼叫Node來幫我們創建一個新的節點，節點的值就是使用者在呼叫AddAtHead時輸入的值"
   ]
  },
  {
   "cell_type": "code",
   "execution_count": 1,
   "metadata": {},
   "outputs": [],
   "source": [
    "class Node:\n",
    "    def __init__(self,val):\n",
    "        self.value = val\n",
    "        self.leftchild = None\n",
    "        self.rightchild = None\n",
    "        \n",
    "    def insert_Helper(self,val):\n",
    "        if self.value == val: #不給插入\n",
    "            return False \n",
    "        elif self.value > val: #往左邊\n",
    "            if self.leftchild == None:\n",
    "                self.leftchild = Node(val)\n",
    "            else: #self.leftchild is not None:\n",
    "                return self.leftchild.insert(val)\n",
    "            return True       \n",
    "        else: #self.value < val: #往右邊\n",
    "            if self.rightchild == None:\n",
    "                self.rightchild = Node(val)\n",
    "            else: #self.rightchild is not None:\n",
    "                return self.rightchild.insert(val)\n",
    "            return True \n",
    "\n",
    "class BST:\n",
    "    def __init__(self):\n",
    "        self.root = None\n",
    "    \n",
    "    def insert(self,val):\n",
    "        if self.root == None:\n",
    "            self.root = Node(val)\n",
    "            return True\n",
    "        else: #self.root is not None\n",
    "            return self.root.insert_Helper(val)"
   ]
  },
  {
   "cell_type": "code",
   "execution_count": 2,
   "metadata": {},
   "outputs": [],
   "source": [
    "test1 = BST()"
   ]
  },
  {
   "cell_type": "code",
   "execution_count": 3,
   "metadata": {},
   "outputs": [
    {
     "data": {
      "text/plain": [
       "True"
      ]
     },
     "execution_count": 3,
     "metadata": {},
     "output_type": "execute_result"
    }
   ],
   "source": [
    "test1.insert(10)"
   ]
  },
  {
   "cell_type": "code",
   "execution_count": 4,
   "metadata": {},
   "outputs": [
    {
     "data": {
      "text/plain": [
       "True"
      ]
     },
     "execution_count": 4,
     "metadata": {},
     "output_type": "execute_result"
    }
   ],
   "source": [
    "test1.insert(11)"
   ]
  },
  {
   "cell_type": "code",
   "execution_count": 5,
   "metadata": {},
   "outputs": [
    {
     "data": {
      "text/plain": [
       "True"
      ]
     },
     "execution_count": 5,
     "metadata": {},
     "output_type": "execute_result"
    }
   ],
   "source": [
    "test1.insert(9)"
   ]
  },
  {
   "cell_type": "code",
   "execution_count": 6,
   "metadata": {},
   "outputs": [
    {
     "data": {
      "text/plain": [
       "False"
      ]
     },
     "execution_count": 6,
     "metadata": {},
     "output_type": "execute_result"
    }
   ],
   "source": [
    "test1.insert(10)"
   ]
  },
  {
   "cell_type": "markdown",
   "metadata": {},
   "source": [
    "目前insert部分的程式碼算是沒問題~ 11/9來建構find的部分"
   ]
  },
  {
   "cell_type": "code",
   "execution_count": 7,
   "metadata": {},
   "outputs": [],
   "source": [
    "class Node:\n",
    "    def __init__(self,val):\n",
    "        self.value = val\n",
    "        self.leftchild = None\n",
    "        self.rightchild = None\n",
    "        \n",
    "    def insert_Helper(self,val):\n",
    "        if self.value == val: #不給插入\n",
    "            return False \n",
    "        elif self.value > val: #往左邊\n",
    "            if self.leftchild == None:\n",
    "                self.leftchild = Node(val)\n",
    "            else: #self.leftchild is not None:\n",
    "                return self.leftchild.insert(val)\n",
    "            return True       \n",
    "        else: #self.value < val: #往右邊\n",
    "            if self.rightchild == None:\n",
    "                self.rightchild = Node(val)\n",
    "            else: #self.rightchild is not None:\n",
    "                return self.rightchild.insert(val)\n",
    "            return True \n",
    "    \n",
    "    def find_Helper(self,val):\n",
    "        if self.value == val:\n",
    "            return True\n",
    "        elif self.value > val:\n",
    "            if self.leftchild is not None:\n",
    "                return self.leftchild.find_Helper(val)\n",
    "            else:\n",
    "                return False\n",
    "        else:\n",
    "            if self.rightchild is not None:\n",
    "                return self.rightchild.find_Helper(val)\n",
    "            else:\n",
    "                return False\n",
    "\n",
    "class BST:\n",
    "    def __init__(self):\n",
    "        self.root = None\n",
    "#         self.size = 0\n",
    "    \n",
    "    def insert(self,val):\n",
    "        if self.root == None:\n",
    "            self.root = Node(val)\n",
    "            return True\n",
    "        else: #self.root is not None\n",
    "            return self.root.insert_Helper(val)\n",
    "    \n",
    "    def find(self,val):\n",
    "        if self.root == None:\n",
    "            return False\n",
    "        else:\n",
    "            return self.root.find_Helper(val)"
   ]
  },
  {
   "cell_type": "code",
   "execution_count": 8,
   "metadata": {},
   "outputs": [],
   "source": [
    "test2 = BST()"
   ]
  },
  {
   "cell_type": "code",
   "execution_count": 9,
   "metadata": {},
   "outputs": [
    {
     "data": {
      "text/plain": [
       "True"
      ]
     },
     "execution_count": 9,
     "metadata": {},
     "output_type": "execute_result"
    }
   ],
   "source": [
    "test2.insert(10)"
   ]
  },
  {
   "cell_type": "code",
   "execution_count": 10,
   "metadata": {},
   "outputs": [
    {
     "data": {
      "text/plain": [
       "True"
      ]
     },
     "execution_count": 10,
     "metadata": {},
     "output_type": "execute_result"
    }
   ],
   "source": [
    "test2.insert(11)"
   ]
  },
  {
   "cell_type": "code",
   "execution_count": 11,
   "metadata": {},
   "outputs": [
    {
     "data": {
      "text/plain": [
       "True"
      ]
     },
     "execution_count": 11,
     "metadata": {},
     "output_type": "execute_result"
    }
   ],
   "source": [
    "test2.find(10)"
   ]
  },
  {
   "cell_type": "code",
   "execution_count": 12,
   "metadata": {},
   "outputs": [
    {
     "data": {
      "text/plain": [
       "True"
      ]
     },
     "execution_count": 12,
     "metadata": {},
     "output_type": "execute_result"
    }
   ],
   "source": [
    "test2.find(11)"
   ]
  },
  {
   "cell_type": "code",
   "execution_count": 13,
   "metadata": {},
   "outputs": [
    {
     "data": {
      "text/plain": [
       "False"
      ]
     },
     "execution_count": 13,
     "metadata": {},
     "output_type": "execute_result"
    }
   ],
   "source": [
    "test2.find(9)"
   ]
  },
  {
   "cell_type": "markdown",
   "metadata": {},
   "source": [
    "沒問題~find部分比較簡單，跟insert一樣會進行recursive的呼叫"
   ]
  },
  {
   "cell_type": "markdown",
   "metadata": {},
   "source": [
    "11/9新增一個邏輯概念：\n",
    "\n",
    "如果今天我想把修改BST其中一個節點的值，例如10改成13，我不能直接改，因為我不能確定改完之後還會符合BST的規則\n",
    "\n",
    "所以謹慎的做法是先remove再insert，當然我之後也可以再建一個replace函式，它會先呼叫remove再呼叫insert，這樣似乎可行\n",
    "\n",
    "remove需要考慮的case真的很多，從最簡單的開始的話\n",
    "\n",
    "case1：self.root == None return False\n",
    "\n",
    "case2：刪除的值在根節點(底下要分很多個if來寫)\n",
    "\n",
    "case3：刪除的值在葉節點，直接刪除\n",
    "\n",
    "case4：刪除的值只有left child\n",
    "\n",
    "case5：刪除的值只有right child\n",
    "\n",
    "case6：left right child同時存在\n",
    "\n",
    "先建構traversal走訪，才能確認remove後的BST有符合規則"
   ]
  },
  {
   "cell_type": "code",
   "execution_count": 14,
   "metadata": {},
   "outputs": [],
   "source": [
    "class Node:\n",
    "    def __init__(self,val):\n",
    "        self.value = val\n",
    "        self.leftchild = None\n",
    "        self.rightchild = None\n",
    "        \n",
    "    def insert_Helper(self,val):\n",
    "        if self.value == val: #不給插入\n",
    "            return False \n",
    "        elif self.value > val: #往左邊\n",
    "            if self.leftchild == None:\n",
    "                self.leftchild = Node(val)\n",
    "            else: #self.leftchild is not None:\n",
    "                return self.leftchild.insert_Helper(val)\n",
    "            return True       \n",
    "        else: #self.value < val: #往右邊\n",
    "            if self.rightchild == None:\n",
    "                self.rightchild = Node(val)\n",
    "            else: #self.rightchild is not None:\n",
    "                return self.rightchild.insert_Helper(val)\n",
    "            return True \n",
    "    \n",
    "    def find_Helper(self,val):\n",
    "        if self.value == val:\n",
    "            return True\n",
    "        elif self.value > val:\n",
    "            if self.leftchild is not None:\n",
    "                return self.leftchild.find_Helper(val)\n",
    "            else:\n",
    "                return False\n",
    "        else:\n",
    "            if self.rightchild is not None:\n",
    "                return self.rightchild.find_Helper(val)\n",
    "            else:\n",
    "                return False\n",
    "    \n",
    "    def pre_order_Helper(self):\n",
    "        if self is not None:\n",
    "            print(self.value)\n",
    "            if self.leftchild is not None:\n",
    "                self.leftchild.pre_order_Helper()\n",
    "            if self.rightchild is not None:\n",
    "                self.rightchild.pre_order_Helper()\n",
    "            \n",
    "    def post_order_Helper(self):\n",
    "        if self is not None:\n",
    "            if self.leftchild is not None:\n",
    "                self.leftchild.post_order_Helper()\n",
    "            if self.rightchild is not None:\n",
    "                self.rightchild.post_order_Helper()\n",
    "            print(self.value)\n",
    "    \n",
    "    def in_order_Helper(self):\n",
    "        if self is not None:\n",
    "            if self.leftchild is not None:\n",
    "                self.leftchild.in_order_Helper()\n",
    "            print(self.value)\n",
    "            if self.rightchild is not None:\n",
    "                self.rightchild.in_order_Helper()\n",
    "\n",
    "class BST:\n",
    "    def __init__(self):\n",
    "        self.root = None\n",
    "    \n",
    "    def insert(self,val):\n",
    "        if self.root == None:\n",
    "            self.root = Node(val)\n",
    "            return True\n",
    "        else: #self.root is not None\n",
    "            return self.root.insert_Helper(val)\n",
    "    \n",
    "    def find(self,val):\n",
    "        if self.root == None:\n",
    "            return False\n",
    "        else:\n",
    "            return self.root.find_Helper(val)\n",
    "        \n",
    "    def pre_order(self):\n",
    "        if self.root == None:\n",
    "            return False\n",
    "        else:\n",
    "            self.root.pre_order_Helper()\n",
    "        \n",
    "    def post_order(self):\n",
    "        if self.root == None:\n",
    "            return False\n",
    "        else:\n",
    "            self.root.post_order_Helper()\n",
    "        \n",
    "    def in_order(self):\n",
    "        if self.root == None:\n",
    "            return False\n",
    "        else:\n",
    "            self.root.in_order_Helper()"
   ]
  },
  {
   "cell_type": "code",
   "execution_count": 15,
   "metadata": {},
   "outputs": [],
   "source": [
    "test3 = BST()"
   ]
  },
  {
   "cell_type": "code",
   "execution_count": 17,
   "metadata": {},
   "outputs": [
    {
     "data": {
      "text/plain": [
       "False"
      ]
     },
     "execution_count": 17,
     "metadata": {},
     "output_type": "execute_result"
    }
   ],
   "source": [
    "test3.pre_order()"
   ]
  },
  {
   "cell_type": "code",
   "execution_count": 18,
   "metadata": {},
   "outputs": [
    {
     "data": {
      "text/plain": [
       "False"
      ]
     },
     "execution_count": 18,
     "metadata": {},
     "output_type": "execute_result"
    }
   ],
   "source": [
    "test3.post_order()"
   ]
  },
  {
   "cell_type": "code",
   "execution_count": 19,
   "metadata": {},
   "outputs": [
    {
     "data": {
      "text/plain": [
       "False"
      ]
     },
     "execution_count": 19,
     "metadata": {},
     "output_type": "execute_result"
    }
   ],
   "source": [
    "test3.in_order()"
   ]
  },
  {
   "cell_type": "code",
   "execution_count": 20,
   "metadata": {},
   "outputs": [
    {
     "data": {
      "text/plain": [
       "True"
      ]
     },
     "execution_count": 20,
     "metadata": {},
     "output_type": "execute_result"
    }
   ],
   "source": [
    "test3.insert(10)"
   ]
  },
  {
   "cell_type": "code",
   "execution_count": 21,
   "metadata": {},
   "outputs": [
    {
     "data": {
      "text/plain": [
       "True"
      ]
     },
     "execution_count": 21,
     "metadata": {},
     "output_type": "execute_result"
    }
   ],
   "source": [
    "test3.insert(8)"
   ]
  },
  {
   "cell_type": "code",
   "execution_count": 22,
   "metadata": {},
   "outputs": [
    {
     "data": {
      "text/plain": [
       "True"
      ]
     },
     "execution_count": 22,
     "metadata": {},
     "output_type": "execute_result"
    }
   ],
   "source": [
    "test3.insert(9)"
   ]
  },
  {
   "cell_type": "code",
   "execution_count": 23,
   "metadata": {},
   "outputs": [
    {
     "data": {
      "text/plain": [
       "True"
      ]
     },
     "execution_count": 23,
     "metadata": {},
     "output_type": "execute_result"
    }
   ],
   "source": [
    "test3.insert(12)"
   ]
  },
  {
   "cell_type": "code",
   "execution_count": 24,
   "metadata": {},
   "outputs": [
    {
     "data": {
      "text/plain": [
       "True"
      ]
     },
     "execution_count": 24,
     "metadata": {},
     "output_type": "execute_result"
    }
   ],
   "source": [
    "test3.insert(15)"
   ]
  },
  {
   "cell_type": "code",
   "execution_count": 25,
   "metadata": {},
   "outputs": [
    {
     "data": {
      "text/plain": [
       "True"
      ]
     },
     "execution_count": 25,
     "metadata": {},
     "output_type": "execute_result"
    }
   ],
   "source": [
    "test3.insert(14)"
   ]
  },
  {
   "cell_type": "code",
   "execution_count": 26,
   "metadata": {},
   "outputs": [
    {
     "data": {
      "text/plain": [
       "True"
      ]
     },
     "execution_count": 26,
     "metadata": {},
     "output_type": "execute_result"
    }
   ],
   "source": [
    "test3.insert(19)"
   ]
  },
  {
   "cell_type": "code",
   "execution_count": 27,
   "metadata": {},
   "outputs": [
    {
     "data": {
      "text/plain": [
       "True"
      ]
     },
     "execution_count": 27,
     "metadata": {},
     "output_type": "execute_result"
    }
   ],
   "source": [
    "test3.insert(17)"
   ]
  },
  {
   "cell_type": "code",
   "execution_count": 29,
   "metadata": {},
   "outputs": [
    {
     "name": "stdout",
     "output_type": "stream",
     "text": [
      "10\n",
      "8\n",
      "9\n",
      "12\n",
      "15\n",
      "14\n",
      "19\n",
      "17\n"
     ]
    }
   ],
   "source": [
    "test3.pre_order()"
   ]
  },
  {
   "cell_type": "code",
   "execution_count": 30,
   "metadata": {},
   "outputs": [
    {
     "name": "stdout",
     "output_type": "stream",
     "text": [
      "9\n",
      "8\n",
      "14\n",
      "17\n",
      "19\n",
      "15\n",
      "12\n",
      "10\n"
     ]
    }
   ],
   "source": [
    "test3.post_order()"
   ]
  },
  {
   "cell_type": "code",
   "execution_count": 31,
   "metadata": {},
   "outputs": [
    {
     "name": "stdout",
     "output_type": "stream",
     "text": [
      "8\n",
      "9\n",
      "10\n",
      "12\n",
      "14\n",
      "15\n",
      "17\n",
      "19\n"
     ]
    }
   ],
   "source": [
    "test3.in_order()"
   ]
  },
  {
   "cell_type": "markdown",
   "metadata": {},
   "source": [
    "目前走訪的部分沒問題~但是這個方式只有把值print出來，我如果希望能儲存到array裡面呢"
   ]
  },
  {
   "cell_type": "code",
   "execution_count": 35,
   "metadata": {},
   "outputs": [],
   "source": [
    "class Node:\n",
    "    def __init__(self,val):\n",
    "        self.value = val\n",
    "        self.leftchild = None\n",
    "        self.rightchild = None\n",
    "        \n",
    "    def insert_Helper(self,val):\n",
    "        if self.value == val: #不給插入\n",
    "            return False \n",
    "        elif self.value > val: #往左邊\n",
    "            if self.leftchild == None:\n",
    "                self.leftchild = Node(val)\n",
    "            else: #self.leftchild is not None:\n",
    "                return self.leftchild.insert_Helper(val)\n",
    "            return True       \n",
    "        else: #self.value < val: #往右邊\n",
    "            if self.rightchild == None:\n",
    "                self.rightchild = Node(val)\n",
    "            else: #self.rightchild is not None:\n",
    "                return self.rightchild.insert_Helper(val)\n",
    "            return True \n",
    "    \n",
    "    def find_Helper(self,val):\n",
    "        if self.value == val:\n",
    "            return True\n",
    "        elif self.value > val:\n",
    "            if self.leftchild is not None:\n",
    "                return self.leftchild.find_Helper(val)\n",
    "            else:\n",
    "                return False\n",
    "        else:\n",
    "            if self.rightchild is not None:\n",
    "                return self.rightchild.find_Helper(val)\n",
    "            else:\n",
    "                return False\n",
    "    \n",
    "    def pre_order_Helper(self,pre_order_Array):\n",
    "        if self is not None:\n",
    "            print(self.value)\n",
    "            pre_order_Array.append(self.value)\n",
    "            if self.leftchild is not None:\n",
    "                self.leftchild.pre_order_Helper(pre_order_Array)\n",
    "            if self.rightchild is not None:\n",
    "                self.rightchild.pre_order_Helper(pre_order_Array)\n",
    "        return pre_order_Array\n",
    "            \n",
    "    def post_order_Helper(self,post_order_Array):\n",
    "        if self is not None:\n",
    "            if self.leftchild is not None:\n",
    "                self.leftchild.post_order_Helper(post_order_Array)\n",
    "            if self.rightchild is not None:\n",
    "                self.rightchild.post_order_Helper(post_order_Array)\n",
    "            print(self.value)\n",
    "            post_order_Array.append(self.value)\n",
    "        return post_order_Array\n",
    "    \n",
    "    def in_order_Helper(self,in_order_Array):\n",
    "        if self is not None:\n",
    "            if self.leftchild is not None:\n",
    "                self.leftchild.in_order_Helper(in_order_Array)\n",
    "            print(self.value)\n",
    "            in_order_Array.append(self.value)\n",
    "            if self.rightchild is not None:\n",
    "                self.rightchild.in_order_Helper(in_order_Array)\n",
    "        return in_order_Array\n",
    "\n",
    "class BST:\n",
    "    def __init__(self):\n",
    "        self.root = None\n",
    "    \n",
    "    def insert(self,val):\n",
    "        if self.root == None:\n",
    "            self.root = Node(val)\n",
    "            return True\n",
    "        else: #self.root is not None\n",
    "            return self.root.insert_Helper(val)\n",
    "    \n",
    "    def find(self,val):\n",
    "        if self.root == None:\n",
    "            return False\n",
    "        else:\n",
    "            return self.root.find_Helper(val)\n",
    "        \n",
    "    def pre_order(self):\n",
    "        if self.root == None:\n",
    "            return False\n",
    "        else:\n",
    "            pre_order_Array = []\n",
    "            return self.root.pre_order_Helper(pre_order_Array)\n",
    "        \n",
    "    def post_order(self):\n",
    "        if self.root == None:\n",
    "            return False\n",
    "        else:\n",
    "            post_order_Array = []\n",
    "            return self.root.post_order_Helper(post_order_Array)\n",
    "        \n",
    "    def in_order(self):\n",
    "        if self.root == None:\n",
    "            return False\n",
    "        else:\n",
    "            in_order_Array = []\n",
    "            return self.root.in_order_Helper(in_order_Array)"
   ]
  },
  {
   "cell_type": "code",
   "execution_count": 36,
   "metadata": {},
   "outputs": [],
   "source": [
    "test4 = BST()"
   ]
  },
  {
   "cell_type": "code",
   "execution_count": 37,
   "metadata": {},
   "outputs": [
    {
     "data": {
      "text/plain": [
       "True"
      ]
     },
     "execution_count": 37,
     "metadata": {},
     "output_type": "execute_result"
    }
   ],
   "source": [
    "test4.insert(10)"
   ]
  },
  {
   "cell_type": "code",
   "execution_count": 38,
   "metadata": {},
   "outputs": [
    {
     "data": {
      "text/plain": [
       "True"
      ]
     },
     "execution_count": 38,
     "metadata": {},
     "output_type": "execute_result"
    }
   ],
   "source": [
    "test4.insert(12)"
   ]
  },
  {
   "cell_type": "code",
   "execution_count": 39,
   "metadata": {},
   "outputs": [
    {
     "data": {
      "text/plain": [
       "True"
      ]
     },
     "execution_count": 39,
     "metadata": {},
     "output_type": "execute_result"
    }
   ],
   "source": [
    "test4.insert(8)"
   ]
  },
  {
   "cell_type": "code",
   "execution_count": 40,
   "metadata": {},
   "outputs": [
    {
     "name": "stdout",
     "output_type": "stream",
     "text": [
      "10\n",
      "8\n",
      "12\n"
     ]
    },
    {
     "data": {
      "text/plain": [
       "[10, 8, 12]"
      ]
     },
     "execution_count": 40,
     "metadata": {},
     "output_type": "execute_result"
    }
   ],
   "source": [
    "test4.pre_order()"
   ]
  },
  {
   "cell_type": "markdown",
   "metadata": {},
   "source": [
    "其實如果都有辦法把走訪所有BST的節點，並且把值print出來的情況，要把值儲存到array其實也不難~\n",
    "\n",
    "要是有辦法直接用這個array來進行find的話...\n",
    "\n",
    "ㄟ不是，如果一般直接用find的情況，worst case的尋找次數也就只會等於BST的高度而已\n",
    "\n",
    "但我今天如果先走訪，再把find的val跟arr逐次進行比較，走訪總共就需要n次，find的val跟arr逐次進行比較average case也要n/2次\n",
    "\n",
    "在處理巨量資料的情況，這種每次都要呼叫traversal取得arr的方式根本是多此一舉，且不符合演算法的精神"
   ]
  },
  {
   "cell_type": "code",
   "execution_count": 43,
   "metadata": {},
   "outputs": [],
   "source": [
    "def find(val):\n",
    "    a = pre_order()\n",
    "    count = 0\n",
    "    while count < len(a):\n",
    "        if a[count] == val:\n",
    "            return True\n",
    "        else:  \n",
    "            count+=1\n",
    "    return False\n",
    "    \n",
    "def pre_order():\n",
    "    arr = [1,2,3,4,5]\n",
    "    return arr"
   ]
  },
  {
   "cell_type": "code",
   "execution_count": 44,
   "metadata": {},
   "outputs": [
    {
     "data": {
      "text/plain": [
       "True"
      ]
     },
     "execution_count": 44,
     "metadata": {},
     "output_type": "execute_result"
    }
   ],
   "source": [
    "find(5)"
   ]
  },
  {
   "cell_type": "code",
   "execution_count": 45,
   "metadata": {},
   "outputs": [
    {
     "data": {
      "text/plain": [
       "False"
      ]
     },
     "execution_count": 45,
     "metadata": {},
     "output_type": "execute_result"
    }
   ],
   "source": [
    "find(6)"
   ]
  },
  {
   "cell_type": "markdown",
   "metadata": {},
   "source": [
    "這邊我設立兩個測試用的函式，假設pre_order已經走訪完，return出來的arr = [1,2,3,4,5]\n",
    "\n",
    "這時要從find呼叫pre_order，取的arr之後，再用while迴圈的方式，一個一個跟val進行比較\n",
    "\n",
    "如果我要find(5)，我等於要走訪5次，再把val跟arr的元素比較5次，超級浪費時間的！\n",
    "\n",
    "如果直接用BST的邏輯來進行find，worst case只要走訪5次就能return True or False了\n",
    "\n",
    "11/10想針對insert原創性再進行一次重建，發現了一個小問題"
   ]
  },
  {
   "cell_type": "code",
   "execution_count": 1,
   "metadata": {},
   "outputs": [],
   "source": [
    "class TestNode:\n",
    "    def __init__(self,val):\n",
    "        self.value = val\n",
    "        self.leftchild = None\n",
    "        self.rightchild = None\n",
    "\n",
    "class TestBST:\n",
    "    def __init__(self):\n",
    "        self.root = None\n",
    "        self.size = 0\n",
    "        \n",
    "    def insert(self,val):\n",
    "#         if self.root == None:\n",
    "        print(self.size)\n",
    "        if self.size == 0: \n",
    "            self.root = TestNode(val)\n",
    "            self.size += 1\n",
    "            print(\"Value\",val,\"has successfully inserted into root Node.\")\n",
    "            return True\n",
    "#         elif self.root is not None:\n",
    "        elif self.size != 0:\n",
    "            cur = self.root\n",
    "            if cur.value == val:\n",
    "                print(\"Value\",val,\"has already existed. Cannot be inserted twice.\")\n",
    "                return False\n",
    "            elif cur.value > val: #往左邊\n",
    "                if cur.leftchild == None:\n",
    "                    cur.leftchild = TestNode(val)\n",
    "                    self.size += 1\n",
    "                    print(\"Value\",val,\"has successfully inserted into left Node.\")\n",
    "                    return True\n",
    "                elif cur.leftchild is not None:\n",
    "                    cur = cur.leftchild\n",
    "                    TestBST().insert(val)\n",
    "            elif cur.value < val: #往右邊\n",
    "                if cur.rightchild == None:\n",
    "                    cur.rightchild = TestNode(val)\n",
    "                    self.size += 1\n",
    "                    print(\"Value\",val,\"has successfully inserted into right Node.\")\n",
    "                    return True\n",
    "                elif cur.rightchild is not None:\n",
    "                    cur = cur.rightchild\n",
    "                    TestBST().insert(val)"
   ]
  },
  {
   "cell_type": "code",
   "execution_count": 2,
   "metadata": {},
   "outputs": [],
   "source": [
    "b = TestBST()"
   ]
  },
  {
   "cell_type": "code",
   "execution_count": 3,
   "metadata": {},
   "outputs": [
    {
     "name": "stdout",
     "output_type": "stream",
     "text": [
      "0\n",
      "Value 10 has successfully inserted into root Node.\n"
     ]
    },
    {
     "data": {
      "text/plain": [
       "True"
      ]
     },
     "execution_count": 3,
     "metadata": {},
     "output_type": "execute_result"
    }
   ],
   "source": [
    "b.insert(10)"
   ]
  },
  {
   "cell_type": "code",
   "execution_count": 4,
   "metadata": {},
   "outputs": [
    {
     "name": "stdout",
     "output_type": "stream",
     "text": [
      "1\n",
      "Value 15 has successfully inserted into right Node.\n"
     ]
    },
    {
     "data": {
      "text/plain": [
       "True"
      ]
     },
     "execution_count": 4,
     "metadata": {},
     "output_type": "execute_result"
    }
   ],
   "source": [
    "b.insert(15)"
   ]
  },
  {
   "cell_type": "code",
   "execution_count": 5,
   "metadata": {},
   "outputs": [
    {
     "name": "stdout",
     "output_type": "stream",
     "text": [
      "2\n",
      "Value 5 has successfully inserted into left Node.\n"
     ]
    },
    {
     "data": {
      "text/plain": [
       "True"
      ]
     },
     "execution_count": 5,
     "metadata": {},
     "output_type": "execute_result"
    }
   ],
   "source": [
    "b.insert(5)"
   ]
  },
  {
   "cell_type": "code",
   "execution_count": 6,
   "metadata": {},
   "outputs": [
    {
     "name": "stdout",
     "output_type": "stream",
     "text": [
      "3\n",
      "Value 10 has already existed. Cannot be inserted twice.\n"
     ]
    },
    {
     "data": {
      "text/plain": [
       "False"
      ]
     },
     "execution_count": 6,
     "metadata": {},
     "output_type": "execute_result"
    }
   ],
   "source": [
    "b.insert(10)"
   ]
  },
  {
   "cell_type": "code",
   "execution_count": 7,
   "metadata": {},
   "outputs": [
    {
     "name": "stdout",
     "output_type": "stream",
     "text": [
      "3\n",
      "0\n",
      "Value 15 has successfully inserted into root Node.\n"
     ]
    }
   ],
   "source": [
    "b.insert(15)"
   ]
  },
  {
   "cell_type": "markdown",
   "metadata": {},
   "source": [
    "果然跟我猜的一樣，每一次進行recursive呼叫的時候，都會重新先跑一次init，導致self.size跟self.root又重新被初始化了\n",
    "\n",
    "11/11看了助教的HW3格式，再來進行程式碼的修改"
   ]
  },
  {
   "cell_type": "code",
   "execution_count": 9,
   "metadata": {},
   "outputs": [],
   "source": [
    "class Node:\n",
    "    def __init__(self,val):\n",
    "        self.value = val\n",
    "        self.leftchild = None\n",
    "        self.rightchild = None\n",
    "\n",
    "class Solution:\n",
    "    def insert(self,root,val):\n",
    "        if root.value == val:\n",
    "            print(\"Value\",val,\"has already been inserted before.\")\n",
    "            return False\n",
    "        elif root.value < val: #往右邊\n",
    "            if root.rightchild == None: #右邊沒小孩，直接給Node\n",
    "                root.rightchild = Node(val)\n",
    "                print(\"Value\",val,\"has successfully inserted into right Node.\")\n",
    "                return True\n",
    "            else: #右邊有小孩，recursive\n",
    "                return Solution().insert(root.rightchild,val)\n",
    "        else: #往左邊\n",
    "            if root.leftchild == None: #左邊沒小孩，直接給Node\n",
    "                root.leftchild = Node(val)\n",
    "                print(\"Value\",val,\"has successfully inserted into left Node.\")\n",
    "                return True\n",
    "            else: #左邊有小孩，recursive\n",
    "                return Solution().insert(root.leftchild,val)"
   ]
  },
  {
   "cell_type": "code",
   "execution_count": 10,
   "metadata": {},
   "outputs": [],
   "source": [
    "root = Node(10)"
   ]
  },
  {
   "cell_type": "code",
   "execution_count": 11,
   "metadata": {},
   "outputs": [],
   "source": [
    "TreeNode = Solution()"
   ]
  },
  {
   "cell_type": "code",
   "execution_count": 12,
   "metadata": {},
   "outputs": [
    {
     "name": "stdout",
     "output_type": "stream",
     "text": [
      "Value 10 has already been inserted before.\n"
     ]
    },
    {
     "data": {
      "text/plain": [
       "False"
      ]
     },
     "execution_count": 12,
     "metadata": {},
     "output_type": "execute_result"
    }
   ],
   "source": [
    "TreeNode.insert(root,10)"
   ]
  },
  {
   "cell_type": "code",
   "execution_count": 13,
   "metadata": {},
   "outputs": [
    {
     "name": "stdout",
     "output_type": "stream",
     "text": [
      "Value 20 has successfully inserted into right Node.\n"
     ]
    },
    {
     "data": {
      "text/plain": [
       "True"
      ]
     },
     "execution_count": 13,
     "metadata": {},
     "output_type": "execute_result"
    }
   ],
   "source": [
    "TreeNode.insert(root,20)"
   ]
  },
  {
   "cell_type": "code",
   "execution_count": 14,
   "metadata": {},
   "outputs": [
    {
     "name": "stdout",
     "output_type": "stream",
     "text": [
      "Value 5 has successfully inserted into left Node.\n"
     ]
    },
    {
     "data": {
      "text/plain": [
       "True"
      ]
     },
     "execution_count": 14,
     "metadata": {},
     "output_type": "execute_result"
    }
   ],
   "source": [
    "TreeNode.insert(root,5)"
   ]
  },
  {
   "cell_type": "code",
   "execution_count": 15,
   "metadata": {},
   "outputs": [
    {
     "name": "stdout",
     "output_type": "stream",
     "text": [
      "Value 3 has successfully inserted into left Node.\n"
     ]
    },
    {
     "data": {
      "text/plain": [
       "True"
      ]
     },
     "execution_count": 15,
     "metadata": {},
     "output_type": "execute_result"
    }
   ],
   "source": [
    "TreeNode.insert(root,3)"
   ]
  },
  {
   "cell_type": "code",
   "execution_count": 16,
   "metadata": {},
   "outputs": [
    {
     "name": "stdout",
     "output_type": "stream",
     "text": [
      "Value 25 has successfully inserted into right Node.\n"
     ]
    },
    {
     "data": {
      "text/plain": [
       "True"
      ]
     },
     "execution_count": 16,
     "metadata": {},
     "output_type": "execute_result"
    }
   ],
   "source": [
    "TreeNode.insert(root,25)"
   ]
  },
  {
   "cell_type": "markdown",
   "metadata": {},
   "source": [
    "再來要再來要修改的部分就是如果insert的值已經有重複了的話，咱就直接append到left"
   ]
  },
  {
   "cell_type": "code",
   "execution_count": 1,
   "metadata": {},
   "outputs": [],
   "source": [
    "class Node:\n",
    "    def __init__(self,val):\n",
    "        self.value = val\n",
    "        self.leftchild = None\n",
    "        self.rightchild = None\n",
    "\n",
    "class Solution:\n",
    "    def insert(self,root,val):\n",
    "        if root.value == val:\n",
    "            NewNode = Node(val)\n",
    "            NewNode.leftchild = root.leftchild\n",
    "            root.leftchild = NewNode\n",
    "            print(\"Value\",val,\"has successfully inserted into left Node.\",\"There are now more than one value\",val,\"in the BST.\")\n",
    "            return True\n",
    "        elif root.value < val: #往右邊\n",
    "            if root.rightchild == None: #右邊沒小孩，直接給Node\n",
    "                root.rightchild = Node(val)\n",
    "                print(\"Value\",val,\"has successfully inserted into right Node.\")\n",
    "                return True\n",
    "            else: #右邊有小孩，recursive\n",
    "                return Solution().insert(root.rightchild,val)\n",
    "        else: #往左邊\n",
    "            if root.leftchild == None: #左邊沒小孩，直接給Node\n",
    "                root.leftchild = Node(val)\n",
    "                print(\"Value\",val,\"has successfully inserted into left Node.\")\n",
    "                return True\n",
    "            else: #左邊有小孩，recursive\n",
    "                return Solution().insert(root.leftchild,val)"
   ]
  },
  {
   "cell_type": "code",
   "execution_count": 2,
   "metadata": {},
   "outputs": [],
   "source": [
    "root = Node(10)"
   ]
  },
  {
   "cell_type": "code",
   "execution_count": 3,
   "metadata": {},
   "outputs": [],
   "source": [
    "TreeNode = Solution()"
   ]
  },
  {
   "cell_type": "code",
   "execution_count": 4,
   "metadata": {},
   "outputs": [
    {
     "name": "stdout",
     "output_type": "stream",
     "text": [
      "Value 10 has successfully inserted into left Node. There are now more than one value 10 in the BST.\n"
     ]
    },
    {
     "data": {
      "text/plain": [
       "True"
      ]
     },
     "execution_count": 4,
     "metadata": {},
     "output_type": "execute_result"
    }
   ],
   "source": [
    "TreeNode.insert(root,10)"
   ]
  },
  {
   "cell_type": "code",
   "execution_count": 5,
   "metadata": {},
   "outputs": [
    {
     "name": "stdout",
     "output_type": "stream",
     "text": [
      "Value 20 has successfully inserted into right Node.\n"
     ]
    },
    {
     "data": {
      "text/plain": [
       "True"
      ]
     },
     "execution_count": 5,
     "metadata": {},
     "output_type": "execute_result"
    }
   ],
   "source": [
    "TreeNode.insert(root,20)"
   ]
  },
  {
   "cell_type": "code",
   "execution_count": 6,
   "metadata": {},
   "outputs": [
    {
     "name": "stdout",
     "output_type": "stream",
     "text": [
      "Value 5 has successfully inserted into left Node.\n"
     ]
    },
    {
     "data": {
      "text/plain": [
       "True"
      ]
     },
     "execution_count": 6,
     "metadata": {},
     "output_type": "execute_result"
    }
   ],
   "source": [
    "TreeNode.insert(root,5)"
   ]
  },
  {
   "cell_type": "code",
   "execution_count": 7,
   "metadata": {},
   "outputs": [
    {
     "name": "stdout",
     "output_type": "stream",
     "text": [
      "Value 18 has successfully inserted into left Node.\n"
     ]
    },
    {
     "data": {
      "text/plain": [
       "True"
      ]
     },
     "execution_count": 7,
     "metadata": {},
     "output_type": "execute_result"
    }
   ],
   "source": [
    "TreeNode.insert(root,18)"
   ]
  },
  {
   "cell_type": "code",
   "execution_count": 8,
   "metadata": {},
   "outputs": [
    {
     "name": "stdout",
     "output_type": "stream",
     "text": [
      "Value 20 has successfully inserted into left Node. There are now more than one value 20 in the BST.\n"
     ]
    },
    {
     "data": {
      "text/plain": [
       "True"
      ]
     },
     "execution_count": 8,
     "metadata": {},
     "output_type": "execute_result"
    }
   ],
   "source": [
    "TreeNode.insert(root,20)"
   ]
  },
  {
   "cell_type": "markdown",
   "metadata": {},
   "source": [
    "這邊的邏輯概念其實跟linked list的AddValueAtIndex非常的相似！只要把節點的指向改一下就可以了，底下的結構不受影響"
   ]
  },
  {
   "cell_type": "code",
   "execution_count": 9,
   "metadata": {},
   "outputs": [
    {
     "data": {
      "text/html": [
       "<img src=\"https://github.com/samuel871211/My-python-code/blob/master/week6/insert.jpg?raw=true\" width=\"1000\" height=\"1000\"/>"
      ],
      "text/plain": [
       "<IPython.core.display.Image object>"
      ]
     },
     "execution_count": 9,
     "metadata": {},
     "output_type": "execute_result"
    }
   ],
   "source": [
    "from IPython.display import Image\n",
    "from IPython.core.display import HTML\n",
    "Image(url = \"https://github.com/samuel871211/My-python-code/blob/master/week6/insert.jpg?raw=true\" ,width = 1000,height = 1000)"
   ]
  },
  {
   "cell_type": "code",
   "execution_count": 10,
   "metadata": {},
   "outputs": [],
   "source": [
    "class Node:\n",
    "    def __init__(self,val):\n",
    "        self.value = val\n",
    "        self.leftchild = None\n",
    "        self.rightchild = None\n",
    "\n",
    "class Solution:\n",
    "    def insert(self,root,val):\n",
    "        if root.value == val:\n",
    "            NewNode = Node(val)\n",
    "            NewNode.leftchild = root.leftchild\n",
    "            root.leftchild = NewNode\n",
    "            print(\"Value\",val,\"has successfully inserted into left Node.\",\"There are now more than one value\",val,\"in the BST.\")\n",
    "            return True\n",
    "        elif root.value < val: #往右邊\n",
    "            if root.rightchild == None: #右邊沒小孩，直接給Node\n",
    "                root.rightchild = Node(val)\n",
    "                print(\"Value\",val,\"has successfully inserted into right Node.\")\n",
    "                return True\n",
    "            else: #右邊有小孩，recursive\n",
    "                return Solution().insert(root.rightchild,val)\n",
    "        else: #往左邊\n",
    "            if root.leftchild == None: #左邊沒小孩，直接給Node\n",
    "                root.leftchild = Node(val)\n",
    "                print(\"Value\",val,\"has successfully inserted into left Node.\")\n",
    "                return True\n",
    "            else: #左邊有小孩，recursive\n",
    "                return Solution().insert(root.leftchild,val)\n",
    "    \n",
    "    def search(self,root,target):\n",
    "        if root.value == target:\n",
    "            print(\"Value\",root.value,\"has been found in BST structure.\")\n",
    "            return True\n",
    "        elif root.value > target: #往左邊 \n",
    "            if root.leftchild == None: #左邊空\n",
    "                print(\"Error_1: Cannot find\",target,\"in BST structure.\")\n",
    "                return False\n",
    "            else: #左邊不空\n",
    "                root = root.leftchild\n",
    "                return Solution().search(root,target)\n",
    "        else: #往右邊\n",
    "            if root.rightchild == None: #右邊空\n",
    "                print(\"Error_2: Cannot find\",target,\"in BST structure.\")\n",
    "                return False\n",
    "            else: #右邊不空\n",
    "                root = root.rightchild\n",
    "                return Solution().search(root,target)"
   ]
  },
  {
   "cell_type": "code",
   "execution_count": 11,
   "metadata": {},
   "outputs": [],
   "source": [
    "root = Node(10)"
   ]
  },
  {
   "cell_type": "code",
   "execution_count": 12,
   "metadata": {},
   "outputs": [],
   "source": [
    "TreeNode = Solution()"
   ]
  },
  {
   "cell_type": "code",
   "execution_count": 13,
   "metadata": {},
   "outputs": [
    {
     "name": "stdout",
     "output_type": "stream",
     "text": [
      "Value 10 has successfully inserted into left Node. There are now more than one value 10 in the BST.\n"
     ]
    },
    {
     "data": {
      "text/plain": [
       "True"
      ]
     },
     "execution_count": 13,
     "metadata": {},
     "output_type": "execute_result"
    }
   ],
   "source": [
    "TreeNode.insert(root,10)"
   ]
  },
  {
   "cell_type": "code",
   "execution_count": 14,
   "metadata": {},
   "outputs": [
    {
     "name": "stdout",
     "output_type": "stream",
     "text": [
      "Value 20 has successfully inserted into right Node.\n"
     ]
    },
    {
     "data": {
      "text/plain": [
       "True"
      ]
     },
     "execution_count": 14,
     "metadata": {},
     "output_type": "execute_result"
    }
   ],
   "source": [
    "TreeNode.insert(root,20)"
   ]
  },
  {
   "cell_type": "code",
   "execution_count": 15,
   "metadata": {},
   "outputs": [
    {
     "name": "stdout",
     "output_type": "stream",
     "text": [
      "Value 18 has successfully inserted into left Node.\n"
     ]
    },
    {
     "data": {
      "text/plain": [
       "True"
      ]
     },
     "execution_count": 15,
     "metadata": {},
     "output_type": "execute_result"
    }
   ],
   "source": [
    "TreeNode.insert(root,18)"
   ]
  },
  {
   "cell_type": "code",
   "execution_count": 16,
   "metadata": {},
   "outputs": [
    {
     "name": "stdout",
     "output_type": "stream",
     "text": [
      "Value 22 has successfully inserted into right Node.\n"
     ]
    },
    {
     "data": {
      "text/plain": [
       "True"
      ]
     },
     "execution_count": 16,
     "metadata": {},
     "output_type": "execute_result"
    }
   ],
   "source": [
    "TreeNode.insert(root,22)"
   ]
  },
  {
   "cell_type": "code",
   "execution_count": 17,
   "metadata": {},
   "outputs": [
    {
     "name": "stdout",
     "output_type": "stream",
     "text": [
      "Value 8 has successfully inserted into left Node.\n"
     ]
    },
    {
     "data": {
      "text/plain": [
       "True"
      ]
     },
     "execution_count": 17,
     "metadata": {},
     "output_type": "execute_result"
    }
   ],
   "source": [
    "TreeNode.insert(root,8)"
   ]
  },
  {
   "cell_type": "code",
   "execution_count": 18,
   "metadata": {},
   "outputs": [
    {
     "name": "stdout",
     "output_type": "stream",
     "text": [
      "Value 10 has been found in BST structure.\n"
     ]
    },
    {
     "data": {
      "text/plain": [
       "True"
      ]
     },
     "execution_count": 18,
     "metadata": {},
     "output_type": "execute_result"
    }
   ],
   "source": [
    "TreeNode.search(root,10)"
   ]
  },
  {
   "cell_type": "code",
   "execution_count": 19,
   "metadata": {},
   "outputs": [
    {
     "name": "stdout",
     "output_type": "stream",
     "text": [
      "Value 22 has been found in BST structure.\n"
     ]
    },
    {
     "data": {
      "text/plain": [
       "True"
      ]
     },
     "execution_count": 19,
     "metadata": {},
     "output_type": "execute_result"
    }
   ],
   "source": [
    "TreeNode.search(root,22)"
   ]
  },
  {
   "cell_type": "code",
   "execution_count": 20,
   "metadata": {},
   "outputs": [
    {
     "name": "stdout",
     "output_type": "stream",
     "text": [
      "Error_1: Cannot find 5 in BST structure.\n"
     ]
    },
    {
     "data": {
      "text/plain": [
       "False"
      ]
     },
     "execution_count": 20,
     "metadata": {},
     "output_type": "execute_result"
    }
   ],
   "source": [
    "TreeNode.search(root,5)"
   ]
  },
  {
   "cell_type": "markdown",
   "metadata": {},
   "source": [
    "11/11完成search的部分"
   ]
  },
  {
   "cell_type": "code",
   "execution_count": 1,
   "metadata": {},
   "outputs": [],
   "source": [
    "class Node:\n",
    "    def __init__(self,val):\n",
    "        self.value = val\n",
    "        self.leftchild = None\n",
    "        self.rightchild = None\n",
    "\n",
    "class Solution:\n",
    "    def insert(self,root,val):\n",
    "        if root.value == val:\n",
    "            NewNode = Node(val)\n",
    "            NewNode.leftchild = root.leftchild\n",
    "            root.leftchild = NewNode\n",
    "            print(\"Value\",val,\"has successfully inserted into left Node.\")\n",
    "            print(\"There are now more than one value\",val,\"in the BST structure.\")\n",
    "            return True\n",
    "        elif root.value < val: #往右邊\n",
    "            if root.rightchild == None: #右邊沒小孩，直接給Node\n",
    "                root.rightchild = Node(val)\n",
    "                print(\"Value\",val,\"has successfully inserted into right Node.\")\n",
    "                return True\n",
    "            else: #右邊有小孩，recursive\n",
    "                return Solution().insert(root.rightchild,val)\n",
    "        else: #往左邊\n",
    "            if root.leftchild == None: #左邊沒小孩，直接給Node\n",
    "                root.leftchild = Node(val)\n",
    "                print(\"Value\",val,\"has successfully inserted into left Node.\")\n",
    "                return True\n",
    "            else: #左邊有小孩，recursive\n",
    "                return Solution().insert(root.leftchild,val)\n",
    "    \n",
    "    def search(self,root,target):\n",
    "        if root.value == target:\n",
    "            print(\"Value\",root.value,\"has been found in BST structure.\")\n",
    "            return True\n",
    "        elif root.value > target: #往左邊 \n",
    "            if root.leftchild == None: #左邊空\n",
    "                print(\"Error_1: Cannot find\",target,\"in BST structure.\")\n",
    "                return False\n",
    "            else: #左邊不空\n",
    "                root = root.leftchild\n",
    "                return Solution().search(root,target)\n",
    "        else: #往右邊\n",
    "            if root.rightchild == None: #右邊空\n",
    "                print(\"Error_2: Cannot find\",target,\"in BST structure.\")\n",
    "                return False\n",
    "            else: #右邊不空\n",
    "                root = root.rightchild\n",
    "                return Solution().search(root,target)\n",
    "    \n",
    "    def test(self,root):\n",
    "        delete_node = root.leftchild\n",
    "        temp = root.leftchild.leftchild.rightchild.rightchild\n",
    "        temp_parent = root.leftchild.leftchild.rightchild\n",
    "        root.leftchild = temp\n",
    "        temp.leftchild = delete_node.leftchild\n",
    "        temp_parent.rightchild = None\n",
    "        delete_node = None\n",
    "        \n",
    "        print(root.leftchild.value)\n",
    "        print(delete_node)\n",
    "        print(temp_parent.rightchild)\n",
    "    \n",
    "#     def delete(self,root,target):\n",
    "#         a = Solution().find_delete_root(root,target)\n",
    "#         if a == False: #找不到target，return False\n",
    "#             print(\"Cannot find\",target,\"in BST structure.\")\n",
    "#             return False\n",
    "#         else:         \n",
    "#             return Solution().recursive_delete_Helper(root,target) \n",
    "    \n",
    "#     def recursive_delete_Helper(self,root,target):\n",
    "        \n",
    "#         if root.leftchild == None and root.rightchild == None: #target底下都指向None\n",
    "#             root.value = target\n",
    "#             print(\"Only one target\",target,\"is in BST structure.\")\n",
    "#             print(\"Value\",val,\"has successfully deleted.\")\n",
    "#             return True\n",
    "            \n",
    "#         elif root.leftchild.value == target: #有重複值\n",
    "#             while root.leftchild.value == target:\n",
    "#                 root = root.leftchild #這邊的root就會等於最左邊的那個重複值，且必定沒有rightchild\n",
    "#                 #find the biggest value in the left subtree\n",
    "            \n",
    "#         elif root.leftchild.value != target and root.rightchild == None: #只有左邊subtree        \n",
    "#             #find the biggest value in the left subtree\n",
    "            \n",
    "#         elif root.leftchild == None and root.rightchild is not None: #只有右邊subtree\n",
    "#             #find the smallest value in the right subtree\n",
    "            \n",
    "#         elif root.leftchild is not None and root.rightchild is not None: #有兩個小孩\n",
    "#             #find the smallest value in the right subtree\n",
    "    \n",
    "#     def find_delete_root(self,root,target): #找到target root，並且return給delete使用\n",
    "#         if root.value == target:\n",
    "#             return root,target\n",
    "#         elif root.value > target: #往左邊 \n",
    "#             if root.leftchild == None: #左邊空\n",
    "#                 return False\n",
    "#             else: #左邊不空\n",
    "#                 root = root.leftchild\n",
    "#                 return Solution().find_delete_root(root,target)\n",
    "#         else: #往右邊\n",
    "#             if root.rightchild == None: #右邊空\n",
    "#                 return False\n",
    "#             else: #右邊不空\n",
    "#                 root = root.rightchild\n",
    "#                 return Solution().find_delete_root(root,target)"
   ]
  },
  {
   "cell_type": "code",
   "execution_count": 2,
   "metadata": {},
   "outputs": [],
   "source": [
    "root = Node(100)"
   ]
  },
  {
   "cell_type": "code",
   "execution_count": 3,
   "metadata": {},
   "outputs": [],
   "source": [
    "TreeNode = Solution()"
   ]
  },
  {
   "cell_type": "code",
   "execution_count": 4,
   "metadata": {},
   "outputs": [
    {
     "name": "stdout",
     "output_type": "stream",
     "text": [
      "Value 99 has successfully inserted into left Node.\n"
     ]
    },
    {
     "data": {
      "text/plain": [
       "True"
      ]
     },
     "execution_count": 4,
     "metadata": {},
     "output_type": "execute_result"
    }
   ],
   "source": [
    "TreeNode.insert(root,99)"
   ]
  },
  {
   "cell_type": "code",
   "execution_count": 5,
   "metadata": {},
   "outputs": [
    {
     "name": "stdout",
     "output_type": "stream",
     "text": [
      "Value 98 has successfully inserted into left Node.\n"
     ]
    },
    {
     "data": {
      "text/plain": [
       "True"
      ]
     },
     "execution_count": 5,
     "metadata": {},
     "output_type": "execute_result"
    }
   ],
   "source": [
    "TreeNode.insert(root,98)"
   ]
  },
  {
   "cell_type": "code",
   "execution_count": 6,
   "metadata": {},
   "outputs": [
    {
     "name": "stdout",
     "output_type": "stream",
     "text": [
      "Value 98.1 has successfully inserted into right Node.\n"
     ]
    },
    {
     "data": {
      "text/plain": [
       "True"
      ]
     },
     "execution_count": 6,
     "metadata": {},
     "output_type": "execute_result"
    }
   ],
   "source": [
    "TreeNode.insert(root,98.1)"
   ]
  },
  {
   "cell_type": "code",
   "execution_count": 7,
   "metadata": {},
   "outputs": [
    {
     "name": "stdout",
     "output_type": "stream",
     "text": [
      "Value 98.2 has successfully inserted into right Node.\n"
     ]
    },
    {
     "data": {
      "text/plain": [
       "True"
      ]
     },
     "execution_count": 7,
     "metadata": {},
     "output_type": "execute_result"
    }
   ],
   "source": [
    "TreeNode.insert(root,98.2)"
   ]
  },
  {
   "cell_type": "code",
   "execution_count": 8,
   "metadata": {},
   "outputs": [
    {
     "name": "stdout",
     "output_type": "stream",
     "text": [
      "98.2\n",
      "None\n",
      "None\n"
     ]
    }
   ],
   "source": [
    "TreeNode.test(root)"
   ]
  },
  {
   "cell_type": "markdown",
   "metadata": {},
   "source": [
    "測試一下如果要進行delete的話，依照linked list的概念，要把delete node的parent也記錄下來，到時候在重新point指向的時候會用到"
   ]
  },
  {
   "cell_type": "code",
   "execution_count": 10,
   "metadata": {},
   "outputs": [],
   "source": [
    "class Node:\n",
    "    def __init__(self,val):\n",
    "        self.value = val\n",
    "        self.leftchild = None\n",
    "        self.rightchild = None\n",
    "\n",
    "class Solution:\n",
    "    def insert(self,root,val):\n",
    "        if root.value == val:\n",
    "            NewNode = Node(val)\n",
    "            NewNode.leftchild = root.leftchild\n",
    "            root.leftchild = NewNode\n",
    "            print(\"Value\",val,\"has successfully inserted into left Node.\")\n",
    "            print(\"There are now more than one value\",val,\"in the BST structure.\")\n",
    "            return True\n",
    "        elif root.value < val: #往右邊\n",
    "            if root.rightchild == None: #右邊沒小孩，直接給Node\n",
    "                root.rightchild = Node(val)\n",
    "                print(\"Value\",val,\"has successfully inserted into right Node.\")\n",
    "                return True\n",
    "            else: #右邊有小孩，recursive\n",
    "                return Solution().insert(root.rightchild,val)\n",
    "        else: #往左邊\n",
    "            if root.leftchild == None: #左邊沒小孩，直接給Node\n",
    "                root.leftchild = Node(val)\n",
    "                print(\"Value\",val,\"has successfully inserted into left Node.\")\n",
    "                return True\n",
    "            else: #左邊有小孩，recursive\n",
    "                return Solution().insert(root.leftchild,val)\n",
    "    \n",
    "    def search(self,root,target):\n",
    "        if root.value == target:\n",
    "            print(\"Value\",root.value,\"has been found in BST structure.\")\n",
    "            return True\n",
    "        elif root.value > target: #往左邊 \n",
    "            if root.leftchild == None: #左邊空\n",
    "                print(\"Error_1: Cannot find\",target,\"in BST structure.\")\n",
    "                return False\n",
    "            else: #左邊不空\n",
    "                root = root.leftchild\n",
    "                return Solution().search(root,target)\n",
    "        else: #往右邊\n",
    "            if root.rightchild == None: #右邊空\n",
    "                print(\"Error_2: Cannot find\",target,\"in BST structure.\")\n",
    "                return False\n",
    "            else: #右邊不空\n",
    "                root = root.rightchild\n",
    "                return Solution().search(root,target)\n",
    "    \n",
    "#     def test(self,root):\n",
    "#         delete_node = root.leftchild\n",
    "#         temp = root.leftchild.leftchild.rightchild.rightchild\n",
    "#         root.leftchild = temp\n",
    "#         temp.leftchild = delete_node.leftchild\n",
    "#         delete_node.value = None\n",
    "        \n",
    "#         print(root.leftchild.value)\n",
    "    \n",
    "    def delete(self,root,target):\n",
    "#         a = Solution().find_delete_root(root,target)\n",
    "#         if a == False: #找不到target，return False\n",
    "#             print(\"Cannot find\",target,\"in BST structure.\")\n",
    "#             return False\n",
    "#         else:         \n",
    "#             return Solution().recursive_delete_Helper(root,target)\n",
    "        \n",
    "        if root.value == target: #\n",
    "            if root.leftchild is None and root.rightchild is None:\n",
    "                root.value == None\n",
    "                print(\"Target\",target,\"which is in root node has successfully deleted.\")\n",
    "                print(\"Please create a new root again by using the code [root = Node(val)].\")\n",
    "                return True\n",
    "        \n",
    "#         elif root.value > target: #往左邊 \n",
    "#             if root.leftchild == None: #左邊空\n",
    "#                 return False\n",
    "#             else: #左邊不空\n",
    "#                 parent = root\n",
    "#                 root = root.leftchild\n",
    "#                 return Solution().find_delete_root(root,target)\n",
    "#         else: #往右邊\n",
    "#             if root.rightchild == None: #右邊空\n",
    "#                 return False\n",
    "#             else: #右邊不空\n",
    "#                 root = root.rightchild\n",
    "#                 return Solution().find_delete_root(root,target)\n",
    "    \n",
    "#     def delete_Helper(self,parent,root,target):\n",
    "        \n",
    "#         if root.leftchild == None and root.rightchild == None: #target底下都指向None\n",
    "#             root.value = target\n",
    "#             print(\"Only one target\",target,\"is in BST structure.\")\n",
    "#             print(\"Value\",val,\"has successfully deleted.\")\n",
    "#             return True\n",
    "            \n",
    "#         elif root.leftchild.value == target: #有重複值\n",
    "#             while root.leftchild.value == target:\n",
    "#                 root = root.leftchild #這邊的root就會等於最左邊的那個重複值，且必定沒有rightchild\n",
    "#                 #find the biggest value in the left subtree\n",
    "            \n",
    "#         elif root.leftchild.value != target and root.rightchild == None: #只有左邊subtree        \n",
    "#             #find the biggest value in the left subtree\n",
    "            \n",
    "#         elif root.leftchild == None and root.rightchild is not None: #只有右邊subtree\n",
    "#             #find the smallest value in the right subtree\n",
    "            \n",
    "#         elif root.leftchild is not None and root.rightchild is not None: #有兩個小孩\n",
    "#             #find the smallest value in the right subtree\n",
    "    \n",
    "#     def find_delete_root(self,root,target): #找到target root，並且return給delete使用\n",
    "#         if root.value == target:\n",
    "#             return None,root,target\n",
    "#         elif root.value > target: #往左邊 \n",
    "#             if root.leftchild == None: #左邊空\n",
    "#                 return False\n",
    "#             else: #左邊不空\n",
    "#                 parent = root\n",
    "#                 root = root.leftchild\n",
    "#                 return Solution().find_delete_root(root,target)\n",
    "#         else: #往右邊\n",
    "#             if root.rightchild == None: #右邊空\n",
    "#                 return False\n",
    "#             else: #右邊不空\n",
    "#                 root = root.rightchild\n",
    "#                 return Solution().find_delete_root(root,target)"
   ]
  },
  {
   "cell_type": "code",
   "execution_count": 11,
   "metadata": {},
   "outputs": [],
   "source": [
    "root = Node(100)"
   ]
  },
  {
   "cell_type": "code",
   "execution_count": 12,
   "metadata": {},
   "outputs": [
    {
     "name": "stdout",
     "output_type": "stream",
     "text": [
      "Target 100 which is in root node has successfully deleted.\n",
      "Please create a new root again by using the code [root = Node(val)].\n"
     ]
    },
    {
     "data": {
      "text/plain": [
       "True"
      ]
     },
     "execution_count": 12,
     "metadata": {},
     "output_type": "execute_result"
    }
   ],
   "source": [
    "Solution().delete(root,100)"
   ]
  },
  {
   "cell_type": "markdown",
   "metadata": {},
   "source": [
    "單純先測試一下如果要刪除的值在root node，且尚未insert其他值的時候，這部分的delete程式碼484可以正常執行"
   ]
  },
  {
   "cell_type": "code",
   "execution_count": 14,
   "metadata": {},
   "outputs": [],
   "source": [
    "class Node:\n",
    "    def __init__(self,val):\n",
    "        self.value = val\n",
    "        self.leftchild = None\n",
    "        self.rightchild = None\n",
    "\n",
    "class Solution:\n",
    "    def insert(self,root,val):\n",
    "        if root.value == val:\n",
    "            NewNode = Node(val)\n",
    "            NewNode.leftchild = root.leftchild\n",
    "            root.leftchild = NewNode\n",
    "            print(\"Value\",val,\"has successfully inserted into left Node.\")\n",
    "            print(\"There are now more than one value\",val,\"in the BST structure.\")\n",
    "            return True\n",
    "        elif root.value < val: #往右邊\n",
    "            if root.rightchild == None: #右邊沒小孩，直接給Node\n",
    "                root.rightchild = Node(val)\n",
    "                print(\"Value\",val,\"has successfully inserted into right Node.\")\n",
    "                return True\n",
    "            else: #右邊有小孩，recursive\n",
    "                return Solution().insert(root.rightchild,val)\n",
    "        else: #往左邊\n",
    "            if root.leftchild == None: #左邊沒小孩，直接給Node\n",
    "                root.leftchild = Node(val)\n",
    "                print(\"Value\",val,\"has successfully inserted into left Node.\")\n",
    "                return True\n",
    "            else: #左邊有小孩，recursive\n",
    "                return Solution().insert(root.leftchild,val)\n",
    "    \n",
    "    def search(self,root,target):\n",
    "        if root.value == target:\n",
    "            print(\"Target\",root.value,\"has been found in BST structure.\")\n",
    "            return True\n",
    "        elif root.value > target: #往左邊 \n",
    "            if root.leftchild == None: #左邊空\n",
    "                print(\"Error_1: Cannot find\",target,\"in BST structure.\")\n",
    "                return False\n",
    "            else: #左邊不空\n",
    "                root = root.leftchild\n",
    "                return Solution().search(root,target)\n",
    "        else: #往右邊\n",
    "            if root.rightchild == None: #右邊空\n",
    "                print(\"Error_2: Cannot find\",target,\"in BST structure.\")\n",
    "                return False\n",
    "            else: #右邊不空\n",
    "                root = root.rightchild\n",
    "                return Solution().search(root,target)\n",
    "    \n",
    "    def delete(self,root,target):\n",
    "        \n",
    "#         if root.value == target: #要刪除的值 在root節點\n",
    "#             if root.leftchild is None and root.rightchild is None:\n",
    "#                 root.value == None\n",
    "#                 print(\"Target\",target,\"which is in root node has successfully deleted.\")\n",
    "#                 print(\"Please create a new root again by using the code [root = Node(val)].\")\n",
    "#                 return True\n",
    "#             elif root.leftchild is not None and root.rightchild is None:\n",
    "                #find the biggest value in the left subtree\n",
    "            \n",
    "#             elif root.rightchild is not None and root.leftchild is None:\n",
    "                #find the smallest value in the right subtree\n",
    "        \n",
    "        #要刪除的值 若不在root節點 就必須要記錄 \"delete_node\" 跟 \"parent_node\"\n",
    "        #初始化 \"delete_node\" 跟 \"parent_node\"\n",
    "        parent_node = None\n",
    "        delete_node = root\n",
    "        \n",
    "        #這邊如果進行recursive呼叫會讓上面的root更動，故需使用while迴圈直接把 \"delete_node\" 跟 \"parent_node\" 找出來\n",
    "        \n",
    "        while delete_node.value != target:\n",
    "            if target > delete_node.value: #往右邊\n",
    "                if delete_node.rightchild == None:\n",
    "                    print(\"Error 1: Cannot find target\",target,\"in BST structure.\")\n",
    "                    return False\n",
    "                else:\n",
    "                    parent_node = delete_node\n",
    "                    delete_node = delete_node.rightchild\n",
    "\n",
    "            elif target < delete_node.value: #往左邊\n",
    "                if delete_node.leftchild == None:\n",
    "                    print(\"Error 2: Cannot find target\",target,\"in BST structure.\")\n",
    "                    return False\n",
    "                else:\n",
    "                    parent_node = delete_node\n",
    "                    delete_node = delete_node.leftchild\n",
    "        print(parent_node.value)\n",
    "        print(delete_node.value)\n",
    "    \n",
    "#     def delete_Helper(self,parent,root,target):\n",
    "        \n",
    "#         if root.leftchild == None and root.rightchild == None: #target底下都指向None\n",
    "#             root.value = target\n",
    "#             print(\"Only one target\",target,\"is in BST structure.\")\n",
    "#             print(\"Value\",val,\"has successfully deleted.\")\n",
    "#             return True\n",
    "            \n",
    "#         elif root.leftchild.value == target: #有重複值\n",
    "#             while root.leftchild.value == target:\n",
    "#                 root = root.leftchild #這邊的root就會等於最左邊的那個重複值，且必定沒有rightchild\n",
    "#                 #find the biggest value in the left subtree\n",
    "            \n",
    "#         elif root.leftchild.value != target and root.rightchild == None: #只有左邊subtree        \n",
    "#             #find the biggest value in the left subtree\n",
    "            \n",
    "#         elif root.leftchild == None and root.rightchild is not None: #只有右邊subtree\n",
    "#             #find the smallest value in the right subtree\n",
    "            \n",
    "#         elif root.leftchild is not None and root.rightchild is not None: #有兩個小孩\n",
    "#             #find the smallest value in the right subtree\n",
    "    \n",
    "#     def find_delete_root(self,root,target): #找到target root，並且return給delete使用\n",
    "#         if root.value == target:\n",
    "#             return None,root,target\n",
    "#         elif root.value > target: #往左邊 \n",
    "#             if root.leftchild == None: #左邊空\n",
    "#                 return False\n",
    "#             else: #左邊不空\n",
    "#                 parent = root\n",
    "#                 root = root.leftchild\n",
    "#                 return Solution().find_delete_root(root,target)\n",
    "#         else: #往右邊\n",
    "#             if root.rightchild == None: #右邊空\n",
    "#                 return False\n",
    "#             else: #右邊不空\n",
    "#                 root = root.rightchild\n",
    "#                 return Solution().find_delete_root(root,target)"
   ]
  },
  {
   "cell_type": "code",
   "execution_count": 15,
   "metadata": {},
   "outputs": [],
   "source": [
    "root = Node(100)"
   ]
  },
  {
   "cell_type": "code",
   "execution_count": 16,
   "metadata": {},
   "outputs": [],
   "source": [
    "TreeNode = Solution()"
   ]
  },
  {
   "cell_type": "code",
   "execution_count": 17,
   "metadata": {},
   "outputs": [
    {
     "name": "stdout",
     "output_type": "stream",
     "text": [
      "Value 150 has successfully inserted into right Node.\n"
     ]
    },
    {
     "data": {
      "text/plain": [
       "True"
      ]
     },
     "execution_count": 17,
     "metadata": {},
     "output_type": "execute_result"
    }
   ],
   "source": [
    "TreeNode.insert(root,150)"
   ]
  },
  {
   "cell_type": "code",
   "execution_count": 18,
   "metadata": {},
   "outputs": [
    {
     "name": "stdout",
     "output_type": "stream",
     "text": [
      "Value 125 has successfully inserted into left Node.\n"
     ]
    },
    {
     "data": {
      "text/plain": [
       "True"
      ]
     },
     "execution_count": 18,
     "metadata": {},
     "output_type": "execute_result"
    }
   ],
   "source": [
    "TreeNode.insert(root,125)"
   ]
  },
  {
   "cell_type": "code",
   "execution_count": 19,
   "metadata": {},
   "outputs": [
    {
     "name": "stdout",
     "output_type": "stream",
     "text": [
      "Value 200 has successfully inserted into right Node.\n"
     ]
    },
    {
     "data": {
      "text/plain": [
       "True"
      ]
     },
     "execution_count": 19,
     "metadata": {},
     "output_type": "execute_result"
    }
   ],
   "source": [
    "TreeNode.insert(root,200)"
   ]
  },
  {
   "cell_type": "code",
   "execution_count": 20,
   "metadata": {},
   "outputs": [
    {
     "name": "stdout",
     "output_type": "stream",
     "text": [
      "Value 225 has successfully inserted into right Node.\n"
     ]
    },
    {
     "data": {
      "text/plain": [
       "True"
      ]
     },
     "execution_count": 20,
     "metadata": {},
     "output_type": "execute_result"
    }
   ],
   "source": [
    "TreeNode.insert(root,225)"
   ]
  },
  {
   "cell_type": "code",
   "execution_count": 21,
   "metadata": {},
   "outputs": [
    {
     "name": "stdout",
     "output_type": "stream",
     "text": [
      "150\n",
      "200\n"
     ]
    }
   ],
   "source": [
    "TreeNode.delete(root,200)"
   ]
  },
  {
   "cell_type": "code",
   "execution_count": 22,
   "metadata": {},
   "outputs": [
    {
     "name": "stdout",
     "output_type": "stream",
     "text": [
      "200\n",
      "225\n"
     ]
    }
   ],
   "source": [
    "TreeNode.delete(root,225)"
   ]
  },
  {
   "cell_type": "code",
   "execution_count": 23,
   "metadata": {},
   "outputs": [
    {
     "name": "stdout",
     "output_type": "stream",
     "text": [
      "Error 2: Cannot find target 1 in BST structure.\n"
     ]
    },
    {
     "data": {
      "text/plain": [
       "False"
      ]
     },
     "execution_count": 23,
     "metadata": {},
     "output_type": "execute_result"
    }
   ],
   "source": [
    "TreeNode.delete(root,1)"
   ]
  },
  {
   "cell_type": "code",
   "execution_count": 24,
   "metadata": {},
   "outputs": [
    {
     "name": "stdout",
     "output_type": "stream",
     "text": [
      "Error 1: Cannot find target 230 in BST structure.\n"
     ]
    },
    {
     "data": {
      "text/plain": [
       "False"
      ]
     },
     "execution_count": 24,
     "metadata": {},
     "output_type": "execute_result"
    }
   ],
   "source": [
    "TreeNode.delete(root,230)"
   ]
  },
  {
   "cell_type": "markdown",
   "metadata": {},
   "source": [
    "So far應該是沒問題，都有正常的把parent跟delete node正常的print出來"
   ]
  },
  {
   "cell_type": "code",
   "execution_count": 1,
   "metadata": {},
   "outputs": [],
   "source": [
    "class Node:\n",
    "    def __init__(self,val):\n",
    "        self.value = val\n",
    "        self.leftchild = None\n",
    "        self.rightchild = None\n",
    "\n",
    "class Solution:\n",
    "    def insert(self,root,val):\n",
    "        if root.value == val:\n",
    "            NewNode = Node(val)\n",
    "            NewNode.leftchild = root.leftchild\n",
    "            root.leftchild = NewNode\n",
    "            print(\"Value\",val,\"has successfully inserted into left Node.\")\n",
    "            print(\"There are now more than one value\",val,\"in the BST structure.\")\n",
    "            return True\n",
    "        elif root.value < val: #往右邊\n",
    "            if root.rightchild == None: #右邊沒小孩，直接給Node\n",
    "                root.rightchild = Node(val)\n",
    "                print(\"Value\",val,\"has successfully inserted into right Node.\")\n",
    "                return True\n",
    "            else: #右邊有小孩，recursive\n",
    "                return Solution().insert(root.rightchild,val)\n",
    "        else: #往左邊\n",
    "            if root.leftchild == None: #左邊沒小孩，直接給Node\n",
    "                root.leftchild = Node(val)\n",
    "                print(\"Value\",val,\"has successfully inserted into left Node.\")\n",
    "                return True\n",
    "            else: #左邊有小孩，recursive\n",
    "                return Solution().insert(root.leftchild,val)\n",
    "    \n",
    "    def search(self,root,target):\n",
    "        if root.value == target:\n",
    "            print(\"Target\",root.value,\"has been found in BST structure.\")\n",
    "            return True\n",
    "        elif root.value > target: #往左邊 \n",
    "            if root.leftchild == None: #左邊空\n",
    "                print(\"Error_1: Cannot find\",target,\"in BST structure.\")\n",
    "                return False\n",
    "            else: #左邊不空\n",
    "                root = root.leftchild\n",
    "                return Solution().search(root,target)\n",
    "        else: #往右邊\n",
    "            if root.rightchild == None: #右邊空\n",
    "                print(\"Error_2: Cannot find\",target,\"in BST structure.\")\n",
    "                return False\n",
    "            else: #右邊不空\n",
    "                root = root.rightchild\n",
    "                return Solution().search(root,target)\n",
    "    \n",
    "    def delete(self,root,target):\n",
    "        \n",
    "        if root.value == target: #要刪除的值 在root節點\n",
    "            if root.leftchild is None and root.rightchild is None:\n",
    "                root.value == None\n",
    "                print(\"Target\",target,\"which is in root node has successfully deleted.\")\n",
    "                print(\"Please create a new root again by using the code [root = Node(val)].\")\n",
    "                return True\n",
    "            #elif root.leftchild is not None and root.rightchild is None:\n",
    "                #find the biggest value in the left subtree\n",
    "            \n",
    "            #elif root.rightchild is not None and root.leftchild is None:\n",
    "                #find the smallest value in the right subtree\n",
    "\n",
    "        \n",
    "        #要刪除的值 若不在root節點 就必須要記錄 \"delete_node\" 跟 \"parent_node\"\n",
    "        #初始化 \"delete_node\" 跟 \"parent_node\"\n",
    "        parent_node = None\n",
    "        delete_node = root\n",
    "        \n",
    "        #這邊如果進行recursive呼叫會讓上面的root更動，故需使用while迴圈直接把 \"delete_node\" 跟 \"parent_node\" 找出來\n",
    "        \n",
    "        while delete_node.value != target:\n",
    "            if target > delete_node.value: #往右邊\n",
    "                if delete_node.rightchild == None:\n",
    "                    print(\"Error 1: Cannot find target\",target,\"in BST structure.\")\n",
    "                    return False\n",
    "                else:\n",
    "                    parent_node = delete_node\n",
    "                    delete_node = delete_node.rightchild\n",
    "\n",
    "            elif target < delete_node.value: #往左邊\n",
    "                if delete_node.leftchild == None:\n",
    "                    print(\"Error 2: Cannot find target\",target,\"in BST structure.\")\n",
    "                    return False\n",
    "                else:\n",
    "                    parent_node = delete_node\n",
    "                    delete_node = delete_node.leftchild\n",
    "        \n",
    "        if delete_node.leftchild == None and delete_node.rightchild == None: #delete_node底下都指向None\n",
    "            while parent_node.leftchild.value == delete_node.value:\n",
    "                parent_node.leftchild = None\n",
    "            parent_node.rightchild = None\n",
    "            print(\"Only one target\",target,\"is in BST structure.\")\n",
    "            print(\"Target\",target,\"has successfully deleted.\")\n",
    "            return True\n",
    "        \n",
    "        while delete_node.leftchild is not None and delete_node.leftchild.value == target: #target有重複值\n",
    "            delete_node = delete_node.leftchild #這邊的delete_node就會等於最左邊的那個重複值，且必定沒有rightchild    \n",
    "        \n",
    "        if delete_node.leftchild == None: #刪除的值的節點底下為空\n",
    "            parent_node.leftchild = None\n",
    "            print(\"Target\",target,\"successfully deleted.\")\n",
    "            return True\n",
    "        \n",
    "        elif delete_node.leftchild is not None and delete_node.leftchild.rightchild == None: #只有一直往左下\n",
    "            parent_node.leftchild = delete_node.leftchild\n",
    "            delete_node = None\n",
    "            print(\"Target\",target,\"successfully deleted.\")\n",
    "            return True\n",
    "            \n",
    "        elif delete_node.leftchild is not None and delete_node.leftchild.rightchild is not None:\n",
    "            temp_parent = delete_node.leftchild\n",
    "            temp = delete_node.leftchild.rightchild\n",
    "            while temp.rightchild is not None: #find the biggest value in the left subtree  \n",
    "                temp_parent = temp\n",
    "                temp = temp.rightchild      \n",
    "            parent_node.leftchild = temp\n",
    "            temp.leftchild = delete_node.leftchild\n",
    "            temp_parent.rightchild = None\n",
    "            delete_node = None\n",
    "        \n",
    "        #elif delete_node.leftchild is not None and root.rightchild == None: #只有左邊subtree        \n",
    "            #find the biggest value in the left subtree \n",
    "\n",
    "#     def delete_Helper(self,parent,root,target):\n",
    "            \n",
    "#         elif root.leftchild.value != target and root.rightchild == None: #只有左邊subtree        \n",
    "#             #find the biggest value in the left subtree\n",
    "            \n",
    "#         elif root.leftchild == None and root.rightchild is not None: #只有右邊subtree\n",
    "#             #find the smallest value in the right subtree\n",
    "            \n",
    "#         elif root.leftchild is not None and root.rightchild is not None: #有兩個小孩\n",
    "#             #find the smallest value in the right subtree\n",
    "    \n",
    "#     def find_delete_root(self,root,target): #找到target root，並且return給delete使用\n",
    "#         if root.value == target:\n",
    "#             return None,root,target\n",
    "#         elif root.value > target: #往左邊 \n",
    "#             if root.leftchild == None: #左邊空\n",
    "#                 return False\n",
    "#             else: #左邊不空\n",
    "#                 parent = root\n",
    "#                 root = root.leftchild\n",
    "#                 return Solution().find_delete_root(root,target)\n",
    "#         else: #往右邊\n",
    "#             if root.rightchild == None: #右邊空\n",
    "#                 return False\n",
    "#             else: #右邊不空\n",
    "#                 root = root.rightchild\n",
    "#                 return Solution().find_delete_root(root,target)\n",
    "    \n",
    "    def pre_order_traversal(self,root,arr):\n",
    "        print(root.value)\n",
    "        arr.append(root.value)\n",
    "        if root.leftchild is not None:\n",
    "            Solution().pre_order_traversal(root.leftchild,arr)\n",
    "        if root.rightchild is not None:\n",
    "            Solution().pre_order_traversal(root.rightchild,arr)\n",
    "        return arr"
   ]
  },
  {
   "cell_type": "markdown",
   "metadata": {},
   "source": [
    "其實這邊我大概修了10分鐘，不過就是一些邏輯上的不夠嚴謹，考慮的事項不夠完整而已\n",
    "\n",
    "if delete_node.leftchild == None and delete_node.rightchild == None: #delete_node底下都指向None\n",
    "            \n",
    "            delete_node.value = None\n",
    "            \n",
    "            print(\"Only one target\",target,\"is in BST structure.\")\n",
    "            \n",
    "            print(\"Target\",val,\"has successfully deleted.\")\n",
    "            \n",
    "            return True\n",
    "            \n",
    "改成\n",
    "\n",
    "if delete_node.leftchild == None and delete_node.rightchild == None: #delete_node底下都指向None\n",
    "            \n",
    "            while parent_node.leftchild.value == delete_node.value:\n",
    "                \n",
    "                parent_node.leftchild = None\n",
    "            \n",
    "            parent_node.rightchild = None\n",
    "            \n",
    "            print(\"Only one target\",target,\"is in BST structure.\")\n",
    "            \n",
    "            print(\"Target\",target,\"has successfully deleted.\")\n",
    "            \n",
    "            return True\n",
    "            \n",
    "簡單講就是當if條件成立，我要再判斷說 parent_node 的左邊還是右邊才是 delete_node，並且把指向變成None，就完成刪除動作了"
   ]
  },
  {
   "cell_type": "code",
   "execution_count": 2,
   "metadata": {},
   "outputs": [],
   "source": [
    "class Node:\n",
    "    def __init__(self,val):\n",
    "        self.value = val\n",
    "        self.leftchild = None\n",
    "        self.rightchild = None\n",
    "\n",
    "class Solution:\n",
    "    \n",
    "    def insert(self,root,val):\n",
    "        if root.value == val:\n",
    "            NewNode = Node(val)\n",
    "            NewNode.leftchild = root.leftchild\n",
    "            root.leftchild = NewNode\n",
    "            print(\"Value\",val,\"has successfully inserted into left Node.\")\n",
    "            print(\"There are now more than one value\",val,\"in the BST structure.\")\n",
    "            return True\n",
    "        elif root.value < val: #往右邊\n",
    "            if root.rightchild == None: #右邊沒小孩，直接給Node\n",
    "                root.rightchild = Node(val)\n",
    "                print(\"Value\",val,\"has successfully inserted into right Node.\")\n",
    "                return True\n",
    "            else: #右邊有小孩，recursive\n",
    "                return Solution().insert(root.rightchild,val)\n",
    "        else: #往左邊\n",
    "            if root.leftchild == None: #左邊沒小孩，直接給Node\n",
    "                root.leftchild = Node(val)\n",
    "                print(\"Value\",val,\"has successfully inserted into left Node.\")\n",
    "                return True\n",
    "            else: #左邊有小孩，recursive\n",
    "                return Solution().insert(root.leftchild,val)\n",
    "    \n",
    "    def search(self,root,target):\n",
    "        if root.value == target:\n",
    "            print(\"Target\",root.value,\"has been found in BST structure.\")\n",
    "            return True\n",
    "        elif root.value > target: #往左邊 \n",
    "            if root.leftchild == None: #左邊空，return False\n",
    "                print(\"Error_1: Cannot find\",target,\"in BST structure.\")\n",
    "                return False\n",
    "            else: #左邊不空，recursive\n",
    "                root = root.leftchild\n",
    "                return Solution().search(root,target)\n",
    "        else: #往右邊\n",
    "            if root.rightchild == None: #右邊空，return False\n",
    "                print(\"Error_2: Cannot find\",target,\"in BST structure.\")\n",
    "                return False\n",
    "            else: #右邊不空，recursive\n",
    "                root = root.rightchild\n",
    "                return Solution().search(root,target)\n",
    "    \n",
    "    def delete(self,root,target):\n",
    "        \n",
    "        ### case 1 : 10 \n",
    "        \n",
    "        if root.value == target: #要刪除的值 在root節點\n",
    "            if root.leftchild is None and root.rightchild is None: #root底下沒有小孩\n",
    "                root = None\n",
    "                print(\"Target\",target,\"which is in root node has successfully deleted.\")\n",
    "                print(\"Please create a new root again by using the code [root = Node(val)].\")\n",
    "                return True\n",
    "         \n",
    "        ### case 2 : 10_10_10\n",
    "            \n",
    "            elif root.leftchild is not None and root.rightchild is None: #root底下只有左小孩\n",
    "                while root.leftchild is not None and root.leftchild.value == target: #且target有重複值            \n",
    "                    a = root.leftchild\n",
    "                    root.leftchild = root.leftchild.leftchild #這邊的root就會等於最左邊的那個重複值，且必定沒有rightchild\n",
    "                    a = None\n",
    "        \n",
    "                if root.leftchild == None: #刪除的值的節點底下為空       \n",
    "                    root = None\n",
    "                    print(\"There are more than one target\",target,\"in BST structure.\")\n",
    "                    print(\"Target\",target,\"successfully deleted.\")\n",
    "                    print(\"Please create a new root again by using the code [root = Node(val)].\")\n",
    "                    return True\n",
    "        \n",
    "        ###　case 3 : 10_10_10_9_8\n",
    "\n",
    "                elif root.leftchild is not None and root.leftchild.rightchild == None: #只有一直往左下    \n",
    "                    root = root.leftchild\n",
    "                    print(\"Target\",target,\"successfully deleted.\")\n",
    "                    return True\n",
    "\n",
    "        ### case 4 : 10_10_10_9_8_9.1\n",
    "                \n",
    "                #elif root.leftchild is not None and root.leftchild.rightchild is not None:\n",
    "                else:\n",
    "                    root = None\n",
    "                    print(\"Target\",target,\"successfully deleted.\")\n",
    "                    return True\n",
    "        \n",
    "        ### case 5 : 10_12_13_11\n",
    "        \n",
    "            elif root.rightchild is not None and root.leftchild is None: #root底下只有右小孩\n",
    "                root = root.rightchild\n",
    "                print(\"Target\",target,\"successfully deleted.\")\n",
    "                return True\n",
    "        \n",
    "        ###有錯 case 6 : 10_9_8_11_12\n",
    "            \n",
    "            else: #root底下有兩個小孩\n",
    "                if root.leftchild.rightchild == None and root.rightchild.leftchild == None: #root的小孩誰上都行\n",
    "                    root.leftchild.rightchild = root.rightchild\n",
    "                    root = None       \n",
    "                    print(\"Target\",target,\"successfully deleted.\")\n",
    "                    return True\n",
    "         \n",
    "        ###有錯 case 7 : 10_6_15_2_8_9\n",
    "        \n",
    "                elif root.leftchild.rightchild is not None and root.rightchild.leftchild == None: #找左subtreee的最大值\n",
    "                    temp_parent = root.leftchild\n",
    "                    temp = root.leftchild.rightchild\n",
    "                    while temp.rightchild is not None: #find the biggest value in the left subtree  \n",
    "                        temp_parent = temp\n",
    "                        temp = temp.rightchild\n",
    "                    temp.leftchild = root.leftchild\n",
    "                    temp.rightchild = root.rightchild\n",
    "                    temp_parent.rightchild = None\n",
    "                    root = None\n",
    "                    print(\"Target\",target,\"successfully deleted.\")\n",
    "                    return True\n",
    "            \n",
    "        ###有錯 case 8: 10_6_15_14_13_18\n",
    "                \n",
    "                elif root.rightchild.leftchild is not None and root.leftchild.rightchild == None: #找右subtree的最大值\n",
    "                    temp_parent = root.rightchild\n",
    "                    temp = root.rightchild.leftchild\n",
    "                    while temp.leftchild is not None: #find the biggest value in the left subtree  \n",
    "                        temp_parent = temp\n",
    "                        temp = temp.leftchild\n",
    "                    temp.leftchild = root.leftchild\n",
    "                    temp.rightchild = root.rightchild\n",
    "                    temp_parent.leftchild = None\n",
    "                    root = None\n",
    "                    print(\"Target\",target,\"successfully deleted.\")\n",
    "                    return True              \n",
    "        \n",
    "        #要刪除的值 若不在root節點 就必須要記錄 \"delete_node\" 跟 \"parent_node\"\n",
    "        #初始化 \"delete_node\" 跟 \"parent_node\"\n",
    "        \n",
    "        parent_node = None\n",
    "        delete_node = root\n",
    "        \n",
    "        #這邊如果進行recursive呼叫會讓上面的root更動，故需使用while迴圈直接把 \"delete_node\" 跟 \"parent_node\" 找出來\n",
    "        \n",
    "        ### case 9 : 找不到，return False\n",
    "        \n",
    "        while delete_node.value != target:\n",
    "            if target > delete_node.value: #往右邊\n",
    "                if delete_node.rightchild == None:\n",
    "                    print(\"Error 1: Cannot find target\",target,\"in BST structure.\")\n",
    "                    return False\n",
    "                else:\n",
    "                    parent_node = delete_node\n",
    "                    delete_node = delete_node.rightchild\n",
    "\n",
    "            elif target < delete_node.value: #往左邊\n",
    "                if delete_node.leftchild == None:\n",
    "                    print(\"Error 2: Cannot find target\",target,\"in BST structure.\")\n",
    "                    return False\n",
    "                else:\n",
    "                    parent_node = delete_node\n",
    "                    delete_node = delete_node.leftchild\n",
    "                    \n",
    "        ### case 10 : delete_node底下都指向None\n",
    "        \n",
    "        if delete_node.leftchild == None and delete_node.rightchild == None:\n",
    "            \n",
    "            if parent_node.leftchild is not None and parent_node.rightchild == None: #只有parent的left存在\n",
    "                parent_node.leftchild = None\n",
    "            elif parent_node.rightchild is not None and parent_node.leftchild == None: #只有parent的right存在\n",
    "                parent_node.rightchild = None\n",
    "            else: #parent的left、right都存在，找出要刪除的節點是誰\n",
    "                if parent_node.leftchild.value == delete_node.value:\n",
    "                    parent_node.leftchild = None\n",
    "                else:\n",
    "                    parent_node.rightchild = None\n",
    "            print(\"Only one target\",target,\"is in BST structure.\")\n",
    "            print(\"Target\",target,\"has successfully deleted.\")\n",
    "            return True\n",
    "        \n",
    "        \n",
    "        ### case 11 : target有重複值 且 刪除的值的節點底下為空\n",
    "        \n",
    "        while delete_node.leftchild is not None and delete_node.leftchild.value == target: #target有重複值\n",
    "            delete_node = delete_node.leftchild #這邊的delete_node就會等於最左邊的那個重複值，且必定沒有rightchild    \n",
    "        \n",
    "        if delete_node.leftchild == None and delete_node.rightchild == None: #刪除的值的節點底下為空\n",
    "            if parent_node.leftchild is not None:\n",
    "                parent_node.leftchild = None\n",
    "            else:\n",
    "                parent_node.rightchild = None\n",
    "            print(\"Target\",target,\"successfully deleted.\")\n",
    "            return True\n",
    "             \n",
    "        ### case 12 : 只有直往左下\n",
    "    \n",
    "        elif delete_node.leftchild is not None and delete_node.leftchild.rightchild == None: #只有一直往左下\n",
    "            if parent_node.leftchild is not None:\n",
    "                parent_node.leftchild = delete_node.leftchild\n",
    "                delete_node = None\n",
    "            else:\n",
    "                parent_node.rightchild = delete_node.leftchild\n",
    "                delete_node = None\n",
    "            print(\"Target\",target,\"successfully deleted.\")\n",
    "            return True\n",
    "        \n",
    "        ### case 13 : find the biggest value in the left subtree\n",
    "        \n",
    "        elif delete_node.leftchild is not None and delete_node.leftchild.rightchild is not None:\n",
    "            temp_parent = delete_node.leftchild\n",
    "            temp = delete_node.leftchild.rightchild\n",
    "            while temp.rightchild is not None:\n",
    "                temp_parent = temp\n",
    "                temp = temp.rightchild      \n",
    "            parent_node.leftchild = temp\n",
    "            temp.leftchild = delete_node.leftchild\n",
    "            temp_parent.rightchild = None\n",
    "            delete_node = None\n",
    "            print(\"Target\",target,\"successfully deleted.\")\n",
    "            return True\n",
    "        \n",
    "        ### case 14 : find the smallest value in the right subtree\n",
    "        \n",
    "        elif delete_node.rightchild is not None and delete_node.rightchild.leftchild is not None:\n",
    "            temp_parent = delete_node.rightchild\n",
    "            temp = delete_node.rightchild.leftchild\n",
    "            while temp.leftchild is not None:\n",
    "                temp_parent = temp\n",
    "                temp = temp.leftchild      \n",
    "            parent_node.rightchild = temp\n",
    "            temp.rightchild = delete_node.rightchild\n",
    "            temp_parent.leftchild = None\n",
    "            delete_node = None\n",
    "            print(\"Target\",target,\"successfully deleted...\")\n",
    "            return True\n",
    "        else:\n",
    "            print(\"Sorry... Something went wrong. Please dial 0905175060 for more information.\")\n",
    "    \n",
    "    def pre_order_traversal(self,root,arr):\n",
    "        print(root.value)\n",
    "        arr.append(root.value)\n",
    "        if root.leftchild is not None:\n",
    "            Solution().pre_order_traversal(root.leftchild,arr)\n",
    "        if root.rightchild is not None:\n",
    "            Solution().pre_order_traversal(root.rightchild,arr)\n",
    "        return arr"
   ]
  },
  {
   "cell_type": "markdown",
   "metadata": {},
   "source": [
    "11/13新增，在case 12的程式碼再次修改\n",
    "\n",
    "if parent_node.leftchild is not None:\n",
    "                \n",
    "                parent_node.leftchild = delete_node.leftchild\n",
    "               \n",
    "                delete_node = None\n",
    "            \n",
    "            else:\n",
    "                \n",
    "                parent_node.rightchild = delete_node.leftchild\n",
    "                \n",
    "                delete_node = None\n",
    "\n",
    "if parent_node.leftchild is not None and parent_node.value == delete_node.value:\n",
    "\n",
    "必須確定p.left存在 且 p.left.val 等於 d.val(因為p.right可以同時存在) \n",
    "                \n",
    "                parent_node.leftchild = delete_node.leftchild\n",
    "                \n",
    "                delete_node.leftchild.rightchild = delete_node.rightchild\n",
    "                \n",
    "                delete_node = None\n",
    "            \n",
    "            else:\n",
    "                \n",
    "                parent_node.rightchild = delete_node.leftchild\n",
    "                \n",
    "                delete_node.leftchild.rightchild = delete_node.rightchild\n",
    "                \n",
    "                delete_node = None\n",
    "                \n",
    "其實就是新增了兩行程式碼，然後if條件式再更嚴格而已，因為我沒考慮到如果delete_node的右邊節點存在的情況，要把d.right重新連結~\n",
    "\n",
    "感覺還蠻酷的，當下隨便丟了一組測值就發現自己邏輯的缺陷，並且快速的進行修正~其實有按照case來分的話，找到錯誤的邏輯碼不難\n",
    "\n",
    "最笨的方式就是程式碼寫得很亂，當有問題的時候還要慢慢地找說是哪部分的邏輯出了問題，所以我覺得程式碼的編排真的很重要~\n",
    "\n",
    "11/13新增，在modify的部分，我最初的想法是先呼叫delete，再呼叫insert，可是後來又想到，如果先呼叫insert再呼叫delete的話\n",
    "\n",
    "雖然一樣都能符合BST的規則，但是pre_order出來的順序就會不一樣了！所以這部分還要再問看看助教的要求是什麼\n",
    "\n",
    "另外其實有些情況 modify之後 不用進行任何更動 也會符合BST的規則 這些case也都是要再進行研究的\n",
    "\n",
    "11/13晚上有詢問老師三個關於BST的問題，老師說之後會讓助教統一回覆\n",
    "\n",
    "11/15助教更新程式碼的範例，助教會創建四顆一樣的樹，並且分別測試我們的insert、delete、modify、search"
   ]
  },
  {
   "cell_type": "code",
   "execution_count": 3,
   "metadata": {},
   "outputs": [],
   "source": [
    "class TreeNode(object):\n",
    "    def __init__(self,x):\n",
    "        self.val = x\n",
    "        self.left = None\n",
    "        self.right = None\n",
    "\n",
    "class Solution(object):\n",
    "    \n",
    "    def insert(self,root,val):\n",
    "        if root.val == val:\n",
    "            NewNode = TreeNode(val)\n",
    "            NewNode.left = root.left\n",
    "            root.left = NewNode\n",
    "            print(\"Value\",val,\"has successfully inserted into left Node.\")\n",
    "            print(\"There are now more than one value\",val,\"in the BST structure.\")\n",
    "            return True\n",
    "        elif root.val < val: #往右邊\n",
    "            if root.right == None: #右邊沒小孩，直接給Node\n",
    "                root.right = TreeNode(val)\n",
    "                print(\"Value\",val,\"has successfully inserted into right Node.\")\n",
    "                return True\n",
    "            else: #右邊有小孩，recursive\n",
    "                return Solution().insert(root.right,val)\n",
    "        else: #往左邊\n",
    "            if root.left == None: #左邊沒小孩，直接給Node\n",
    "                root.left = TreeNode(val)\n",
    "                print(\"Value\",val,\"has successfully inserted into left Node.\")\n",
    "                return True\n",
    "            else: #左邊有小孩，recursive\n",
    "                return Solution().insert(root.left,val)\n",
    "    \n",
    "    def search(self,root,target):\n",
    "        if root.val == target:\n",
    "            print(\"Target\",root.value,\"has been found in BST structure.\")\n",
    "            return True\n",
    "        elif root.val > target: #往左邊 \n",
    "            if root.left == None: #左邊空，return False\n",
    "                print(\"Error_1: Cannot find\",target,\"in BST structure.\")\n",
    "                return False\n",
    "            else: #左邊不空，recursive\n",
    "                root = root.left\n",
    "                return Solution().search(root,target)\n",
    "        else: #往右邊\n",
    "            if root.right == None: #右邊空，return False\n",
    "                print(\"Error_2: Cannot find\",target,\"in BST structure.\")\n",
    "                return False\n",
    "            else: #右邊不空，recursive\n",
    "                root = root.right\n",
    "                return Solution().search(root,target)\n",
    "    \n",
    "    def delete(self,root,target):\n",
    "        \n",
    "        ### case 1 : 10 \n",
    "        \n",
    "        if root.val == target: #要刪除的值 在root節點\n",
    "            if root.left is None and root.right is None: #root底下沒有小孩\n",
    "                root = None\n",
    "                print(\"Target\",target,\"which is in root node has successfully deleted.\")\n",
    "                print(\"Please create a new root again by using the code [root = Node(val)].\")\n",
    "                return True\n",
    "         \n",
    "        ### case 2 : 10_10_10\n",
    "            \n",
    "            elif root.left is not None and root.right is None: #root底下只有左小孩\n",
    "                while root.left is not None and root.left.val == target: #且target有重複值            \n",
    "                    a = root.left\n",
    "                    root.left = root.left.left #這邊的root就會等於最左邊的那個重複值，且必定沒有rightchild\n",
    "                    a = None\n",
    "        \n",
    "                if root.left == None: #刪除的值的節點底下為空       \n",
    "                    root = None\n",
    "                    print(\"There are more than one target\",target,\"in BST structure.\")\n",
    "                    print(\"Target\",target,\"successfully deleted.\")\n",
    "                    print(\"Please create a new root again by using the code [root = Node(val)].\")\n",
    "                    return True\n",
    "        \n",
    "        ###　case 3 : 10_10_10_9_8\n",
    "\n",
    "                elif root.left is not None and root.left.right == None: #只有一直往左下    \n",
    "                    root = root.left\n",
    "                    print(\"Target\",target,\"successfully deleted.\")\n",
    "                    return True\n",
    "\n",
    "        ### case 4 : 10_10_10_9_8_9.1\n",
    "                \n",
    "                #elif root.leftchild is not None and root.leftchild.rightchild is not None:\n",
    "                else:\n",
    "                    root = None\n",
    "                    print(\"Target\",target,\"successfully deleted.\")\n",
    "                    return True\n",
    "        \n",
    "        ### case 5 : 10_12_13_11\n",
    "        \n",
    "            elif root.right is not None and root.left is None: #root底下只有右小孩\n",
    "                root = root.right\n",
    "                print(\"Target\",target,\"successfully deleted.\")\n",
    "                return True\n",
    "        \n",
    "        ### case 6 : 10_9_8_11_12\n",
    "            \n",
    "            else: #root底下有兩個小孩\n",
    "                if root.left.right == None and root.right.left == None: #root的小孩誰上都行\n",
    "                    root.left.right = root.right\n",
    "                    Newroot = root.left\n",
    "                    root = None\n",
    "                    #print(\"Target\",target,\"successfully deleted.\")\n",
    "                    return Newroot\n",
    "         \n",
    "        ### case 7 : 10_6_15_2_8_9\n",
    "        \n",
    "                elif root.left.right is not None and root.right.left == None: #找左subtreee的最大值\n",
    "                    temp_parent = root.left\n",
    "                    temp = root.left.right\n",
    "                    while temp.right is not None: #find the biggest value in the left subtree  \n",
    "                        temp_parent = temp\n",
    "                        temp = temp.right\n",
    "                    temp.left = root.left\n",
    "                    temp.right = root.right\n",
    "                    temp_parent.right = None\n",
    "                    Newroot = temp\n",
    "                    root = None\n",
    "                    #print(\"Target\",target,\"successfully deleted.\")\n",
    "                    return Newroot\n",
    "            \n",
    "        ### case 8: 10_6_15_14_13_18\n",
    "                \n",
    "                elif root.right.left is not None and root.left.right == None: #找右subtree的最大值\n",
    "                    temp_parent = root.right\n",
    "                    temp = root.right.left\n",
    "                    while temp.left is not None: #find the biggest value in the left subtree  \n",
    "                        temp_parent = temp\n",
    "                        temp = temp.left\n",
    "                    temp.left = root.left\n",
    "                    temp.right = root.right\n",
    "                    temp_parent.left = None\n",
    "                    Newroot = temp\n",
    "                    root = None\n",
    "                    print(\"Target\",target,\"successfully deleted.\")\n",
    "                    return temp        \n",
    "        \n",
    "        #要刪除的值 若不在root節點 就必須要記錄 \"delete_node\" 跟 \"parent_node\"\n",
    "        #初始化 \"delete_node\" 跟 \"parent_node\"\n",
    "        \n",
    "        parent_node = None\n",
    "        delete_node = root\n",
    "        \n",
    "        #這邊如果進行recursive呼叫會讓上面的root更動，故需使用while迴圈直接把 \"delete_node\" 跟 \"parent_node\" 找出來\n",
    "        \n",
    "        ### case 9 : 找不到，return False\n",
    "        \n",
    "        while delete_node.val != target:\n",
    "            if target > delete_node.val: #往右邊\n",
    "                if delete_node.right == None:\n",
    "                    print(\"Error 1: Cannot find target\",target,\"in BST structure.\")\n",
    "                    return False\n",
    "                else:\n",
    "                    parent_node = delete_node\n",
    "                    delete_node = delete_node.rightchild\n",
    "\n",
    "            elif target < delete_node.val: #往左邊\n",
    "                if delete_node.left == None:\n",
    "                    print(\"Error 2: Cannot find target\",target,\"in BST structure.\")\n",
    "                    return False\n",
    "                else:\n",
    "                    parent_node = delete_node\n",
    "                    delete_node = delete_node.left\n",
    "                    \n",
    "        ### case 10 : delete_node底下都指向None\n",
    "        \n",
    "        if delete_node.left == None and delete_node.right == None:\n",
    "            \n",
    "            if parent_node.left is not None and parent_node.right == None: #只有parent的left存在\n",
    "                parent_node.left = None\n",
    "            elif parent_node.right is not None and parent_node.left == None: #只有parent的right存在\n",
    "                parent_node.right = None\n",
    "            else: #parent的left、right都存在，找出要刪除的節點是誰\n",
    "                if parent_node.left.val == delete_node.val:\n",
    "                    parent_node.left = None\n",
    "                else:\n",
    "                    parent_node.right = None\n",
    "            print(\"Only one target\",target,\"is in BST structure.\")\n",
    "            print(\"Target\",target,\"has successfully deleted.\")\n",
    "            return True\n",
    "        \n",
    "        \n",
    "        ### case 11 : target有重複值 且 刪除的值的節點底下為空\n",
    "        \n",
    "        while delete_node.left is not None and delete_node.left.val == target: #target有重複值\n",
    "            delete_node = delete_node.left #這邊的delete_node就會等於最左邊的那個重複值，且必定沒有rightchild    \n",
    "        \n",
    "        if delete_node.left == None and delete_node.right == None: #刪除的值的節點底下為空\n",
    "            if parent_node.left is not None:\n",
    "                parent_node.left = None\n",
    "            else:\n",
    "                parent_node.right = None\n",
    "            print(\"Target\",target,\"successfully deleted.\")\n",
    "            return True\n",
    "             \n",
    "        ### case 12 : 只有直往左下\n",
    "    \n",
    "        elif delete_node.left is not None and delete_node.left.right == None: #只有一直往左下\n",
    "            if parent_node.left is not None and parent_node.val == delete_node.val:\n",
    "                parent_node.left = delete_node.left\n",
    "                delete_node.left.right = delete_node.right\n",
    "                delete_node = None\n",
    "            else:\n",
    "                parent_node.right = delete_node.left\n",
    "                delete_node.left.right = delete_node.right\n",
    "                delete_node = None\n",
    "            \n",
    "            print(\"Target\",target,\"successfully deleted.\")\n",
    "            return True\n",
    "        \n",
    "        ### case 13 : find the biggest value in the left subtree\n",
    "        \n",
    "        elif delete_node.left is not None and delete_node.left.right is not None:\n",
    "            temp_parent = delete_node.left\n",
    "            temp = delete_node.left.right\n",
    "            while temp.right is not None:\n",
    "                temp_parent = temp\n",
    "                temp = temp.right     \n",
    "            parent_node.left = temp\n",
    "            temp.left = delete_node.left\n",
    "            temp_parent.right = None\n",
    "            delete_node = None\n",
    "            print(\"Target\",target,\"successfully deleted.\")\n",
    "            return True\n",
    "        \n",
    "        ### case 14 : find the smallest value in the right subtree\n",
    "        \n",
    "        elif delete_node.right is not None and delete_node.right.left is not None:\n",
    "            temp_parent = delete_node.right\n",
    "            temp = delete_node.right.left\n",
    "            while temp.left is not None:\n",
    "                temp_parent = temp\n",
    "                temp = temp.left      \n",
    "            parent_node.right = temp\n",
    "            temp.right = delete_node.right\n",
    "            temp_parent.left = None\n",
    "            delete_node = None\n",
    "            print(\"Target\",target,\"successfully deleted...\")\n",
    "            return True\n",
    "        else:\n",
    "            print(\"Sorry... Something went wrong. Please dial 0905175060 for more information.\")\n",
    "    \n",
    "    def pre(self,root,arr):\n",
    "        print(root.val)\n",
    "        arr.append(root.val)\n",
    "        if root.left is not None:\n",
    "            Solution().pre(root.left,arr)\n",
    "        if root.right is not None:\n",
    "            Solution().pre(root.right,arr)\n",
    "        return arr\n",
    "    \n",
    "    def modify(self,root,target,new_val):\n",
    "        Solution().delete(root,target)\n",
    "        Solution().insert(root,new_val)"
   ]
  },
  {
   "cell_type": "code",
   "execution_count": 4,
   "metadata": {},
   "outputs": [],
   "source": [
    "root = TreeNode(10)"
   ]
  },
  {
   "cell_type": "code",
   "execution_count": 5,
   "metadata": {},
   "outputs": [],
   "source": [
    "a = Solution()"
   ]
  },
  {
   "cell_type": "code",
   "execution_count": 6,
   "metadata": {},
   "outputs": [
    {
     "name": "stdout",
     "output_type": "stream",
     "text": [
      "Value 6 has successfully inserted into left Node.\n"
     ]
    },
    {
     "data": {
      "text/plain": [
       "True"
      ]
     },
     "execution_count": 6,
     "metadata": {},
     "output_type": "execute_result"
    }
   ],
   "source": [
    "a.insert(root,6)"
   ]
  },
  {
   "cell_type": "code",
   "execution_count": 7,
   "metadata": {},
   "outputs": [
    {
     "name": "stdout",
     "output_type": "stream",
     "text": [
      "Value 15 has successfully inserted into right Node.\n"
     ]
    },
    {
     "data": {
      "text/plain": [
       "True"
      ]
     },
     "execution_count": 7,
     "metadata": {},
     "output_type": "execute_result"
    }
   ],
   "source": [
    "a.insert(root,15)"
   ]
  },
  {
   "cell_type": "code",
   "execution_count": 8,
   "metadata": {},
   "outputs": [
    {
     "name": "stdout",
     "output_type": "stream",
     "text": [
      "Value 14 has successfully inserted into left Node.\n"
     ]
    },
    {
     "data": {
      "text/plain": [
       "True"
      ]
     },
     "execution_count": 8,
     "metadata": {},
     "output_type": "execute_result"
    }
   ],
   "source": [
    "a.insert(root,14)"
   ]
  },
  {
   "cell_type": "code",
   "execution_count": 9,
   "metadata": {},
   "outputs": [
    {
     "name": "stdout",
     "output_type": "stream",
     "text": [
      "Value 18 has successfully inserted into right Node.\n"
     ]
    },
    {
     "data": {
      "text/plain": [
       "True"
      ]
     },
     "execution_count": 9,
     "metadata": {},
     "output_type": "execute_result"
    }
   ],
   "source": [
    "a.insert(root,18)"
   ]
  },
  {
   "cell_type": "code",
   "execution_count": 10,
   "metadata": {},
   "outputs": [
    {
     "name": "stdout",
     "output_type": "stream",
     "text": [
      "Value 13 has successfully inserted into left Node.\n"
     ]
    },
    {
     "data": {
      "text/plain": [
       "True"
      ]
     },
     "execution_count": 10,
     "metadata": {},
     "output_type": "execute_result"
    }
   ],
   "source": [
    "a.insert(root,13)"
   ]
  },
  {
   "cell_type": "code",
   "execution_count": 11,
   "metadata": {},
   "outputs": [
    {
     "name": "stdout",
     "output_type": "stream",
     "text": [
      "Target 10 successfully deleted.\n",
      "13\n",
      "6\n",
      "15\n",
      "14\n",
      "18\n"
     ]
    },
    {
     "data": {
      "text/plain": [
       "[13, 6, 15, 14, 18]"
      ]
     },
     "execution_count": 11,
     "metadata": {},
     "output_type": "execute_result"
    }
   ],
   "source": [
    "a.pre(a.delete(root,10),[])"
   ]
  },
  {
   "cell_type": "markdown",
   "metadata": {},
   "source": [
    "11/16新增幾個小修改，用別人的測值丟進去看看，結果馬上又跑出error...感覺建構這種大型的邏輯架構，真的很容易有漏網之漁....\n",
    "\n",
    "case 9 : 找不到，return False\n",
    "\n",
    "while delete_node.val != target:  改成  while delete_node is not None and delete_node.val != target:\n",
    "\n",
    "常常會出現error：xxx has no attribute \"left\" 簡單講就是while迴圈沒有設定停止點 xxx is not None，導致xxx已經往下走到None節點\n",
    "\n",
    "case 12 : 只有直往左下\n",
    "\n",
    "if parent_node.left is not None and parent_node.val == delete_node.val:\n",
    "\n",
    "改成\n",
    "\n",
    "if parent_node.left is not None and parent_node.left.val == delete_node.val:\n",
    "\n",
    "其實就是打錯而已== 我這邊是要確認p.left存在，且p.left.val就是d.val。else的情況就是p.right.val就是d.val\n",
    "\n",
    "case 13 : find the biggest value in the left subtree\n",
    "\n",
    "多加一行 if parent_node.left is not None and parent_node.left.val == delete_node.val:\n",
    "\n",
    "一樣就是要考慮對稱的情況，所以每種case至少要丟2種測值才會穩\n",
    "\n",
    "新增case 15、16： target底下只有其中一個小孩\n",
    "\n",
    "11/17新增，直接把delete部分的程式碼全部重寫，因為邏輯架構不夠完整，整整花了半天來寫"
   ]
  },
  {
   "cell_type": "code",
   "execution_count": 1,
   "metadata": {},
   "outputs": [],
   "source": [
    "class TreeNode(object):\n",
    "    def __init__(self,x):\n",
    "        self.val = x\n",
    "        self.left = None\n",
    "        self.right = None\n",
    "\n",
    "class Solution(object):\n",
    "    \n",
    "    def insert(self,root,val):\n",
    "        if root.val == val:\n",
    "            NewNode = TreeNode(val)\n",
    "            NewNode.left = root.left\n",
    "            root.left = NewNode\n",
    "            return NewNode\n",
    "        elif root.val < val: #往右邊\n",
    "            if root.right == None: #右邊沒小孩，直接給Node\n",
    "                root.right = TreeNode(val)\n",
    "                return root.right\n",
    "            else: #右邊有小孩，recursive\n",
    "                return Solution().insert(root.right,val)\n",
    "        else: #往左邊\n",
    "            if root.left == None: #左邊沒小孩，直接給Node\n",
    "                root.left = TreeNode(val)\n",
    "                return root.left\n",
    "            else: #左邊有小孩，recursive\n",
    "                return Solution().insert(root.left,val)\n",
    "    \n",
    "    def search(self,root,target):\n",
    "        if root.val == target:\n",
    "            return root\n",
    "        elif root.val > target: #往左邊 \n",
    "            if root.left == None: #左邊空\n",
    "                pass\n",
    "            else: #左邊不空，recursive\n",
    "                root = root.left\n",
    "                return Solution().search(root,target)\n",
    "        else: #往右邊\n",
    "            if root.right == None: #右邊空\n",
    "                 pass\n",
    "            else: #右邊不空，recursive\n",
    "                root = root.right\n",
    "                return Solution().search(root,target)\n",
    "    \n",
    "    def pre(self,root,arr):\n",
    "        arr.append(root.val)\n",
    "        if root.left is not None:\n",
    "            Solution().pre(root.left,arr)\n",
    "        if root.right is not None:\n",
    "            Solution().pre(root.right,arr)\n",
    "        return arr\n",
    "    \n",
    "    def modify(self,root,target,new_val):\n",
    "        Solution().delete(root,target)\n",
    "        Solution().insert(root,new_val)\n",
    "        \n",
    "    def delete(self,root,target):\n",
    "        \n",
    "        if root.val == target:\n",
    "            \n",
    "            # 有重複值的情況，把重複值弄成一個\n",
    "            \n",
    "            d = root\n",
    "            while d.left is not None and d.left.val == target:\n",
    "                d = d.left\n",
    "            root.left = d.left\n",
    "            \n",
    "            # case 5: root底下沒有小孩\n",
    "            \n",
    "            if root.left is None and root.right is None:\n",
    "                root = None\n",
    "                print(\"case5\")\n",
    "                return None\n",
    "            \n",
    "            # case 6: root底下只有左小孩\n",
    "            \n",
    "            elif root.left is not None and root.right is None:\n",
    "                n = root.left\n",
    "                root = None\n",
    "                print(\"case6\")\n",
    "                return n\n",
    "            \n",
    "            # case 7: root底下只有右小孩\n",
    "            \n",
    "            elif root.right is not None and root.left is None:\n",
    "                n = root.right\n",
    "                root = None\n",
    "                print(\"case7\")\n",
    "                return n\n",
    "            \n",
    "            #case 8: root底下有兩個小孩\n",
    "            \n",
    "            elif root.left is not None and root.right is not None:\n",
    "                \n",
    "                #case 8-1: 不需要找左subtree最大 or 右subtree最小\n",
    "                \n",
    "                if root.left.right is None and root.right.left is None:\n",
    "                    n = root.left\n",
    "                    n.right = root.right\n",
    "                    root = None\n",
    "                    print(\"case8-1\")\n",
    "                    return n                        \n",
    "                \n",
    "                #case 8-2: 找右subtree最小\n",
    "                \n",
    "                elif root.left.right is None and root.right.left is not None:\n",
    "                    tp = root.right\n",
    "                    t = root.right.left\n",
    "                    while t.left is not None:\n",
    "                        tp = t\n",
    "                        t = t.left\n",
    "                    if root.right == tp:\n",
    "                        tp.left = t.right\n",
    "                        t.right = root.right\n",
    "                        t.left = root.left\n",
    "                        root = t\n",
    "                        print(\"case8-2\")\n",
    "                        return root\n",
    "                    else:\n",
    "                        tp.left = t.right\n",
    "                        t.right = root.right\n",
    "                        t.left = root.left\n",
    "                        root = t\n",
    "                        print(\"case8-2\")\n",
    "                        return root\n",
    "                \n",
    "                #case 8-3: 找左subtree最大\n",
    "                \n",
    "                elif root.left.right is not None:\n",
    "                    tp = root.left\n",
    "                    t = root.left.right\n",
    "                    while t.right is not None:\n",
    "                        tp = t\n",
    "                        t = t.right\n",
    "                    if root.left == tp:\n",
    "                        tp.right = t.left\n",
    "                        t.left = root.left\n",
    "                        t.right = root.right\n",
    "                        root = t\n",
    "                        print(\"case8-3\")\n",
    "                        return root\n",
    "                    else:\n",
    "                        tp.right = t.left\n",
    "                        t.right = root.right\n",
    "                        t.left = root.left\n",
    "                        root = t\n",
    "                        print(\"case8-3\")\n",
    "                        return root\n",
    "        \n",
    "        else:\n",
    "            \n",
    "            # 僅先找到 \"刪除節點\" 跟 \"刪除節點的parent\"，還未考慮重複值的問題\n",
    "            \n",
    "            p = None\n",
    "            dr = root       \n",
    "            while dr is not None and dr.val != target:\n",
    "                if target > dr.val: #往右邊\n",
    "                    if dr.right is None:\n",
    "                        pass\n",
    "                    else:\n",
    "                        p = dr\n",
    "                        dr = dr.right\n",
    "                else:\n",
    "                    if dr.left is None:\n",
    "                        pass\n",
    "                    else:\n",
    "                        p = dr\n",
    "                        dr = dr.left\n",
    "                        \n",
    "            # 有重複值的情況，把重複值弄成只有一個\n",
    "            d = dr\n",
    "            while d.left is not None and d.left.val == target:\n",
    "                d = d.left\n",
    "            if p.left is not None and p.left.val == dr.val:\n",
    "                p.left = d\n",
    "            else:\n",
    "                p.right = d\n",
    "            d.right = dr.right\n",
    "\n",
    "            # case 1: 刪除節點 只有左小孩\n",
    "            \n",
    "            if d.left is not None and d.right is None:\n",
    "            \n",
    "                #case 1-1: 刪除節點的左小孩底下 沒有右小孩\n",
    "                \n",
    "                if d.left.right is None:\n",
    "                    if p.left is not None and p.left.val == d.val:\n",
    "                        p.left = d.left\n",
    "                    else:\n",
    "                        p.right = d.left\n",
    "                    d = None\n",
    "                    print(\"case1-1\")\n",
    "            \n",
    "                #case 1-2: 刪除節點的左小孩底下 有右小孩\n",
    "                \n",
    "                else:               \n",
    "                    tp = d.left\n",
    "                    t = d.left.right\n",
    "                    while t.right is not None:\n",
    "                        tp = t\n",
    "                        t = t.right\n",
    "                    \n",
    "                    if d.left.val == tp.val:\n",
    "                        if p.left is not None and p.left.val == d.val:\n",
    "                            p.left = t\n",
    "                        else:\n",
    "                            p.right = t\n",
    "                        tp.right = t.left  \n",
    "                        t.left = d.left\n",
    "                    else:\n",
    "                        if p.left is not None and p.left.val == d.val:\n",
    "                            p.left = t\n",
    "                        else:\n",
    "                            p.right = t\n",
    "                        tp.right = t.left\n",
    "                        t.left = d.left\n",
    "                    d = None\n",
    "                    print(\"case1-2\")\n",
    "            \n",
    "            # case 2: 刪除節點 只有右小孩\n",
    "            \n",
    "            elif d.left is None and d.right is not None:\n",
    "                \n",
    "                #case 2-1: 刪除節點的右小孩底下 沒有左小孩\n",
    "            \n",
    "                if d.right.left is None:\n",
    "                    if p.left is not None and p.left.val == d.val:\n",
    "                        p.left = d.right\n",
    "                    else:\n",
    "                        p.right = d.right\n",
    "                    d = None\n",
    "                    print(\"case2-1\")\n",
    "                    \n",
    "                #case 2-2: 刪除節點的右小孩底下 有左小孩\n",
    "                \n",
    "                else:\n",
    "                    tp = d.right\n",
    "                    t= d.right.left\n",
    "                    while t.left is not None:\n",
    "                        tp = t\n",
    "                        t = t.left\n",
    "                    \n",
    "                    if d.right.val == tp.val:\n",
    "                        if p.left is not None and p.left.val == d.val:\n",
    "                            p.left = t\n",
    "                        else:\n",
    "                            p.right = t\n",
    "                        tp.left = t.right\n",
    "                        t.right = d.right                    \n",
    "                    else:\n",
    "                        if p.left is not None and p.left.val == d.val:\n",
    "                            p.left = t\n",
    "                        else:\n",
    "                            p.right = t\n",
    "                        tp.left = t.right\n",
    "                        t.right = d.right\n",
    "                    d = None\n",
    "                    print(\"case2-2\")\n",
    "                        \n",
    "            # case 3: 刪除節點 有兩個小孩\n",
    "            \n",
    "            elif d.left is not None and d.right is not None:\n",
    "                \n",
    "                #case 3-1: 刪除節點的 left.right 跟 right.left 皆為空\n",
    "                \n",
    "                if d.left.right is None and d.right.left is None:\n",
    "                    if p.left is not None and p.left.val == d.val:\n",
    "                        p.left = d.left\n",
    "                    else:\n",
    "                        p.right = d.left\n",
    "                    d.left.right = d.right\n",
    "                    d = None\n",
    "                    print(\"case3-1\")\n",
    "                \n",
    "                #case 3-2: 刪除節點的 left.right存在\n",
    "                \n",
    "                elif d.left.right is not None:\n",
    "                    tp = d.left\n",
    "                    t = d.left.right\n",
    "                    while t.right is not None:\n",
    "                        tp = t\n",
    "                        t = t.right\n",
    "                    \n",
    "                    if d.left.val == tp.val:\n",
    "                        if p.left is not None and p.left.val == d.val:\n",
    "                            p.left = t\n",
    "                        else:\n",
    "                            p.right = t\n",
    "                        tp.right = t.left\n",
    "                        t.left = d.left\n",
    "                        t.right = d.right                \n",
    "                    else:\n",
    "                        if p.left is not None and p.left.val == d.val:\n",
    "                            p.left = t\n",
    "                        else:\n",
    "                            p.right = t\n",
    "                        tp.right = t.left\n",
    "                        t.left = d.left\n",
    "                        t.right = d.right\n",
    "                    d = None\n",
    "                    print(\"case3-2\")\n",
    "                \n",
    "                #case 3-3: 刪除節點的 right.left存在 且 left.right不存在\n",
    "                \n",
    "                elif d.right.left is not None and d.left.right is None:\n",
    "                    tp = d.right\n",
    "                    t = d.right.left\n",
    "                    while t.left is not None:\n",
    "                        tp = t\n",
    "                        t = t.left\n",
    "                    \n",
    "                    if d.right.val == tp.val:\n",
    "                        if p.left is not None and p.left.val == d.val:\n",
    "                            p.left = t\n",
    "                        else:\n",
    "                            p.right = t\n",
    "                        tp.left = t.right\n",
    "                        t.right = d.right\n",
    "                        t.left = d.left                 \n",
    "                    else:\n",
    "                        if p.left is not None and p.left.val == d.val:\n",
    "                            p.left = t\n",
    "                        else:\n",
    "                            p.right = t\n",
    "                        tp.left = t.right\n",
    "                        t.left = d.left\n",
    "                        t.right = d.right\n",
    "                    d = None  \n",
    "                    print(\"case3-3\")\n",
    "       \n",
    "            #case 4: 刪除的節點 沒有小孩\n",
    "            \n",
    "            elif d.left is None and d.right is None:\n",
    "                if p.left is not None and p.left.val == d.val:\n",
    "                    p.left = None\n",
    "                else:\n",
    "                    p.right = None\n",
    "                print(\"case4\")"
   ]
  },
  {
   "cell_type": "markdown",
   "metadata": {},
   "source": [
    "11/18將modify的部分再進行測試、微調，由於助教說delete root的情況，要return new root(我之前就有問說484要return new root惹...)\n",
    "\n",
    "我11/17在建delete的時候，delete root的部分我就有return new root了，這樣我才方便測試自己的程式碼484正確\n",
    "\n",
    "那我modify的部分其實非常簡單，我只要先呼叫insert，再return delete的結果，就能確保modify在delete root的情況能return new root"
   ]
  },
  {
   "cell_type": "code",
   "execution_count": 2,
   "metadata": {},
   "outputs": [],
   "source": [
    "class TreeNode(object):\n",
    "    def __init__(self,x):\n",
    "        self.val = x\n",
    "        self.left = None\n",
    "        self.right = None\n",
    "\n",
    "class Solution(object):\n",
    "    \n",
    "    def insert(self,root,val):\n",
    "        if root == None:\n",
    "            NewNode = TreeNode(val)\n",
    "            return NewNode\n",
    "        elif root.val == val:\n",
    "            NewNode = TreeNode(val)\n",
    "            NewNode.left = root.left\n",
    "            root.left = NewNode\n",
    "            return NewNode\n",
    "        elif root.val < val: #往右邊\n",
    "            if root.right == None: #右邊沒小孩，直接給Node\n",
    "                root.right = TreeNode(val)\n",
    "                return root.right\n",
    "            else: #右邊有小孩，recursive\n",
    "                return Solution().insert(root.right,val)\n",
    "        else: #往左邊\n",
    "            if root.left == None: #左邊沒小孩，直接給Node\n",
    "                root.left = TreeNode(val)\n",
    "                return root.left\n",
    "            else: #左邊有小孩，recursive\n",
    "                return Solution().insert(root.left,val)\n",
    "    \n",
    "    def search(self,root,target):\n",
    "        if root.val == target:\n",
    "            return root\n",
    "        elif root.val > target: #往左邊 \n",
    "            if root.left == None: #左邊空\n",
    "                return None\n",
    "            else: #左邊不空，recursive\n",
    "                root = root.left\n",
    "                return Solution().search(root,target)\n",
    "        else: #往右邊\n",
    "            if root.right == None: #右邊空\n",
    "                 return None\n",
    "            else: #右邊不空，recursive\n",
    "                root = root.right\n",
    "                return Solution().search(root,target)\n",
    "    \n",
    "    def pre(self,root,arr):\n",
    "        if root == None:\n",
    "            return arr\n",
    "        else:\n",
    "            arr.append(root.val)\n",
    "            if root.left is not None:\n",
    "                Solution().pre(root.left,arr)\n",
    "            if root.right is not None:\n",
    "                Solution().pre(root.right,arr)\n",
    "            return arr\n",
    "    \n",
    "    def modify(self,root,target,new_val):\n",
    "        if target is not new_val:       \n",
    "            Solution().insert(root,new_val)\n",
    "            return Solution().delete(root,target)\n",
    "        else:\n",
    "            return root\n",
    "        \n",
    "    def delete(self,root,target):\n",
    "        \n",
    "        if root.val == target:\n",
    "            \n",
    "            # 有重複值的情況，把重複值弄成一個\n",
    "            \n",
    "            d = root\n",
    "            while d.left is not None and d.left.val == target:\n",
    "                d = d.left\n",
    "            root.left = d.left\n",
    "            \n",
    "            # case 5: root底下沒有小孩\n",
    "            \n",
    "            if root.left is None and root.right is None:\n",
    "                root = None\n",
    "                return None\n",
    "            \n",
    "            # case 6: root底下只有左小孩\n",
    "            \n",
    "            elif root.left is not None and root.right is None:\n",
    "                n = root.left\n",
    "                root = None\n",
    "                return n\n",
    "            \n",
    "            # case 7: root底下只有右小孩\n",
    "            \n",
    "            elif root.right is not None and root.left is None:\n",
    "                n = root.right\n",
    "                root = None\n",
    "                return n\n",
    "            \n",
    "            #case 8: root底下有兩個小孩\n",
    "            \n",
    "            elif root.left is not None and root.right is not None:\n",
    "                \n",
    "                #case 8-1: 不需要找左subtree最大 or 右subtree最小\n",
    "                \n",
    "                if root.left.right is None and root.right.left is None:\n",
    "                    n = root.left\n",
    "                    n.right = root.right\n",
    "                    root = None\n",
    "                    return n                        \n",
    "                \n",
    "                #case 8-2: 找右subtree最小\n",
    "                \n",
    "                elif root.left.right is None and root.right.left is not None:\n",
    "                    tp = root.right\n",
    "                    t = root.right.left\n",
    "                    while t.left is not None:\n",
    "                        tp = t\n",
    "                        t = t.left\n",
    "                    if root.right == tp:\n",
    "                        tp.left = t.right\n",
    "                        t.right = root.right\n",
    "                        t.left = root.left\n",
    "                        root = t\n",
    "                    else:\n",
    "                        tp.left = t.right\n",
    "                        t.right = root.right\n",
    "                        t.left = root.left\n",
    "                        root = t\n",
    "                    return root\n",
    "                \n",
    "                #case 8-3: 找左subtree最大\n",
    "                \n",
    "                elif root.left.right is not None:\n",
    "                    tp = root.left\n",
    "                    t = root.left.right\n",
    "                    while t.right is not None:\n",
    "                        tp = t\n",
    "                        t = t.right\n",
    "                    if root.left == tp:\n",
    "                        tp.right = t.left\n",
    "                        t.left = root.left\n",
    "                        t.right = root.right\n",
    "                        root = t\n",
    "                    else:\n",
    "                        tp.right = t.left\n",
    "                        t.right = root.right\n",
    "                        t.left = root.left\n",
    "                        root = t\n",
    "                    return root\n",
    "        \n",
    "        else:\n",
    "            \n",
    "            # 僅先找到 \"刪除節點\" 跟 \"刪除節點的parent\"，還未考慮重複值的問題\n",
    "            \n",
    "            p = None\n",
    "            dr = root       \n",
    "            while dr is not None and dr.val != target:\n",
    "                if target > dr.val: #往右邊\n",
    "                    if dr.right is None:\n",
    "                        return root\n",
    "                    else:\n",
    "                        p = dr\n",
    "                        dr = dr.right\n",
    "                else:\n",
    "                    if dr.left is None:\n",
    "                        return root\n",
    "                    else:\n",
    "                        p = dr\n",
    "                        dr = dr.left\n",
    "                        \n",
    "            # 有重複值的情況，把重複值弄成只有一個\n",
    "            d = dr\n",
    "            while d.left is not None and d.left.val == target:\n",
    "                d = d.left\n",
    "            if p.left is not None and p.left.val == dr.val:\n",
    "                p.left = d\n",
    "            else:\n",
    "                p.right = d\n",
    "            d.right = dr.right\n",
    "\n",
    "            # case 1: 刪除節點 只有左小孩\n",
    "            \n",
    "            if d.left is not None and d.right is None:\n",
    "            \n",
    "                #case 1-1: 刪除節點的左小孩底下 沒有右小孩\n",
    "                \n",
    "                if d.left.right is None:\n",
    "                    if p.left is not None and p.left.val == d.val:\n",
    "                        p.left = d.left\n",
    "                    else:\n",
    "                        p.right = d.left\n",
    "                    d = None\n",
    "                    return root\n",
    "            \n",
    "                #case 1-2: 刪除節點的左小孩底下 有右小孩\n",
    "                \n",
    "                else:               \n",
    "                    tp = d.left\n",
    "                    t = d.left.right\n",
    "                    while t.right is not None:\n",
    "                        tp = t\n",
    "                        t = t.right\n",
    "                    \n",
    "                    if d.left.val == tp.val:\n",
    "                        if p.left is not None and p.left.val == d.val:\n",
    "                            p.left = t\n",
    "                        else:\n",
    "                            p.right = t\n",
    "                        tp.right = t.left  \n",
    "                        t.left = d.left\n",
    "                    else:\n",
    "                        if p.left is not None and p.left.val == d.val:\n",
    "                            p.left = t\n",
    "                        else:\n",
    "                            p.right = t\n",
    "                        tp.right = t.left\n",
    "                        t.left = d.left\n",
    "                    d = None\n",
    "                    return root\n",
    "            \n",
    "            # case 2: 刪除節點 只有右小孩\n",
    "            \n",
    "            elif d.left is None and d.right is not None:\n",
    "                \n",
    "                #case 2-1: 刪除節點的右小孩底下 沒有左小孩\n",
    "            \n",
    "                if d.right.left is None:\n",
    "                    if p.left is not None and p.left.val == d.val:\n",
    "                        p.left = d.right\n",
    "                    else:\n",
    "                        p.right = d.right\n",
    "                    d = None\n",
    "                    return root\n",
    "                    \n",
    "                #case 2-2: 刪除節點的右小孩底下 有左小孩\n",
    "                \n",
    "                else:\n",
    "                    tp = d.right\n",
    "                    t= d.right.left\n",
    "                    while t.left is not None:\n",
    "                        tp = t\n",
    "                        t = t.left\n",
    "                    \n",
    "                    if d.right.val == tp.val:\n",
    "                        if p.left is not None and p.left.val == d.val:\n",
    "                            p.left = t\n",
    "                        else:\n",
    "                            p.right = t\n",
    "                        tp.left = t.right\n",
    "                        t.right = d.right                    \n",
    "                    else:\n",
    "                        if p.left is not None and p.left.val == d.val:\n",
    "                            p.left = t\n",
    "                        else:\n",
    "                            p.right = t\n",
    "                        tp.left = t.right\n",
    "                        t.right = d.right\n",
    "                    d = None\n",
    "                    return root\n",
    "                        \n",
    "            # case 3: 刪除節點 有兩個小孩\n",
    "            \n",
    "            elif d.left is not None and d.right is not None:\n",
    "                \n",
    "                #case 3-1: 刪除節點的 left.right 跟 right.left 皆為空\n",
    "                \n",
    "                if d.left.right is None and d.right.left is None:\n",
    "                    if p.left is not None and p.left.val == d.val:\n",
    "                        p.left = d.left\n",
    "                    else:\n",
    "                        p.right = d.left\n",
    "                    d.left.right = d.right\n",
    "                    d = None\n",
    "                    return root\n",
    "                \n",
    "                #case 3-2: 刪除節點的 left.right存在\n",
    "                \n",
    "                elif d.left.right is not None:\n",
    "                    tp = d.left\n",
    "                    t = d.left.right\n",
    "                    while t.right is not None:\n",
    "                        tp = t\n",
    "                        t = t.right\n",
    "                    \n",
    "                    if d.left.val == tp.val:\n",
    "                        if p.left is not None and p.left.val == d.val:\n",
    "                            p.left = t\n",
    "                        else:\n",
    "                            p.right = t\n",
    "                        tp.right = t.left\n",
    "                        t.left = d.left\n",
    "                        t.right = d.right                \n",
    "                    else:\n",
    "                        if p.left is not None and p.left.val == d.val:\n",
    "                            p.left = t\n",
    "                        else:\n",
    "                            p.right = t\n",
    "                        tp.right = t.left\n",
    "                        t.left = d.left\n",
    "                        t.right = d.right\n",
    "                    d = None\n",
    "                    return root\n",
    "                \n",
    "                #case 3-3: 刪除節點的 right.left存在 且 left.right不存在\n",
    "                \n",
    "                elif d.right.left is not None and d.left.right is None:\n",
    "                    tp = d.right\n",
    "                    t = d.right.left\n",
    "                    while t.left is not None:\n",
    "                        tp = t\n",
    "                        t = t.left\n",
    "                    \n",
    "                    if d.right.val == tp.val:\n",
    "                        if p.left is not None and p.left.val == d.val:\n",
    "                            p.left = t\n",
    "                        else:\n",
    "                            p.right = t\n",
    "                        tp.left = t.right\n",
    "                        t.right = d.right\n",
    "                        t.left = d.left                 \n",
    "                    else:\n",
    "                        if p.left is not None and p.left.val == d.val:\n",
    "                            p.left = t\n",
    "                        else:\n",
    "                            p.right = t\n",
    "                        tp.left = t.right\n",
    "                        t.left = d.left\n",
    "                        t.right = d.right\n",
    "                    d = None  \n",
    "                    return root\n",
    "       \n",
    "            #case 4: 刪除的節點 沒有小孩\n",
    "            \n",
    "            elif d.left is None and d.right is None:\n",
    "                if p.left is not None and p.left.val == d.val:\n",
    "                    p.left = None\n",
    "                else:\n",
    "                    p.right = None\n",
    "                return root"
   ]
  },
  {
   "cell_type": "markdown",
   "metadata": {},
   "source": [
    "流程圖如下~"
   ]
  },
  {
   "cell_type": "code",
   "execution_count": 2,
   "metadata": {},
   "outputs": [
    {
     "data": {
      "text/html": [
       "<img src=\"https://github.com/samuel871211/My-python-code/blob/master/week6/BST%E6%B5%81%E7%A8%8B%E5%9C%96.jpg?raw=true\" width=\"1000\" height=\"1000\"/>"
      ],
      "text/plain": [
       "<IPython.core.display.Image object>"
      ]
     },
     "execution_count": 2,
     "metadata": {},
     "output_type": "execute_result"
    }
   ],
   "source": [
    "from IPython.display import Image\n",
    "from IPython.core.display import HTML\n",
    "Image(url=\"https://github.com/samuel871211/My-python-code/blob/master/week6/BST%E6%B5%81%E7%A8%8B%E5%9C%96.jpg?raw=true\"  ,width = 1000,height = 1000)"
   ]
  },
  {
   "cell_type": "markdown",
   "metadata": {},
   "source": [
    "case測值如下~"
   ]
  },
  {
   "cell_type": "raw",
   "metadata": {},
   "source": [
    "1-1\n",
    "root = TreeNode(10)\n",
    "a = Solution()\n",
    "a.insert(root,8)\n",
    "a.insert(root,6)\n",
    "a.insert(root,5)\n",
    "# a.insert(root,9.5)\n",
    "# a.insert(root,8.3)\n",
    "# a.insert(root,8.7)\n",
    "# a.insert(root,8.4)\n",
    "# a.insert(root,13.5)\n",
    "# a.insert(root,11.55)\n",
    "a.delete(root,8)\n",
    "a.pre(root,[])\n",
    "\n",
    "root = TreeNode(10)\n",
    "a = Solution()\n",
    "a.insert(root,12)\n",
    "a.insert(root,11)\n",
    "a.insert(root,10.5)\n",
    "# a.insert(root,9.5)\n",
    "# a.insert(root,8.3)\n",
    "# a.insert(root,8.7)\n",
    "# a.insert(root,8.4)\n",
    "# a.insert(root,13.5)\n",
    "# a.insert(root,11.55)\n",
    "a.delete(root,12)\n",
    "a.pre(root,[])\n",
    "\n",
    "1-2\n",
    "\n",
    "root = TreeNode(10)\n",
    "a = Solution()\n",
    "a.insert(root,12)\n",
    "a.insert(root,11)\n",
    "# a.insert(root,15)\n",
    "a.insert(root,10.5)\n",
    "a.insert(root,11.2)\n",
    "a.insert(root,11.1)\n",
    "a.insert(root,11.4)\n",
    "a.insert(root,11.3)\n",
    "# a.insert(root,13.5)\n",
    "a.delete(root,12)\n",
    "a.pre(root,[])\n",
    "\n",
    "root = TreeNode(10)\n",
    "a = Solution()\n",
    "a.insert(root,12)\n",
    "a.insert(root,11)\n",
    "# a.insert(root,15)\n",
    "a.insert(root,10.5)\n",
    "a.insert(root,11.2)\n",
    "a.insert(root,11.1)\n",
    "# a.insert(root,11.4)\n",
    "# a.insert(root,11.3)\n",
    "# a.insert(root,13.5)\n",
    "a.delete(root,12)\n",
    "a.pre(root,[])\n",
    "\n",
    "root = TreeNode(10)\n",
    "a = Solution()\n",
    "a.insert(root,8)\n",
    "a.insert(root,6)\n",
    "# a.insert(root,15)\n",
    "a.insert(root,5)\n",
    "a.insert(root,7)\n",
    "a.insert(root,6.5)\n",
    "a.insert(root,7.1)\n",
    "a.insert(root,7.05)\n",
    "# a.insert(root,13.5)\n",
    "a.delete(root,8)\n",
    "a.pre(root,[])\n",
    "\n",
    "root = TreeNode(10)\n",
    "a = Solution()\n",
    "a.insert(root,8)\n",
    "a.insert(root,6)\n",
    "# a.insert(root,15)\n",
    "a.insert(root,5)\n",
    "a.insert(root,7)\n",
    "a.insert(root,6.5)\n",
    "# a.insert(root,7.1)\n",
    "# a.insert(root,7.05)\n",
    "# a.insert(root,13.5)\n",
    "a.delete(root,8)\n",
    "a.pre(root,[])\n",
    "\n",
    "2-1\n",
    "\n",
    "root = TreeNode(10)\n",
    "a = Solution()\n",
    "a.insert(root,12)\n",
    "a.insert(root,15)\n",
    "a.insert(root,16)\n",
    "# a.insert(root,9.5)\n",
    "# a.insert(root,8.3)\n",
    "# a.insert(root,8.7)\n",
    "# a.insert(root,8.4)\n",
    "# a.insert(root,13.5)\n",
    "# a.insert(root,11.55)\n",
    "a.delete(root,12)\n",
    "a.pre(root,[])\n",
    "\n",
    "root = TreeNode(10)\n",
    "a = Solution()\n",
    "a.insert(root,8)\n",
    "a.insert(root,9)\n",
    "a.insert(root,9.5)\n",
    "# a.insert(root,9.5)\n",
    "# a.insert(root,8.3)\n",
    "# a.insert(root,8.7)\n",
    "# a.insert(root,8.4)\n",
    "# a.insert(root,13.5)\n",
    "# a.insert(root,11.55)\n",
    "a.delete(root,8)\n",
    "a.pre(root,[])\n",
    "\n",
    "2-2\n",
    "\n",
    "root = TreeNode(10)\n",
    "a = Solution()\n",
    "a.insert(root,12)\n",
    "# a.insert(root,11)\n",
    "a.insert(root,15)\n",
    "a.insert(root,14)\n",
    "a.insert(root,16)\n",
    "a.insert(root,13)\n",
    "a.insert(root,14.5)\n",
    "a.insert(root,13.5)\n",
    "# a.insert(root,11.55)\n",
    "a.delete(root,12)\n",
    "a.pre(root,[])\n",
    "\n",
    "root = TreeNode(10)\n",
    "a = Solution()\n",
    "a.insert(root,12)\n",
    "# a.insert(root,11)\n",
    "a.insert(root,15)\n",
    "a.insert(root,14)\n",
    "a.insert(root,16)\n",
    "# a.insert(root,13)\n",
    "a.insert(root,14.5)\n",
    "# a.insert(root,13.5)\n",
    "# a.insert(root,11.55)\n",
    "a.delete(root,12)\n",
    "a.pre(root,[])\n",
    "\n",
    "root = TreeNode(10)\n",
    "a = Solution()\n",
    "a.insert(root,8)\n",
    "a.insert(root,9)\n",
    "a.insert(root,8.5)\n",
    "a.insert(root,9.5)\n",
    "a.insert(root,8.3)\n",
    "a.insert(root,8.7)\n",
    "a.insert(root,8.4)\n",
    "# a.insert(root,13.5)\n",
    "# a.insert(root,11.55)\n",
    "a.delete(root,8)\n",
    "a.pre(root,[])\n",
    "\n",
    "root = TreeNode(10)\n",
    "a = Solution()\n",
    "a.insert(root,8)\n",
    "a.insert(root,9)\n",
    "a.insert(root,8.5)\n",
    "a.insert(root,9.5)\n",
    "# a.insert(root,8.3)\n",
    "a.insert(root,8.7)\n",
    "# a.insert(root,8.4)\n",
    "# a.insert(root,13.5)\n",
    "# a.insert(root,11.55)\n",
    "a.delete(root,8)\n",
    "a.pre(root,[])\n",
    "\n",
    "3-1\n",
    "\n",
    "root = TreeNode(10)\n",
    "a = Solution()\n",
    "a.insert(root,8)\n",
    "a.insert(root,6)\n",
    "a.insert(root,9)\n",
    "a.insert(root,9.5)\n",
    "a.insert(root,5)\n",
    "# a.insert(root,8.7)\n",
    "# a.insert(root,8.4)\n",
    "# a.insert(root,13.5)\n",
    "# a.insert(root,11.55)\n",
    "a.delete(root,8)\n",
    "a.pre(root,[])\n",
    "\n",
    "root = TreeNode(10)\n",
    "a = Solution()\n",
    "a.insert(root,12)\n",
    "a.insert(root,11)\n",
    "a.insert(root,15)\n",
    "a.insert(root,10.5)\n",
    "a.insert(root,16)\n",
    "# a.insert(root,8.7)\n",
    "# a.insert(root,8.4)\n",
    "# a.insert(root,13.5)\n",
    "# a.insert(root,11.55)\n",
    "a.delete(root,12)\n",
    "a.pre(root,[])\n",
    "\n",
    "3-2\n",
    "\n",
    "root = TreeNode(10)\n",
    "a = Solution()\n",
    "a.insert(root,8)\n",
    "a.insert(root,6)\n",
    "a.insert(root,9)\n",
    "a.insert(root,5)\n",
    "a.insert(root,7)\n",
    "a.insert(root,9.5)\n",
    "a.insert(root,6.5)\n",
    "a.insert(root,7.1)\n",
    "a.insert(root,7.05)\n",
    "a.delete(root,8)\n",
    "a.pre(root,[])\n",
    "\n",
    "root = TreeNode(10)\n",
    "a = Solution()\n",
    "a.insert(root,8)\n",
    "a.insert(root,6)\n",
    "a.insert(root,9)\n",
    "a.insert(root,5)\n",
    "a.insert(root,7)\n",
    "a.insert(root,9.5)\n",
    "a.insert(root,6.5)\n",
    "# a.insert(root,7.1)\n",
    "# a.insert(root,7.05)\n",
    "a.delete(root,8)\n",
    "a.pre(root,[])\n",
    "\n",
    "root = TreeNode(10)\n",
    "a = Solution()\n",
    "a.insert(root,12)\n",
    "a.insert(root,11)\n",
    "a.insert(root,15)\n",
    "a.insert(root,10.5)\n",
    "a.insert(root,11.5)\n",
    "a.insert(root,16)\n",
    "a.insert(root,11.2)\n",
    "a.insert(root,11.6)\n",
    "a.insert(root,11.55)\n",
    "a.delete(root,12)\n",
    "a.pre(root,[])\n",
    "\n",
    "root = TreeNode(10)\n",
    "a = Solution()\n",
    "a.insert(root,12)\n",
    "a.insert(root,11)\n",
    "a.insert(root,15)\n",
    "a.insert(root,10.5)\n",
    "a.insert(root,11.5)\n",
    "a.insert(root,16)\n",
    "a.insert(root,11.2)\n",
    "# a.insert(root,11.6)\n",
    "# a.insert(root,11.55)\n",
    "a.delete(root,12)\n",
    "a.pre(root,[])\n",
    "\n",
    "3-3\n",
    "\n",
    "root = TreeNode(10)\n",
    "a = Solution()\n",
    "a.insert(root,8)\n",
    "a.insert(root,6)\n",
    "a.insert(root,9)\n",
    "a.insert(root,5)\n",
    "a.insert(root,8.5)\n",
    "a.insert(root,9.5)\n",
    "a.insert(root,8.3)\n",
    "a.insert(root,8.7)\n",
    "a.insert(root,8.4)\n",
    "a.delete(root,8)\n",
    "a.pre(root,[])\n",
    "\n",
    "root = TreeNode(10)\n",
    "a = Solution()\n",
    "a.insert(root,8)\n",
    "a.insert(root,6)\n",
    "a.insert(root,9)\n",
    "a.insert(root,5)\n",
    "a.insert(root,8.5)\n",
    "a.insert(root,9.5)\n",
    "# a.insert(root,8.3)\n",
    "a.insert(root,8.7)\n",
    "# a.insert(root,8.4)\n",
    "a.delete(root,8)\n",
    "a.pre(root,[])\n",
    "\n",
    "root = TreeNode(10)\n",
    "a = Solution()\n",
    "a.insert(root,12)\n",
    "a.insert(root,11)\n",
    "a.insert(root,15)\n",
    "a.insert(root,10.5)\n",
    "a.insert(root,14)\n",
    "a.insert(root,16)\n",
    "a.insert(root,13)\n",
    "a.insert(root,14.5)\n",
    "a.insert(root,13.5)\n",
    "a.delete(root,12)\n",
    "a.pre(root,[])\n",
    "\n",
    "root = TreeNode(10)\n",
    "a = Solution()\n",
    "a.insert(root,12)\n",
    "a.insert(root,11)\n",
    "a.insert(root,15)\n",
    "a.insert(root,10.5)\n",
    "a.insert(root,14)\n",
    "a.insert(root,16)\n",
    "#a.insert(root,13)\n",
    "a.insert(root,14.5)\n",
    "#a.insert(root,13.5)\n",
    "a.delete(root,12)\n",
    "a.pre(root,[])\n",
    "\n",
    "3-4\n",
    "\n",
    "root = TreeNode(10)\n",
    "a = Solution()\n",
    "a.insert(root,8)\n",
    "a.insert(root,6)\n",
    "a.insert(root,9)\n",
    "a.insert(root,5)\n",
    "a.insert(root,7)\n",
    "a.insert(root.8.5)\n",
    "a.insert(root,9.5)\n",
    "a.insert(root,6.5)\n",
    "a.insert(root,7.1)\n",
    "a.insert(root,7.05)\n",
    "a.delete(root,8)\n",
    "a.pre(root,[])\n",
    "\n",
    "root = TreeNode(10)\n",
    "a = Solution()\n",
    "a.insert(root,8)\n",
    "a.insert(root,6)\n",
    "a.insert(root,9)\n",
    "a.insert(root,5)\n",
    "a.insert(root,7)\n",
    "a.insert(root,8.5)\n",
    "a.insert(root,9.5)\n",
    "a.insert(root,6.5)\n",
    "# a.insert(root,7.1)\n",
    "# a.insert(root,7.05)\n",
    "a.delete(root,8)\n",
    "a.pre(root,[])\n",
    "\n",
    "root = TreeNode(10)\n",
    "a = Solution()\n",
    "a.insert(root,12)\n",
    "a.insert(root,11)\n",
    "a.insert(root,15)\n",
    "a.insert(root,10.5)\n",
    "a.insert(root,11.5)\n",
    "a.insert(root,14)\n",
    "a.insert(root,16)\n",
    "a.insert(root,11.2)\n",
    "a.insert(root,11.6)\n",
    "a.insert(root,11.55)\n",
    "a.delete(root,12)\n",
    "a.pre(root,[])\n",
    "\n",
    "root = TreeNode(10)\n",
    "a = Solution()\n",
    "a.insert(root,12)\n",
    "a.insert(root,11)\n",
    "a.insert(root,15)\n",
    "a.insert(root,10.5)\n",
    "a.insert(root,11.5)\n",
    "a.insert(root,14)\n",
    "a.insert(root,16)\n",
    "a.insert(root,11.2)\n",
    "# a.insert(root,11.6)\n",
    "# a.insert(root,11.55)\n",
    "a.delete(root,12)\n",
    "a.pre(root,[])\n",
    "\n",
    "4\n",
    "\n",
    "root = TreeNode(10)\n",
    "a = Solution()\n",
    "a.insert(root,12)\n",
    "a.insert(root,11)\n",
    "a.insert(root,13)\n",
    "# a.insert(root,10.5)\n",
    "# a.insert(root,16)\n",
    "# a.insert(root,8.7)\n",
    "# a.insert(root,8.4)\n",
    "# a.insert(root,13.5)\n",
    "# a.insert(root,11.55)\n",
    "a.delete(root,13)\n",
    "a.pre(root,[])\n",
    "\n",
    "root = TreeNode(10)\n",
    "a = Solution()\n",
    "a.insert(root,8)\n",
    "a.insert(root,6)\n",
    "a.insert(root,9)\n",
    "# a.insert(root,10.5)\n",
    "# a.insert(root,16)\n",
    "# a.insert(root,8.7)\n",
    "# a.insert(root,8.4)\n",
    "# a.insert(root,13.5)\n",
    "# a.insert(root,11.55)\n",
    "a.delete(root,6)\n",
    "a.pre(root,[])\n",
    "\n",
    "5\n",
    "root = TreeNode(10)\n",
    "a = Solution()\n",
    "a.insert(root,10)\n",
    "a.insert(root,10)\n",
    "a.pre(a.delete(root,10),[])\n",
    "\n",
    "6\n",
    "\n",
    "root = TreeNode(10)\n",
    "a = Solution()\n",
    "a.insert(root,8)\n",
    "a.insert(root,6)\n",
    "a.insert(root,5)\n",
    "# a.insert(root,9.5)\n",
    "# a.insert(root,8.3)\n",
    "# a.insert(root,8.7)\n",
    "# a.insert(root,8.4)\n",
    "# a.insert(root,13.5)\n",
    "# a.insert(root,11.55)\n",
    "a.pre(a.delete(root,10),[])\n",
    "\n",
    "7\n",
    "\n",
    "root = TreeNode(10)\n",
    "a = Solution()\n",
    "a.insert(root,12)\n",
    "a.insert(root,11)\n",
    "a.insert(root,10.5)\n",
    "# a.insert(root,9.5)\n",
    "# a.insert(root,8.3)\n",
    "# a.insert(root,8.7)\n",
    "# a.insert(root,8.4)\n",
    "# a.insert(root,13.5)\n",
    "# a.insert(root,11.55)\n",
    "a.pre(a.delete(root,10),[])\n",
    "\n",
    "8-1\n",
    "\n",
    "root = TreeNode(10)\n",
    "a = Solution()\n",
    "a.insert(root,5)\n",
    "a.insert(root,4)\n",
    "a.insert(root,15)\n",
    "a.insert(root,16)\n",
    "# a.insert(root,16)\n",
    "# a.insert(root,8.7)\n",
    "# a.insert(root,8.4)\n",
    "# a.insert(root,13.5)\n",
    "# a.insert(root,11.55)\n",
    "a.pre(a.delete(root,10),[])\n",
    "\n",
    "8-2\n",
    "\n",
    "root = TreeNode(10)\n",
    "a = Solution()\n",
    "a.insert(root,5)\n",
    "a.insert(root,4)\n",
    "a.insert(root,15)\n",
    "a.insert(root,16)\n",
    "a.insert(root,14)\n",
    "a.insert(root,13)\n",
    "a.insert(root,14.5)\n",
    "a.insert(root,13.5)\n",
    "# a.insert(root,11.55)\n",
    "a.pre(a.delete(root,10),[])\n",
    "\n",
    "root = TreeNode(10)\n",
    "a = Solution()\n",
    "a.insert(root,5)\n",
    "a.insert(root,4)\n",
    "a.insert(root,15)\n",
    "a.insert(root,16)\n",
    "a.insert(root,14)\n",
    "# a.insert(root,13)\n",
    "a.insert(root,14.5)\n",
    "# a.insert(root,13.5)\n",
    "# a.insert(root,11.55)\n",
    "a.pre(a.delete(root,10),[])\n",
    "\n",
    "8-3\n",
    "\n",
    "root = TreeNode(10)\n",
    "a = Solution()\n",
    "a.insert(root,5)\n",
    "a.insert(root,4)\n",
    "a.insert(root,15)\n",
    "a.insert(root,16)\n",
    "a.insert(root,6)\n",
    "a.insert(root,5.5)\n",
    "a.insert(root,7)\n",
    "a.insert(root,6.5)\n",
    "# a.insert(root,11.55)\n",
    "a.pre(a.delete(root,10),[])\n",
    "\n",
    "root = TreeNode(10)\n",
    "a = Solution()\n",
    "a.insert(root,5)\n",
    "a.insert(root,4)\n",
    "a.insert(root,15)\n",
    "a.insert(root,16)\n",
    "a.insert(root,6)\n",
    "a.insert(root,5.5)\n",
    "# a.insert(root,7)\n",
    "# a.insert(root,6.5)\n",
    "# a.insert(root,11.55)\n",
    "a.pre(a.delete(root,10),[])\n",
    "\n",
    "root = TreeNode(10)\n",
    "a = Solution()\n",
    "a.insert(root,5)\n",
    "a.insert(root,4)\n",
    "a.insert(root,15)\n",
    "a.insert(root,14)\n",
    "a.insert(root,16)\n",
    "a.insert(root,6)\n",
    "a.insert(root,5.5)\n",
    "# a.insert(root,7)\n",
    "# a.insert(root,6.5)\n",
    "# a.insert(root,11.55)\n",
    "a.pre(a.delete(root,10),[])\n",
    "\n",
    "root = TreeNode(10)\n",
    "a = Solution()\n",
    "a.insert(root,5)\n",
    "a.insert(root,4)\n",
    "a.insert(root,15)\n",
    "a.insert(root,14)\n",
    "a.insert(root,16)\n",
    "a.insert(root,6)\n",
    "a.insert(root,5.5)\n",
    "a.insert(root,7)\n",
    "a.insert(root,6.5)\n",
    "# a.insert(root,11.55)\n",
    "a.pre(a.delete(root,10),[])"
   ]
  },
  {
   "cell_type": "markdown",
   "metadata": {},
   "source": [
    "心得、感想：\n",
    "\n",
    "從11/2就開始研究BT，中間我問了助教至少5次問題，感覺助教都被我問到認識我了XDD\n",
    "\n",
    "到11/18才終於把BST建立出來，累積寫程式(包含邏輯思考架構)的時間絕對有超過100小時\n",
    "\n",
    "當我聽說有些人到作業截止日期前一個禮拜都還沒開始動工的時候，我不禁為他們捏了一把冷汗\n",
    "\n",
    "這次的作業，是我第一次靠自己的力量建構出300多行的程式碼，每個case都是經過精心的測值設計\n",
    "\n",
    "比起以往的排序演算法，建立資料結構的測值真的是複雜超多！我絕對有測過上百組測值，到目前都不敢保證100%正確\n",
    "\n",
    "但只少在debug的部分，我真的是越來越厲害，由於相同的error已經看到膩了，所以我幾乎是一看就知道錯誤在哪\n",
    "\n",
    "撇除掉search、insert不講，那兩個都算是很簡單的函式，而最難、最複雜的莫過於delete的case了\n",
    "\n",
    "而modify的部分，我當初直觀的想法就是先insert再delete(或者是先delete再insert也是可以)\n",
    "\n",
    "所以只要寫完delete，幾乎就是等於寫完modify的部分了，少數的例外情況到時候再去思考就好\n",
    "\n",
    "光是delete的部分，我整整花了一周的心思在建構，原本寫出第一版的時候還覺得自己很厲害\n",
    "\n",
    "後來同學丟了幾組她的測值，我才發現我的邏輯架構漏洞百出，於是毅然決然的在11/18全部打掉重寫\n",
    "\n",
    "上面的流程圖跟測值，我覺得算是這次作業的精華了，那是我11/18花了整整12小時才弄出來的寶貝\n",
    "\n",
    "老師剛開學時曾經有放過一張圖片，大致上內容是說\"只有一起寫過程式，才是一起共患難的朋友\"\n",
    "\n",
    "剛開始我不以為然，然而我不得不說，老師當初說過的話，真的是一句一句的驗證到了我們身上！\n",
    "\n",
    "到目前為止，我覺得我對演算法算是越來越感興趣，當然之後還有三次作業的部分我不敢掛保證\n",
    "\n",
    "但至少BST我花了破百小時在研究，整個過程的大部分時間我都是非常願意自主學習、且不會感到煩躁的\n",
    "\n",
    "\n",
    "從剛開始連codesignal都不會刷，到現在憑一己之力寫出300多行程式碼，短短不到兩個月，真的很神奇\n",
    "\n",
    "但我也得說句公道話...我為了演算法真得是放掉了許多其他科目，犧牲假日跟睡眠時間更不用多說\n",
    "\n",
    "還記得大一大二的每個學期末前，都會讓學生填課堂問卷，裡面有一題是\"您是否願意自行深入本科的相關研究\"\n",
    "\n",
    "我以前從來沒有修過一堂課，是會讓我真的感興趣，且願意自行深入的。但是演算法，我會說 \"我願意！\"\n",
    "\n",
    "\n",
    "回到現實部分，我其實覺得這樣的作業難度，卻只有佔總成績的10分，是有點不太合理的...\n",
    "\n",
    "我不太能保證未來的4、5、6次作業，如果難度不減反增的情況，我是否能在期限內完成\n",
    "\n",
    "且光是這次的BST，我一直很擔心到時候程式碼運行結果不是滿分，我可能會有點小崩潰XD\n",
    "\n",
    "\n",
    "但經過這次BST的磨練，我覺得我對於邏輯轉程式碼的部分越來越熟練了，幾乎不用思考語法是否錯誤\n",
    "\n",
    "腦袋中的邏輯可以快速地變程式碼，處理error的能力也是大幅度的提升，那種感覺很奇妙，說不上來\n",
    "\n",
    "總而言之，我喜歡演算法，這是我的熱情，但是有學分壓力的情況，偶爾還是會感到有點緊張、壓力QQ"
   ]
  }
 ],
 "metadata": {
  "kernelspec": {
   "display_name": "Python 3",
   "language": "python",
   "name": "python3"
  },
  "language_info": {
   "codemirror_mode": {
    "name": "ipython",
    "version": 3
   },
   "file_extension": ".py",
   "mimetype": "text/x-python",
   "name": "python",
   "nbconvert_exporter": "python",
   "pygments_lexer": "ipython3",
   "version": "3.7.4"
  }
 },
 "nbformat": 4,
 "nbformat_minor": 2
}
