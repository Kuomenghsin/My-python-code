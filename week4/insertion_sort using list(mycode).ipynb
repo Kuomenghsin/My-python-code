{
 "cells": [
  {
   "cell_type": "code",
   "execution_count": 1,
   "metadata": {},
   "outputs": [],
   "source": [
    "def insertion_sort(list):\n",
    "    for index in range(1,len(list)): #最左邊的數字沒得比較，所以從第1個數字開始比\n",
    "        value = list[index] #把第index位的數字取出來等等需要來比較\n",
    "        i = index - 1 #要跟左邊的那個數字來比較\n",
    "        while i >= 0: #一直跟左邊的比，直到到最左邊的數字\n",
    "            if value < list[i]: #右邊比左邊小\n",
    "                list[i+1] = list[i] #把左邊的位置丟到右邊\n",
    "                list[i] = value #把左邊的值丟到右邊\n",
    "                i = i - 1 #一直跟左邊的比，直到到最左邊的數字\n",
    "            else:\n",
    "                break"
   ]
  },
  {
   "cell_type": "code",
   "execution_count": 5,
   "metadata": {},
   "outputs": [
    {
     "name": "stdout",
     "output_type": "stream",
     "text": [
      "[1, 1, 1, 1, 2, 2, 2, 2, 3, 3, 3, 4, 4, 4, 4, 5, 5, 5, 5, 5, 5, 6, 6, 6, 7, 8, 8, 8, 9, 9, 9]\n"
     ]
    }
   ],
   "source": [
    "list1=[4,1,2,5,8,9,6,5,2,3,4,7,1,5,8,9,6,3,2,1,4,5,8,9,6,3,5,2,1,4,5]\n",
    "insertion_sort(list1)\n",
    "print(list1) #This is a inplace version, which means the whole process will not create extra lists to place the sorted numbers."
   ]
  },
  {
   "cell_type": "code",
   "execution_count": 6,
   "metadata": {},
   "outputs": [
    {
     "name": "stdout",
     "output_type": "stream",
     "text": [
      "[0, 2, 4, 6, 8, 8, 24, 48, 53, 95, 102, 351, 754, 851]\n"
     ]
    }
   ],
   "source": [
    "list2=[0,53,24,8,95,48,102,754,351,2,8,6,4,851]\n",
    "insertion_sort(list2)\n",
    "print(list2) #And this function doesn't return anything, we gotta print the input list manually so that we can check the answer is right. "
   ]
  },
  {
   "cell_type": "code",
   "execution_count": null,
   "metadata": {},
   "outputs": [],
   "source": []
  }
 ],
 "metadata": {
  "kernelspec": {
   "display_name": "Python 3",
   "language": "python",
   "name": "python3"
  },
  "language_info": {
   "codemirror_mode": {
    "name": "ipython",
    "version": 3
   },
   "file_extension": ".py",
   "mimetype": "text/x-python",
   "name": "python",
   "nbconvert_exporter": "python",
   "pygments_lexer": "ipython3",
   "version": "3.7.3"
  }
 },
 "nbformat": 4,
 "nbformat_minor": 2
}
