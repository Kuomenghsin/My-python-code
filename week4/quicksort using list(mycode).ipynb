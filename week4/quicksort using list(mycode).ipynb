{
 "cells": [
  {
   "cell_type": "code",
   "execution_count": 6,
   "metadata": {},
   "outputs": [],
   "source": [
    "def quicksort(list):\n",
    "    if len(list) <= 1:\n",
    "        return list #如果輸入的list長度<=1，就沒有排列的必要了\n",
    "    else:\n",
    "        pivot = list[-1] #基準點就設定為list的最後一個數字\n",
    "        bigger = [] #拿來放比基準點大的數字\n",
    "        equal = [] #拿來放跟基準點一樣的數字\n",
    "        smaller = [] #拿來放比基準點小的數字\n",
    "        for num in list:\n",
    "            if num > pivot:\n",
    "                bigger.append(num) #比基準點大就append進去\n",
    "            elif num == pivot:\n",
    "                equal.append(num) #跟基準點一樣就append進去\n",
    "            else:\n",
    "                smaller.append(num) #比基準點小就append進去\n",
    "    return quicksort(smaller) + equal + quicksort(bigger) #equal就不必再排列了，smaller跟bigger還要再繼續排列，直到len(list)<=1才會return list"
   ]
  },
  {
   "cell_type": "code",
   "execution_count": 7,
   "metadata": {},
   "outputs": [
    {
     "data": {
      "text/plain": [
       "[0, 1, 2, 3, 4, 5, 6, 7, 8, 8, 9, 10, 23, 54]"
      ]
     },
     "execution_count": 7,
     "metadata": {},
     "output_type": "execute_result"
    }
   ],
   "source": [
    "list1=[7,1,8,2,9,3,4,5,6,10,8,54,23,0]\n",
    "quicksort(list1)"
   ]
  },
  {
   "cell_type": "code",
   "execution_count": null,
   "metadata": {},
   "outputs": [],
   "source": []
  }
 ],
 "metadata": {
  "kernelspec": {
   "display_name": "Python 3",
   "language": "python",
   "name": "python3"
  },
  "language_info": {
   "codemirror_mode": {
    "name": "ipython",
    "version": 3
   },
   "file_extension": ".py",
   "mimetype": "text/x-python",
   "name": "python",
   "nbconvert_exporter": "python",
   "pygments_lexer": "ipython3",
   "version": "3.7.3"
  }
 },
 "nbformat": 4,
 "nbformat_minor": 2
}
