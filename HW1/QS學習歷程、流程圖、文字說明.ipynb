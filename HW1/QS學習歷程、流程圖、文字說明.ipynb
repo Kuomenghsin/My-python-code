{
 "cells": [
  {
   "cell_type": "markdown",
   "metadata": {},
   "source": [
    "參考網站：\n",
    "http://jialin128.pixnet.net/blog/post/142927691-%5B-%E8%B3%87%E6%96%99%E7%B5%90%E6%A7%8B-%5D-%E5%BF%AB%E9%80%9F%E6%8E%92%E5%BA%8F%E6%B3%95%EF%BC%88quick-sort%EF%BC%89in-python"
   ]
  },
  {
   "cell_type": "markdown",
   "metadata": {},
   "source": [
    "我自己的理解： \n",
    "\n",
    "1.先指定list內的某個數字為pivot(基準) \n",
    "\n",
    "2.額外創造三個空list，分別叫做smaller、equal、bigger，用來存放比pivot小、跟pivot一樣、比pivot大的數字 \n",
    "\n",
    "3.equal內的數字不必再進行比較，而smaller、bigger，還要持續地再進行Quick Sort，直到list的長度<=1才停止"
   ]
  },
  {
   "cell_type": "markdown",
   "metadata": {},
   "source": [
    "第一版程式碼："
   ]
  },
  {
   "cell_type": "code",
   "execution_count": 3,
   "metadata": {},
   "outputs": [],
   "source": [
    "def quicksort(list):\n",
    "    if len(list) <= 1:\n",
    "        return list #如果輸入的list長度<=1，就沒有排列的必要了\n",
    "    else:\n",
    "        pivot = list[-1] #基準點就設定為list的最後一個數字\n",
    "        equal = [] #拿來放跟基準點一樣的數字\n",
    "        smaller = [] #拿來放比基準點小的數字\n",
    "        bigger = [] #拿來放比基準點大的數字\n",
    "        for num in list:\n",
    "            if num > pivot:\n",
    "                bigger.append(num) #比基準點大就append進去\n",
    "            elif num == pivot:\n",
    "                equal.append(num) #跟基準點一樣就append進去\n",
    "            else:\n",
    "                smaller.append(num) #比基準點小就append進去\n",
    "    return quicksort(smaller) + equal + quicksort(bigger) #equal就不必再排列了，smaller跟bigger還要再繼續排列，直到len(list)<=1才會return list"
   ]
  },
  {
   "cell_type": "markdown",
   "metadata": {},
   "source": [
    "丟個測值試試看："
   ]
  },
  {
   "cell_type": "code",
   "execution_count": 4,
   "metadata": {},
   "outputs": [
    {
     "data": {
      "text/plain": [
       "[1, 2, 3, 4, 5, 6, 7, 8, 9]"
      ]
     },
     "execution_count": 4,
     "metadata": {},
     "output_type": "execute_result"
    }
   ],
   "source": [
    "a=[5,1,7,3,6,2,9,4,8]\n",
    "quicksort(a)"
   ]
  },
  {
   "cell_type": "markdown",
   "metadata": {},
   "source": [
    "試試看用自己的邏輯來改寫這段程式碼："
   ]
  },
  {
   "cell_type": "code",
   "execution_count": 5,
   "metadata": {},
   "outputs": [],
   "source": [
    "def Quick_Sort(list):\n",
    "    pivot=list[-1]\n",
    "    smaller=[]\n",
    "    equal=[]\n",
    "    bigger=[]\n",
    "    return Process(smaller) + equal + Process(bigger)\n",
    "def Process(list):\n",
    "    for num in list:\n",
    "        if num > pivot:\n",
    "            bigger.append(num)\n",
    "        elif num == pivot:\n",
    "            equal.append(num)\n",
    "        else:\n",
    "            smaller.append(num)"
   ]
  },
  {
   "cell_type": "code",
   "execution_count": 6,
   "metadata": {},
   "outputs": [
    {
     "ename": "TypeError",
     "evalue": "unsupported operand type(s) for +: 'NoneType' and 'list'",
     "output_type": "error",
     "traceback": [
      "\u001b[1;31m---------------------------------------------------------------------------\u001b[0m",
      "\u001b[1;31mTypeError\u001b[0m                                 Traceback (most recent call last)",
      "\u001b[1;32m<ipython-input-6-fd9584e83a44>\u001b[0m in \u001b[0;36m<module>\u001b[1;34m\u001b[0m\n\u001b[1;32m----> 1\u001b[1;33m \u001b[0mQuick_Sort\u001b[0m\u001b[1;33m(\u001b[0m\u001b[0ma\u001b[0m\u001b[1;33m)\u001b[0m\u001b[1;33m\u001b[0m\u001b[1;33m\u001b[0m\u001b[0m\n\u001b[0m",
      "\u001b[1;32m<ipython-input-5-e4c034783b94>\u001b[0m in \u001b[0;36mQuick_Sort\u001b[1;34m(list)\u001b[0m\n\u001b[0;32m      4\u001b[0m     \u001b[0mequal\u001b[0m\u001b[1;33m=\u001b[0m\u001b[1;33m[\u001b[0m\u001b[1;33m]\u001b[0m\u001b[1;33m\u001b[0m\u001b[1;33m\u001b[0m\u001b[0m\n\u001b[0;32m      5\u001b[0m     \u001b[0mbigger\u001b[0m\u001b[1;33m=\u001b[0m\u001b[1;33m[\u001b[0m\u001b[1;33m]\u001b[0m\u001b[1;33m\u001b[0m\u001b[1;33m\u001b[0m\u001b[0m\n\u001b[1;32m----> 6\u001b[1;33m     \u001b[1;32mreturn\u001b[0m \u001b[0mProcess\u001b[0m\u001b[1;33m(\u001b[0m\u001b[0msmaller\u001b[0m\u001b[1;33m)\u001b[0m \u001b[1;33m+\u001b[0m \u001b[0mequal\u001b[0m \u001b[1;33m+\u001b[0m \u001b[0mProcess\u001b[0m\u001b[1;33m(\u001b[0m\u001b[0mbigger\u001b[0m\u001b[1;33m)\u001b[0m\u001b[1;33m\u001b[0m\u001b[1;33m\u001b[0m\u001b[0m\n\u001b[0m\u001b[0;32m      7\u001b[0m \u001b[1;32mdef\u001b[0m \u001b[0mProcess\u001b[0m\u001b[1;33m(\u001b[0m\u001b[0mlist\u001b[0m\u001b[1;33m)\u001b[0m\u001b[1;33m:\u001b[0m\u001b[1;33m\u001b[0m\u001b[1;33m\u001b[0m\u001b[0m\n\u001b[0;32m      8\u001b[0m     \u001b[1;32mfor\u001b[0m \u001b[0mnum\u001b[0m \u001b[1;32min\u001b[0m \u001b[0mlist\u001b[0m\u001b[1;33m:\u001b[0m\u001b[1;33m\u001b[0m\u001b[1;33m\u001b[0m\u001b[0m\n",
      "\u001b[1;31mTypeError\u001b[0m: unsupported operand type(s) for +: 'NoneType' and 'list'"
     ]
    }
   ],
   "source": [
    "Quick_Sort(a)"
   ]
  },
  {
   "cell_type": "markdown",
   "metadata": {},
   "source": [
    "好的，我大概理解老師的意思了... \n",
    "\n",
    "老師在上課說，當你參考完一個網站的程式碼跟邏輯後，過了三小時再回來寫。 \n",
    "\n",
    "如果有辦法把程式碼蓋起來，然後靠自己的邏輯寫出來，那麼你才算是真正的學會！"
   ]
  },
  {
   "cell_type": "code",
   "execution_count": 11,
   "metadata": {},
   "outputs": [],
   "source": [
    "def Quick_Sort(list):\n",
    "    pivot=list[-1]\n",
    "    smaller=[]\n",
    "    equal=[]\n",
    "    bigger=[]\n",
    "    return Process(smaller) + equal + Process(bigger)\n",
    "def Process(list):\n",
    "    if len(list) <= 1:\n",
    "        return list\n",
    "    else:\n",
    "        for num in list:\n",
    "            if num > pivot:\n",
    "                bigger.append(num)\n",
    "            elif num == pivot:\n",
    "                equal.append(num)\n",
    "            else:\n",
    "                smaller.append(num)"
   ]
  },
  {
   "cell_type": "code",
   "execution_count": 12,
   "metadata": {},
   "outputs": [
    {
     "data": {
      "text/plain": [
       "[]"
      ]
     },
     "execution_count": 12,
     "metadata": {},
     "output_type": "execute_result"
    }
   ],
   "source": [
    "Quick_Sort(a)"
   ]
  },
  {
   "cell_type": "markdown",
   "metadata": {},
   "source": [
    "看來我邏輯還是有點問題...努力尋找到底哪裡出了問題"
   ]
  },
  {
   "cell_type": "code",
   "execution_count": 27,
   "metadata": {},
   "outputs": [],
   "source": [
    "def Partition(list):\n",
    "    if len(list) <= 1:\n",
    "        return list\n",
    "    else:\n",
    "        pivot=list[-1]\n",
    "        smaller=[]\n",
    "        equal=[]\n",
    "        bigger=[]\n",
    "    Process(list)\n",
    "    return list\n",
    "def Process(list):\n",
    "    \n",
    "    for num in list:\n",
    "        if num > pivot:\n",
    "            bigger.append(num)\n",
    "        elif num == pivot:\n",
    "            equal.append(num)\n",
    "        else:\n",
    "            smaller.append(num)"
   ]
  },
  {
   "cell_type": "code",
   "execution_count": 28,
   "metadata": {},
   "outputs": [
    {
     "ename": "NameError",
     "evalue": "name 'pivot' is not defined",
     "output_type": "error",
     "traceback": [
      "\u001b[1;31m---------------------------------------------------------------------------\u001b[0m",
      "\u001b[1;31mNameError\u001b[0m                                 Traceback (most recent call last)",
      "\u001b[1;32m<ipython-input-28-78c36203576a>\u001b[0m in \u001b[0;36m<module>\u001b[1;34m\u001b[0m\n\u001b[1;32m----> 1\u001b[1;33m \u001b[0mPartition\u001b[0m\u001b[1;33m(\u001b[0m\u001b[0ma\u001b[0m\u001b[1;33m)\u001b[0m\u001b[1;33m\u001b[0m\u001b[1;33m\u001b[0m\u001b[0m\n\u001b[0m",
      "\u001b[1;32m<ipython-input-27-35db65ddde32>\u001b[0m in \u001b[0;36mPartition\u001b[1;34m(list)\u001b[0m\n\u001b[0;32m      7\u001b[0m         \u001b[0mequal\u001b[0m\u001b[1;33m=\u001b[0m\u001b[1;33m[\u001b[0m\u001b[1;33m]\u001b[0m\u001b[1;33m\u001b[0m\u001b[1;33m\u001b[0m\u001b[0m\n\u001b[0;32m      8\u001b[0m         \u001b[0mbigger\u001b[0m\u001b[1;33m=\u001b[0m\u001b[1;33m[\u001b[0m\u001b[1;33m]\u001b[0m\u001b[1;33m\u001b[0m\u001b[1;33m\u001b[0m\u001b[0m\n\u001b[1;32m----> 9\u001b[1;33m     \u001b[0mProcess\u001b[0m\u001b[1;33m(\u001b[0m\u001b[0mlist\u001b[0m\u001b[1;33m)\u001b[0m\u001b[1;33m\u001b[0m\u001b[1;33m\u001b[0m\u001b[0m\n\u001b[0m\u001b[0;32m     10\u001b[0m     \u001b[1;32mreturn\u001b[0m \u001b[0mlist\u001b[0m\u001b[1;33m\u001b[0m\u001b[1;33m\u001b[0m\u001b[0m\n\u001b[0;32m     11\u001b[0m \u001b[1;32mdef\u001b[0m \u001b[0mProcess\u001b[0m\u001b[1;33m(\u001b[0m\u001b[0mlist\u001b[0m\u001b[1;33m)\u001b[0m\u001b[1;33m:\u001b[0m\u001b[1;33m\u001b[0m\u001b[1;33m\u001b[0m\u001b[0m\n",
      "\u001b[1;32m<ipython-input-27-35db65ddde32>\u001b[0m in \u001b[0;36mProcess\u001b[1;34m(list)\u001b[0m\n\u001b[0;32m     12\u001b[0m \u001b[1;33m\u001b[0m\u001b[0m\n\u001b[0;32m     13\u001b[0m     \u001b[1;32mfor\u001b[0m \u001b[0mnum\u001b[0m \u001b[1;32min\u001b[0m \u001b[0mlist\u001b[0m\u001b[1;33m:\u001b[0m\u001b[1;33m\u001b[0m\u001b[1;33m\u001b[0m\u001b[0m\n\u001b[1;32m---> 14\u001b[1;33m         \u001b[1;32mif\u001b[0m \u001b[0mnum\u001b[0m \u001b[1;33m>\u001b[0m \u001b[0mpivot\u001b[0m\u001b[1;33m:\u001b[0m\u001b[1;33m\u001b[0m\u001b[1;33m\u001b[0m\u001b[0m\n\u001b[0m\u001b[0;32m     15\u001b[0m             \u001b[0mbigger\u001b[0m\u001b[1;33m.\u001b[0m\u001b[0mappend\u001b[0m\u001b[1;33m(\u001b[0m\u001b[0mnum\u001b[0m\u001b[1;33m)\u001b[0m\u001b[1;33m\u001b[0m\u001b[1;33m\u001b[0m\u001b[0m\n\u001b[0;32m     16\u001b[0m         \u001b[1;32melif\u001b[0m \u001b[0mnum\u001b[0m \u001b[1;33m==\u001b[0m \u001b[0mpivot\u001b[0m\u001b[1;33m:\u001b[0m\u001b[1;33m\u001b[0m\u001b[1;33m\u001b[0m\u001b[0m\n",
      "\u001b[1;31mNameError\u001b[0m: name 'pivot' is not defined"
     ]
    }
   ],
   "source": [
    "Partition(a)"
   ]
  },
  {
   "cell_type": "markdown",
   "metadata": {},
   "source": [
    "鬼擋牆了...我還是先把邏輯搞清楚再來寫程式吧！"
   ]
  },
  {
   "cell_type": "markdown",
   "metadata": {},
   "source": [
    "本來想試試看老師上課說的遞迴寫法...結果我發現我這邊的邏輯不是很清楚..."
   ]
  },
  {
   "cell_type": "markdown",
   "metadata": {},
   "source": [
    "\n",
    "10/26隔天再來試試看，我想先用簡單的程式碼來驗證一下從B函式呼叫A函式的概念"
   ]
  },
  {
   "cell_type": "code",
   "execution_count": 5,
   "metadata": {},
   "outputs": [],
   "source": [
    "def A(list):\n",
    "    if len(list) <= 1:\n",
    "        return list\n",
    "    else:\n",
    "        return list + list"
   ]
  },
  {
   "cell_type": "code",
   "execution_count": 6,
   "metadata": {},
   "outputs": [],
   "source": [
    "def B(list):\n",
    "    return A(list)"
   ]
  },
  {
   "cell_type": "code",
   "execution_count": 7,
   "metadata": {},
   "outputs": [
    {
     "data": {
      "text/plain": [
       "[1]"
      ]
     },
     "execution_count": 7,
     "metadata": {},
     "output_type": "execute_result"
    }
   ],
   "source": [
    "list1 = [1]\n",
    "B(list1)"
   ]
  },
  {
   "cell_type": "code",
   "execution_count": 8,
   "metadata": {},
   "outputs": [
    {
     "data": {
      "text/plain": [
       "[1, 2, 1, 2]"
      ]
     },
     "execution_count": 8,
     "metadata": {},
     "output_type": "execute_result"
    }
   ],
   "source": [
    "list2 = [1,2]\n",
    "B(list2)"
   ]
  },
  {
   "cell_type": "markdown",
   "metadata": {},
   "source": [
    "好的，所以我先定義A函式，再來定義B函式，而B函數就是單純把A函式呼叫出來並且return A函式跑出來的結果\n",
    "\n",
    "依照這個邏輯，如果我有辦法把QuickSort分割成兩個以上的函式，那麼我才算是真正的理解QuickSort的流程！"
   ]
  },
  {
   "cell_type": "code",
   "execution_count": 3,
   "metadata": {},
   "outputs": [],
   "source": [
    "def QS(list):\n",
    "    pivot = list[-1] #基準點就設定為list的最後一個數字\n",
    "    equal = [] #拿來放跟基準點一樣的數字\n",
    "    smaller = [] #拿來放比基準點小的數字\n",
    "    bigger = [] #拿來放比基準點大的數字\n",
    "    for num in list:\n",
    "        if num > pivot:\n",
    "            bigger.append(num) #比基準點大就append進去\n",
    "\n",
    "        elif num == pivot:\n",
    "            equal.append(num) #跟基準點一樣就append進去\n",
    "        else:\n",
    "            smaller.append(num) #比基準點小就append進去\n",
    "        return smaller,equal,bigger"
   ]
  },
  {
   "cell_type": "code",
   "execution_count": 4,
   "metadata": {},
   "outputs": [],
   "source": [
    "def total(list):\n",
    "    if len(list) <= 1:\n",
    "        return list #如果輸入的list長度<=1，就沒有排列的必要了\n",
    "    else:\n",
    "        small = QS(list)\n",
    "        mid = QS(list)\n",
    "        big = QS(list)\n",
    "    return total(small) + mid + total(big)"
   ]
  },
  {
   "cell_type": "code",
   "execution_count": 5,
   "metadata": {},
   "outputs": [
    {
     "ename": "RecursionError",
     "evalue": "maximum recursion depth exceeded in comparison",
     "output_type": "error",
     "traceback": [
      "\u001b[1;31m---------------------------------------------------------------------------\u001b[0m",
      "\u001b[1;31mRecursionError\u001b[0m                            Traceback (most recent call last)",
      "\u001b[1;32m<ipython-input-5-6875889a41c1>\u001b[0m in \u001b[0;36m<module>\u001b[1;34m\u001b[0m\n\u001b[0;32m      1\u001b[0m \u001b[0mc\u001b[0m\u001b[1;33m=\u001b[0m\u001b[1;33m[\u001b[0m\u001b[1;36m3\u001b[0m\u001b[1;33m,\u001b[0m\u001b[1;36m1\u001b[0m\u001b[1;33m,\u001b[0m\u001b[1;36m4\u001b[0m\u001b[1;33m,\u001b[0m\u001b[1;36m9\u001b[0m\u001b[1;33m,\u001b[0m\u001b[1;36m2\u001b[0m\u001b[1;33m]\u001b[0m\u001b[1;33m\u001b[0m\u001b[1;33m\u001b[0m\u001b[0m\n\u001b[1;32m----> 2\u001b[1;33m \u001b[0mtotal\u001b[0m\u001b[1;33m(\u001b[0m\u001b[0mc\u001b[0m\u001b[1;33m)\u001b[0m\u001b[1;33m\u001b[0m\u001b[1;33m\u001b[0m\u001b[0m\n\u001b[0m",
      "\u001b[1;32m<ipython-input-4-20c7c939b6d5>\u001b[0m in \u001b[0;36mtotal\u001b[1;34m(list)\u001b[0m\n\u001b[0;32m      6\u001b[0m         \u001b[0mmid\u001b[0m \u001b[1;33m=\u001b[0m \u001b[0mQS\u001b[0m\u001b[1;33m(\u001b[0m\u001b[0mlist\u001b[0m\u001b[1;33m)\u001b[0m\u001b[1;33m\u001b[0m\u001b[1;33m\u001b[0m\u001b[0m\n\u001b[0;32m      7\u001b[0m         \u001b[0mbig\u001b[0m \u001b[1;33m=\u001b[0m \u001b[0mQS\u001b[0m\u001b[1;33m(\u001b[0m\u001b[0mlist\u001b[0m\u001b[1;33m)\u001b[0m\u001b[1;33m\u001b[0m\u001b[1;33m\u001b[0m\u001b[0m\n\u001b[1;32m----> 8\u001b[1;33m     \u001b[1;32mreturn\u001b[0m \u001b[0mtotal\u001b[0m\u001b[1;33m(\u001b[0m\u001b[0msmall\u001b[0m\u001b[1;33m)\u001b[0m \u001b[1;33m+\u001b[0m \u001b[0mmid\u001b[0m \u001b[1;33m+\u001b[0m \u001b[0mtotal\u001b[0m\u001b[1;33m(\u001b[0m\u001b[0mbig\u001b[0m\u001b[1;33m)\u001b[0m\u001b[1;33m\u001b[0m\u001b[1;33m\u001b[0m\u001b[0m\n\u001b[0m",
      "... last 1 frames repeated, from the frame below ...\n",
      "\u001b[1;32m<ipython-input-4-20c7c939b6d5>\u001b[0m in \u001b[0;36mtotal\u001b[1;34m(list)\u001b[0m\n\u001b[0;32m      6\u001b[0m         \u001b[0mmid\u001b[0m \u001b[1;33m=\u001b[0m \u001b[0mQS\u001b[0m\u001b[1;33m(\u001b[0m\u001b[0mlist\u001b[0m\u001b[1;33m)\u001b[0m\u001b[1;33m\u001b[0m\u001b[1;33m\u001b[0m\u001b[0m\n\u001b[0;32m      7\u001b[0m         \u001b[0mbig\u001b[0m \u001b[1;33m=\u001b[0m \u001b[0mQS\u001b[0m\u001b[1;33m(\u001b[0m\u001b[0mlist\u001b[0m\u001b[1;33m)\u001b[0m\u001b[1;33m\u001b[0m\u001b[1;33m\u001b[0m\u001b[0m\n\u001b[1;32m----> 8\u001b[1;33m     \u001b[1;32mreturn\u001b[0m \u001b[0mtotal\u001b[0m\u001b[1;33m(\u001b[0m\u001b[0msmall\u001b[0m\u001b[1;33m)\u001b[0m \u001b[1;33m+\u001b[0m \u001b[0mmid\u001b[0m \u001b[1;33m+\u001b[0m \u001b[0mtotal\u001b[0m\u001b[1;33m(\u001b[0m\u001b[0mbig\u001b[0m\u001b[1;33m)\u001b[0m\u001b[1;33m\u001b[0m\u001b[1;33m\u001b[0m\u001b[0m\n\u001b[0m",
      "\u001b[1;31mRecursionError\u001b[0m: maximum recursion depth exceeded in comparison"
     ]
    }
   ],
   "source": [
    "c=[3,1,4,9,2]\n",
    "total(c)"
   ]
  },
  {
   "cell_type": "code",
   "execution_count": 1,
   "metadata": {},
   "outputs": [],
   "source": [
    "import sys\n",
    "sys.setrecursionlimit(1000)"
   ]
  },
  {
   "cell_type": "markdown",
   "metadata": {},
   "source": [
    "這邊的錯誤訊息是遞迴深度錯誤，我猜測應該是會進入無限迴圈吧..."
   ]
  },
  {
   "cell_type": "markdown",
   "metadata": {},
   "source": [
    "到這邊我有一個想法，因為我最初的程式碼是先把初始list進行分堆，分堆之後再把smaller list跟bigger list進行quicksort\n",
    "\n",
    "如果說我先定義三個函式，分別存放smaller、equal，bigger，之後再用呼叫的方式把那三堆叫出來進行quicksort\n",
    "\n",
    "程式碼如下："
   ]
  },
  {
   "cell_type": "code",
   "execution_count": 6,
   "metadata": {},
   "outputs": [],
   "source": [
    "def smaller(list):\n",
    "    pivot = list[-1]\n",
    "    small = []\n",
    "    for num in list:\n",
    "        if num < pivot:\n",
    "            small.append(num)\n",
    "        else:\n",
    "            break\n",
    "    return small\n",
    "def bigger(list):\n",
    "    pivot = list[-1]\n",
    "    big = []\n",
    "    for num in list:\n",
    "        if num > pivot:\n",
    "            big.append(num)\n",
    "        else:\n",
    "            break\n",
    "    return big\n",
    "def equal(list):\n",
    "    pivot = list[-1]\n",
    "    equ = []\n",
    "    for num in list:\n",
    "        if num == pivot:\n",
    "            equ.append(num)\n",
    "        else:\n",
    "            break\n",
    "    return equ\n",
    "def quicksort(list):\n",
    "    if len(list) <= 1:\n",
    "        return list\n",
    "    else:\n",
    "        left = smaller(list)\n",
    "        mid = equal(list)\n",
    "        right = bigger(list)\n",
    "    return quicksort(left) + mid + quicksort(right)"
   ]
  },
  {
   "cell_type": "code",
   "execution_count": 7,
   "metadata": {},
   "outputs": [
    {
     "data": {
      "text/plain": [
       "[3]"
      ]
     },
     "execution_count": 7,
     "metadata": {},
     "output_type": "execute_result"
    }
   ],
   "source": [
    "c=[3,1,4,9,2]\n",
    "quicksort(c)"
   ]
  },
  {
   "cell_type": "markdown",
   "metadata": {},
   "source": [
    "...應該是break這邊出了問題\n",
    "\n",
    "參考了一下：https://medium.com/@chiayinchen/1-%E5%88%86%E9%90%98%E6%90%9E%E6%87%82-python-%E8%BF%B4%E5%9C%88%E6%8E%A7%E5%88%B6-break-continue-pass-be290cd1f9d8\n",
    "\n",
    "我覺得應該要用continue，所以我再來試試看...\n",
    "\n",
    "第二版程式碼："
   ]
  },
  {
   "cell_type": "code",
   "execution_count": 8,
   "metadata": {},
   "outputs": [],
   "source": [
    "def smaller(list):\n",
    "    pivot = list[-1]\n",
    "    small = []\n",
    "    for num in list:\n",
    "        if num < pivot:\n",
    "            small.append(num)\n",
    "        else:\n",
    "            continue\n",
    "    return small\n",
    "def bigger(list):\n",
    "    pivot = list[-1]\n",
    "    big = []\n",
    "    for num in list:\n",
    "        if num > pivot:\n",
    "            big.append(num)\n",
    "        else:\n",
    "            continue\n",
    "    return big\n",
    "def equal(list):\n",
    "    pivot = list[-1]\n",
    "    equ = []\n",
    "    for num in list:\n",
    "        if num == pivot:\n",
    "            equ.append(num)\n",
    "        else:\n",
    "            continue\n",
    "    return equ\n",
    "def quicksort(list):\n",
    "    if len(list) <= 1:\n",
    "        return list\n",
    "    else:\n",
    "        left = smaller(list)\n",
    "        mid = equal(list)\n",
    "        right = bigger(list)\n",
    "    return quicksort(left) + mid + quicksort(right)"
   ]
  },
  {
   "cell_type": "code",
   "execution_count": 9,
   "metadata": {},
   "outputs": [
    {
     "data": {
      "text/plain": [
       "[1, 2, 3, 4, 9]"
      ]
     },
     "execution_count": 9,
     "metadata": {},
     "output_type": "execute_result"
    }
   ],
   "source": [
    "c=[3,1,4,9,2]\n",
    "quicksort(c)"
   ]
  },
  {
   "cell_type": "markdown",
   "metadata": {},
   "source": [
    "終於...不過只用一個測值就判斷我的程式碼沒有漏洞，這樣是不夠精確的，所以我再多用一組測值試試看"
   ]
  },
  {
   "cell_type": "code",
   "execution_count": 11,
   "metadata": {},
   "outputs": [
    {
     "data": {
      "text/plain": [
       "[1, 1, 2, 2, 3, 3, 4, 5, 5, 5, 6, 6, 7, 8, 8, 8, 9, 9]"
      ]
     },
     "execution_count": 11,
     "metadata": {},
     "output_type": "execute_result"
    }
   ],
   "source": [
    "a = [3,1,5,8,9,6,5,2,4,8,1,2,3,6,5,7,8,9]\n",
    "quicksort(a)"
   ]
  },
  {
   "cell_type": "markdown",
   "metadata": {},
   "source": [
    "為什麼是用continue而不是break？我自己的理解是：\n",
    "\n",
    "以我第一個定義的函式smaller來當例子，我這邊要蒐集比pivot小的數字，其他的我要跳過，執行下一個迴圈\n",
    "\n",
    "但是break是只要不符合if的條件式，就直接跳出迴圈，這樣後面的數字就不會被比較到了！\n",
    "\n",
    "舉個例子，list1 = [1,6,4,5]，pivot等於list的最後一個數字 = 5\n",
    "\n",
    "如果用break的邏輯，那麼在第2圈 num = 6的情況，就會直接跳出迴圈，導致 num = 4就不會被記錄到small list裡面\n",
    "\n",
    "但是如果用continue的邏輯，num = 6這邊就跳過，繼續執行下一圈num = 4，這樣就不會有上述的問題發生了"
   ]
  },
  {
   "cell_type": "code",
   "execution_count": 12,
   "metadata": {},
   "outputs": [],
   "source": [
    "#10/27更新第二版程式碼的註解#\n",
    "\n",
    "def smaller(list): #定義一個函式為smaller\n",
    "    pivot = list[-1] #基準點設定為list的最後一個數字\n",
    "    small = [] #創造一個list空間等等要放比pivot小的數字進來\n",
    "    for num in list: #把list裡面的每個數字都抓出來\n",
    "        if num < pivot: #然後跟pivot比較，如果比pivot小的話\n",
    "            small.append(num) #就把它append進small這個list\n",
    "        else: #要不然\n",
    "            continue #就跳下一個迴圈執行\n",
    "    return small #最後回傳small這個list\n",
    "def bigger(list):\n",
    "    pivot = list[-1]\n",
    "    big = []\n",
    "    for num in list:\n",
    "        if num > pivot:\n",
    "            big.append(num)\n",
    "        else:\n",
    "            continue\n",
    "    return big\n",
    "def equal(list):\n",
    "    pivot = list[-1]\n",
    "    equ = []\n",
    "    for num in list:\n",
    "        if num == pivot:\n",
    "            equ.append(num)\n",
    "        else:\n",
    "            continue\n",
    "    return equ\n",
    "def quicksort(list):\n",
    "    if len(list) <= 1:\n",
    "        return list\n",
    "    else:\n",
    "        left = smaller(list) #呼叫smaller函式，並且把其回傳的值丟到left裡面，以便等等進行運算\n",
    "        mid = equal(list)\n",
    "        right = bigger(list)\n",
    "    return quicksort(left) + mid + quicksort(right) #最後按照順序回傳quicksort過後的left、mid(這個不用再quicksort)、right"
   ]
  },
  {
   "cell_type": "markdown",
   "metadata": {},
   "source": [
    "10/27早上突然想到一個問題，這個quicksort進行的順序是否是按照return的順序呢？\n",
    "\n",
    "於是我做了一個小測驗："
   ]
  },
  {
   "cell_type": "code",
   "execution_count": 20,
   "metadata": {},
   "outputs": [],
   "source": [
    "def quicksort(list):\n",
    "    if len(list) <= 1:\n",
    "        return list\n",
    "    else:\n",
    "        left = smaller(list) #呼叫smaller函式，並且把其回傳的值丟到left裡面，以便等等進行運算\n",
    "        mid = equal(list)\n",
    "        right = bigger(list)\n",
    "        print(left)\n",
    "        print(mid)\n",
    "        print(right)\n",
    "        print(\"/\")\n",
    "    return quicksort(left) + mid + quicksort(right) #最後按照順序回傳quicksort過後的left、mid(這個不用再quicksort)、right"
   ]
  },
  {
   "cell_type": "code",
   "execution_count": 22,
   "metadata": {},
   "outputs": [
    {
     "name": "stdout",
     "output_type": "stream",
     "text": [
      "[3, 1, 2]\n",
      "[4]\n",
      "[7, 5, 6]\n",
      "/\n",
      "[1]\n",
      "[2]\n",
      "[3]\n",
      "/\n",
      "[5]\n",
      "[6]\n",
      "[7]\n",
      "/\n"
     ]
    },
    {
     "data": {
      "text/plain": [
       "[1, 2, 3, 4, 5, 6, 7]"
      ]
     },
     "execution_count": 22,
     "metadata": {},
     "output_type": "execute_result"
    }
   ],
   "source": [
    "a = [3,1,2,7,5,6,4]\n",
    "quicksort(a)"
   ]
  },
  {
   "cell_type": "markdown",
   "metadata": {},
   "source": [
    "這邊可以清楚的看到第一次分堆left=[3,1,2],mid=[4],right=[7,5,6]\n",
    "\n",
    "之後會先把left再進行分堆，直到長度<=1，然後再進行right的分堆\n",
    "\n",
    "那麼如果我把return的順序對調，是否分堆的順序也會改變呢？\n",
    "\n",
    "程式碼微調如下："
   ]
  },
  {
   "cell_type": "code",
   "execution_count": 23,
   "metadata": {},
   "outputs": [],
   "source": [
    "def quicksort(list):\n",
    "    if len(list) <= 1:\n",
    "        return list\n",
    "    else:\n",
    "        left = smaller(list) #呼叫smaller函式，並且把其回傳的值丟到left裡面，以便等等進行運算\n",
    "        mid = equal(list)\n",
    "        right = bigger(list)\n",
    "        print(left)\n",
    "        print(mid)\n",
    "        print(right)\n",
    "        print(\"/\")\n",
    "    return quicksort(right) + mid + quicksort(left) #最後按照順序回傳quicksort過後的right、mid(這個不用再quicksort)、left"
   ]
  },
  {
   "cell_type": "code",
   "execution_count": 25,
   "metadata": {},
   "outputs": [
    {
     "name": "stdout",
     "output_type": "stream",
     "text": [
      "[3, 1, 2]\n",
      "[4]\n",
      "[7, 5, 6]\n",
      "/\n",
      "[5]\n",
      "[6]\n",
      "[7]\n",
      "/\n",
      "[1]\n",
      "[2]\n",
      "[3]\n",
      "/\n"
     ]
    },
    {
     "data": {
      "text/plain": [
       "[7, 6, 5, 4, 3, 2, 1]"
      ]
     },
     "execution_count": 25,
     "metadata": {},
     "output_type": "execute_result"
    }
   ],
   "source": [
    "quicksort(a)"
   ]
  },
  {
   "cell_type": "markdown",
   "metadata": {},
   "source": [
    "到此為止，我幾乎可以確定quicksort的排序流程的邏輯了！會根據return的順序來進行排序\n",
    "\n",
    "那麼我就先把流程圖畫出來，再來跑程式碼進行比對，看看我的邏輯是否正確！\n",
    "\n",
    "流程圖如下："
   ]
  },
  {
   "cell_type": "code",
   "execution_count": 41,
   "metadata": {},
   "outputs": [
    {
     "data": {
      "text/html": [
       "<img src=\"https://github.com/samuel871211/My-python-code/blob/master/HW1/%E6%B5%81%E7%A8%8B%E5%9C%96.jpg?raw=true\" width=\"1000\" height=\"1000\"/>"
      ],
      "text/plain": [
       "<IPython.core.display.Image object>"
      ]
     },
     "execution_count": 41,
     "metadata": {},
     "output_type": "execute_result"
    }
   ],
   "source": [
    "Image(url= \"https://github.com/samuel871211/My-python-code/blob/master/HW1/%E6%B5%81%E7%A8%8B%E5%9C%96.jpg?raw=true\",width = 1000,height = 1000)"
   ]
  },
  {
   "cell_type": "markdown",
   "metadata": {},
   "source": [
    "接下來用程式碼來驗證自己的流程是否有錯誤！"
   ]
  },
  {
   "cell_type": "code",
   "execution_count": 36,
   "metadata": {},
   "outputs": [],
   "source": [
    "def quicksort(list):\n",
    "    if len(list) <= 1:\n",
    "        return list\n",
    "    else:\n",
    "        left = smaller(list) #呼叫smaller函式，並且把其回傳的值丟到left裡面，以便等等進行運算\n",
    "        mid = equal(list)\n",
    "        right = bigger(list)\n",
    "        print(left,mid,right)\n",
    "    return quicksort(left) + mid + quicksort(right) #最後按照順序回傳quicksort過後的right、mid(這個不用再quicksort)、left"
   ]
  },
  {
   "cell_type": "code",
   "execution_count": 37,
   "metadata": {},
   "outputs": [
    {
     "name": "stdout",
     "output_type": "stream",
     "text": [
      "[1, 5, 2, 4, 3] [6] [7, 10, 11, 8, 9]\n",
      "[1, 2] [3] [5, 4]\n",
      "[1] [2] []\n",
      "[] [4] [5]\n",
      "[7, 8] [9] [10, 11]\n",
      "[7] [8] []\n",
      "[10] [11] []\n"
     ]
    },
    {
     "data": {
      "text/plain": [
       "[1, 2, 3, 4, 5, 6, 7, 8, 9, 10, 11]"
      ]
     },
     "execution_count": 37,
     "metadata": {},
     "output_type": "execute_result"
    }
   ],
   "source": [
    "c = [1,5,2,4,3,7,10,11,8,9,6]\n",
    "quicksort(c)"
   ]
  },
  {
   "cell_type": "markdown",
   "metadata": {},
   "source": [
    "可以看到print出來的結果跟我的流程圖是完全符合的！到此，我對於quicksort的整體流程跟邏輯算是終於有更進一步的了解惹！"
   ]
  },
  {
   "cell_type": "code",
   "execution_count": 38,
   "metadata": {},
   "outputs": [],
   "source": [
    "from IPython.display import Image\n",
    "from IPython.core.display import HTML"
   ]
  }
 ],
 "metadata": {
  "kernelspec": {
   "display_name": "Python 3",
   "language": "python",
   "name": "python3"
  },
  "language_info": {
   "codemirror_mode": {
    "name": "ipython",
    "version": 3
   },
   "file_extension": ".py",
   "mimetype": "text/x-python",
   "name": "python",
   "nbconvert_exporter": "python",
   "pygments_lexer": "ipython3",
   "version": "3.7.3"
  }
 },
 "nbformat": 4,
 "nbformat_minor": 2
}
