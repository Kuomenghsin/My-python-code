{
 "cells": [
  {
   "cell_type": "code",
   "execution_count": 1,
   "metadata": {},
   "outputs": [],
   "source": [
    "class Node:\n",
    "    def __init__(self, data):\n",
    "        self.data = data\n",
    "        self.next = None # make None as the default value for next."
   ]
  },
  {
   "cell_type": "code",
   "execution_count": 2,
   "metadata": {},
   "outputs": [],
   "source": [
    "def count_nodes(head):\n",
    "    # assuming that head != None\n",
    "    count = 1\n",
    "    current = head\n",
    "    while current.next is not None:\n",
    "        current = current.next\n",
    "        count += 1\n",
    "    return count #while這個函數，當符合條件時，會一直重複執行#"
   ]
  },
  {
   "cell_type": "code",
   "execution_count": 5,
   "metadata": {},
   "outputs": [
    {
     "name": "stdout",
     "output_type": "stream",
     "text": [
      "This linked list's length is: (should print 5)\n",
      "5\n"
     ]
    }
   ],
   "source": [
    "nodeA = Node(6)\n",
    "nodeB = Node(3)\n",
    "nodeC = Node(4)\n",
    "nodeD = Node(2)\n",
    "nodeE = Node(1)\n",
    "\n",
    "nodeA.next = nodeB\n",
    "nodeB.next = nodeC\n",
    "nodeC.next = nodeD #A->B->C->D->E#\n",
    "nodeD.next = nodeE #6->3->4->2->1#\n",
    "\n",
    "print(\"This linked list's length is: (should print 5)\")\n",
    "print(count_nodes(nodeA)) #這邊的count_nodes就是前面define的#"
   ]
  },
  {
   "cell_type": "code",
   "execution_count": null,
   "metadata": {},
   "outputs": [],
   "source": []
  }
 ],
 "metadata": {
  "kernelspec": {
   "display_name": "Python 3",
   "language": "python",
   "name": "python3"
  },
  "language_info": {
   "codemirror_mode": {
    "name": "ipython",
    "version": 3
   },
   "file_extension": ".py",
   "mimetype": "text/x-python",
   "name": "python",
   "nbconvert_exporter": "python",
   "pygments_lexer": "ipython3",
   "version": "3.7.1"
  }
 },
 "nbformat": 4,
 "nbformat_minor": 2
}
