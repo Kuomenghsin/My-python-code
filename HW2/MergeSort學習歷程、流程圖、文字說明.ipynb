{
 "cells": [
  {
   "cell_type": "markdown",
   "metadata": {},
   "source": [
    "10/29早上老師有講解MergeSort的流程，趁記憶還新鮮，趕快來寫\n",
    "\n",
    "初步邏輯思考(通常不會100%正確，後面越寫下去，前面的邏輯越會被打臉)：\n",
    "\n",
    "1.def第一個函式split，把array一直平分成兩份，直到長度=1就停止\n",
    "\n",
    "需考慮的特例情況：無法平分的時候要怎麼辦呢？\n",
    "\n",
    "2.def第二個函式merge，利用遞迴的方式把相鄰的兩個array排序好，並且合併在一起\n",
    "\n",
    "這次嘗試不看程式碼，不想用先入為主的觀念來影響我的邏輯~"
   ]
  },
  {
   "cell_type": "code",
   "execution_count": 5,
   "metadata": {},
   "outputs": [],
   "source": [
    "def split(nums):\n",
    "    left = nums[0,(len(nums)//2)-1]\n",
    "    right = nums[len(nums)//2,len(nums)-1]\n",
    "    print(left,right)\n",
    "    if len(left) != 1:\n",
    "        split(left)\n",
    "      \n",
    "    if len(right) != 1:\n",
    "        split(right)"
   ]
  },
  {
   "cell_type": "code",
   "execution_count": 6,
   "metadata": {
    "scrolled": true
   },
   "outputs": [
    {
     "ename": "TypeError",
     "evalue": "list indices must be integers or slices, not tuple",
     "output_type": "error",
     "traceback": [
      "\u001b[1;31m---------------------------------------------------------------------------\u001b[0m",
      "\u001b[1;31mTypeError\u001b[0m                                 Traceback (most recent call last)",
      "\u001b[1;32m<ipython-input-6-bbf1fb661f53>\u001b[0m in \u001b[0;36m<module>\u001b[1;34m\u001b[0m\n\u001b[0;32m      1\u001b[0m \u001b[0ma\u001b[0m \u001b[1;33m=\u001b[0m \u001b[1;33m[\u001b[0m\u001b[1;36m3\u001b[0m\u001b[1;33m,\u001b[0m\u001b[1;36m5\u001b[0m\u001b[1;33m,\u001b[0m\u001b[1;36m7\u001b[0m\u001b[1;33m,\u001b[0m\u001b[1;36m1\u001b[0m\u001b[1;33m,\u001b[0m\u001b[1;36m4\u001b[0m\u001b[1;33m,\u001b[0m\u001b[1;36m2\u001b[0m\u001b[1;33m,\u001b[0m\u001b[1;36m6\u001b[0m\u001b[1;33m]\u001b[0m\u001b[1;33m\u001b[0m\u001b[1;33m\u001b[0m\u001b[0m\n\u001b[1;32m----> 2\u001b[1;33m \u001b[0msplit\u001b[0m\u001b[1;33m(\u001b[0m\u001b[0ma\u001b[0m\u001b[1;33m)\u001b[0m\u001b[1;33m\u001b[0m\u001b[1;33m\u001b[0m\u001b[0m\n\u001b[0m",
      "\u001b[1;32m<ipython-input-5-c41963f1ea84>\u001b[0m in \u001b[0;36msplit\u001b[1;34m(nums)\u001b[0m\n\u001b[0;32m      1\u001b[0m \u001b[1;32mdef\u001b[0m \u001b[0msplit\u001b[0m\u001b[1;33m(\u001b[0m\u001b[0mnums\u001b[0m\u001b[1;33m)\u001b[0m\u001b[1;33m:\u001b[0m\u001b[1;33m\u001b[0m\u001b[1;33m\u001b[0m\u001b[0m\n\u001b[1;32m----> 2\u001b[1;33m     \u001b[0mleft\u001b[0m \u001b[1;33m=\u001b[0m \u001b[0mlist\u001b[0m\u001b[1;33m[\u001b[0m\u001b[0mnums\u001b[0m\u001b[1;33m[\u001b[0m\u001b[1;36m0\u001b[0m\u001b[1;33m,\u001b[0m\u001b[1;33m(\u001b[0m\u001b[0mlen\u001b[0m\u001b[1;33m(\u001b[0m\u001b[0mnums\u001b[0m\u001b[1;33m)\u001b[0m\u001b[1;33m//\u001b[0m\u001b[1;36m2\u001b[0m\u001b[1;33m)\u001b[0m\u001b[1;33m-\u001b[0m\u001b[1;36m1\u001b[0m\u001b[1;33m]\u001b[0m\u001b[1;33m]\u001b[0m\u001b[1;33m\u001b[0m\u001b[1;33m\u001b[0m\u001b[0m\n\u001b[0m\u001b[0;32m      3\u001b[0m     \u001b[0mright\u001b[0m \u001b[1;33m=\u001b[0m \u001b[0mlist\u001b[0m\u001b[1;33m[\u001b[0m\u001b[0mnums\u001b[0m\u001b[1;33m[\u001b[0m\u001b[0mlen\u001b[0m\u001b[1;33m(\u001b[0m\u001b[0mnums\u001b[0m\u001b[1;33m)\u001b[0m\u001b[1;33m//\u001b[0m\u001b[1;36m2\u001b[0m\u001b[1;33m,\u001b[0m\u001b[0mlen\u001b[0m\u001b[1;33m(\u001b[0m\u001b[0mnums\u001b[0m\u001b[1;33m)\u001b[0m\u001b[1;33m-\u001b[0m\u001b[1;36m1\u001b[0m\u001b[1;33m]\u001b[0m\u001b[1;33m]\u001b[0m\u001b[1;33m\u001b[0m\u001b[1;33m\u001b[0m\u001b[0m\n\u001b[0;32m      4\u001b[0m     \u001b[0mprint\u001b[0m\u001b[1;33m(\u001b[0m\u001b[0mleft\u001b[0m\u001b[1;33m,\u001b[0m\u001b[0mright\u001b[0m\u001b[1;33m)\u001b[0m\u001b[1;33m\u001b[0m\u001b[1;33m\u001b[0m\u001b[0m\n\u001b[0;32m      5\u001b[0m     \u001b[1;32mif\u001b[0m \u001b[0mlen\u001b[0m\u001b[1;33m(\u001b[0m\u001b[0mleft\u001b[0m\u001b[1;33m)\u001b[0m \u001b[1;33m!=\u001b[0m \u001b[1;36m1\u001b[0m\u001b[1;33m:\u001b[0m\u001b[1;33m\u001b[0m\u001b[1;33m\u001b[0m\u001b[0m\n",
      "\u001b[1;31mTypeError\u001b[0m: list indices must be integers or slices, not tuple"
     ]
    }
   ],
   "source": [
    "a = [3,5,7,1,4,2,6]\n",
    "split(a)"
   ]
  },
  {
   "cell_type": "markdown",
   "metadata": {},
   "source": [
    "應該是分堆的語法出了點問題"
   ]
  },
  {
   "cell_type": "code",
   "execution_count": 13,
   "metadata": {},
   "outputs": [
    {
     "data": {
      "text/plain": [
       "[3, 5, 7]"
      ]
     },
     "execution_count": 13,
     "metadata": {},
     "output_type": "execute_result"
    }
   ],
   "source": [
    "a[0:(len(a)//2)]"
   ]
  },
  {
   "cell_type": "markdown",
   "metadata": {},
   "source": [
    "想起來了，中間要用:隔開。這段程式碼代表說，我今天要取a的第0位到第len(a)//2位，但注意python是含頭不含尾，包含for迴圈的range也是同樣道理"
   ]
  },
  {
   "cell_type": "code",
   "execution_count": 16,
   "metadata": {},
   "outputs": [],
   "source": [
    "def split(nums):\n",
    "    left = nums[0:(len(nums)//2)]\n",
    "    right = nums[(len(nums)//2):len(nums)]\n",
    "    print(left,\"and\",right)\n",
    "    if len(left) != 1:\n",
    "        split(left)\n",
    "      \n",
    "    if len(right) != 1:\n",
    "        split(right)"
   ]
  },
  {
   "cell_type": "code",
   "execution_count": 18,
   "metadata": {},
   "outputs": [
    {
     "name": "stdout",
     "output_type": "stream",
     "text": [
      "[3, 5, 7] and [1, 4, 2, 6]\n",
      "[3] and [5, 7]\n",
      "[5] and [7]\n",
      "[1, 4] and [2, 6]\n",
      "[1] and [4]\n",
      "[2] and [6]\n"
     ]
    }
   ],
   "source": [
    "a = [3,5,7,1,4,2,6]\n",
    "split(a)"
   ]
  },
  {
   "cell_type": "markdown",
   "metadata": {},
   "source": [
    "爽LA，看起來沒問題耶，那麼split部分可以來畫流程圖囉！\n",
    "\n",
    "話說這個split的邏輯跟quicksort的smaller、equal、bigger超級像的\n",
    "\n",
    "quicksort的邏輯：選基準 > 分三堆 > if長度>=1 > 遞迴\n",
    "\n",
    "split的邏輯：分兩堆 > if長度>=1 > 遞迴\n",
    "\n",
    "split只是少了選基準而已\n",
    "\n",
    "split流程圖如下："
   ]
  },
  {
   "cell_type": "code",
   "execution_count": 21,
   "metadata": {},
   "outputs": [
    {
     "data": {
      "text/html": [
       "<img src=\"https://github.com/samuel871211/My-python-code/blob/master/week6/split.jpg?raw=true\" width=\"450\" height=\"450\"/>"
      ],
      "text/plain": [
       "<IPython.core.display.Image object>"
      ]
     },
     "execution_count": 21,
     "metadata": {},
     "output_type": "execute_result"
    }
   ],
   "source": [
    "from IPython.display import Image\n",
    "from IPython.core.display import HTML\n",
    "Image(url= \"https://github.com/samuel871211/My-python-code/blob/master/week6/split.jpg?raw=true\",width = 450,height = 450)"
   ]
  },
  {
   "cell_type": "markdown",
   "metadata": {},
   "source": [
    "接下來試著寫Merge的程式碼："
   ]
  },
  {
   "cell_type": "markdown",
   "metadata": {},
   "source": [
    "突然想到一個問題...如果我要把split跟merge分開來用2個def來寫的話，那我的merge要先呼叫split，取得left跟right之後，才能進行merge！"
   ]
  },
  {
   "cell_type": "code",
   "execution_count": 1,
   "metadata": {},
   "outputs": [],
   "source": [
    "def split(nums):\n",
    "    \n",
    "    left = nums[0:(len(nums)//2)]\n",
    "    right = nums[(len(nums)//2):len(nums)]\n",
    "    \n",
    "    if len(left) != 1:\n",
    "        split(left)\n",
    "      \n",
    "    if len(right) != 1:\n",
    "        split(right)\n",
    "\n",
    "def split_left(nums):\n",
    "    \n",
    "    left1 = nums[0:(len(nums)//2)]\n",
    "    split(left1)\n",
    "    return left1\n",
    "    \n",
    "def split_right(nums):\n",
    "    \n",
    "    right1 = nums[(len(nums)//2):len(nums)]\n",
    "    split(right1)\n",
    "    return right1\n",
    "\n",
    "def merge(nums):\n",
    "    \n",
    "    Splited_right = split_right(nums)  \n",
    "    \n",
    "    l = 0, r = 0\n",
    "    if Splited_left[l] <= Splited_right[r]:\n",
    "\n",
    "        l = l + 1\n",
    "\n",
    "    elif Splited_left[l] > Splited_right[r]:\n",
    "        \n",
    "        r = r + 1"
   ]
  },
  {
   "cell_type": "markdown",
   "metadata": {},
   "source": [
    "10/29晚上寫到邏輯有點打結，目前的問題是：\n",
    "\n",
    "1.我該如何從下而上的進行merge？\n",
    "\n",
    "2.我該如何讓程式知道merge完之後的arr是屬於left還是right呢？因為要用遞迴寫法，如果程式不知道誰是left誰是right，那要如何進行merge呢？\n",
    "\n",
    "10/30想到幾點：\n",
    "\n",
    "1.我是否應該要在split那邊就return left,right，這樣才能把我需要的東西都給merge進行處理？\n",
    "\n",
    "2.我記得老師說MergeSort的空間複雜度 = O(n)，所以需要額外創建一個跟input一樣長的空間來存放sorted後的值？\n",
    "\n",
    "3.我是否該先把所有東西寫在一個def裡面，暫時先不要考慮從b函數呼叫a函數的複雜邏輯？"
   ]
  },
  {
   "cell_type": "code",
   "execution_count": 18,
   "metadata": {},
   "outputs": [],
   "source": [
    "def mergesort(nums):\n",
    "    if len(nums) > 1:\n",
    "        left = nums[0:(len(nums)//2)]\n",
    "        right = nums[(len(nums)//2):len(nums)]\n",
    "        mergesort(left)\n",
    "        mergesort(right)\n",
    "    \n",
    "    l = 0\n",
    "    r = 0\n",
    "    tmp = []\n",
    "    while l < len(left) and r < len(right):\n",
    "        if left[l] < right[r]:\n",
    "            tmp.append(left[l])\n",
    "            l = l + 1\n",
    "        else:\n",
    "            tmp.append(right[r])\n",
    "            r = r + 1\n",
    "    while l < len(left):\n",
    "        tmp.append(left[l])\n",
    "        l = l + 1\n",
    "    while r < len(right):\n",
    "        tmp.append(right[r])\n",
    "    return tmp"
   ]
  },
  {
   "cell_type": "code",
   "execution_count": 19,
   "metadata": {},
   "outputs": [
    {
     "ename": "UnboundLocalError",
     "evalue": "local variable 'left' referenced before assignment",
     "output_type": "error",
     "traceback": [
      "\u001b[1;31m---------------------------------------------------------------------------\u001b[0m",
      "\u001b[1;31mUnboundLocalError\u001b[0m                         Traceback (most recent call last)",
      "\u001b[1;32m<ipython-input-19-b3d93663569e>\u001b[0m in \u001b[0;36m<module>\u001b[1;34m\u001b[0m\n\u001b[0;32m      1\u001b[0m \u001b[0ma\u001b[0m \u001b[1;33m=\u001b[0m  \u001b[1;33m[\u001b[0m\u001b[1;36m8\u001b[0m\u001b[1;33m,\u001b[0m\u001b[1;36m1\u001b[0m\u001b[1;33m,\u001b[0m\u001b[1;36m5\u001b[0m\u001b[1;33m,\u001b[0m\u001b[1;36m6\u001b[0m\u001b[1;33m,\u001b[0m\u001b[1;36m3\u001b[0m\u001b[1;33m,\u001b[0m\u001b[1;36m2\u001b[0m\u001b[1;33m,\u001b[0m\u001b[1;36m4\u001b[0m\u001b[1;33m,\u001b[0m\u001b[1;36m7\u001b[0m\u001b[1;33m]\u001b[0m\u001b[1;33m\u001b[0m\u001b[1;33m\u001b[0m\u001b[0m\n\u001b[1;32m----> 2\u001b[1;33m \u001b[0mmergesort\u001b[0m\u001b[1;33m(\u001b[0m\u001b[0ma\u001b[0m\u001b[1;33m)\u001b[0m\u001b[1;33m\u001b[0m\u001b[1;33m\u001b[0m\u001b[0m\n\u001b[0m",
      "\u001b[1;32m<ipython-input-18-b13a98d92c9e>\u001b[0m in \u001b[0;36mmergesort\u001b[1;34m(nums)\u001b[0m\n\u001b[0;32m      3\u001b[0m         \u001b[0mleft\u001b[0m \u001b[1;33m=\u001b[0m \u001b[0mnums\u001b[0m\u001b[1;33m[\u001b[0m\u001b[1;36m0\u001b[0m\u001b[1;33m:\u001b[0m\u001b[1;33m(\u001b[0m\u001b[0mlen\u001b[0m\u001b[1;33m(\u001b[0m\u001b[0mnums\u001b[0m\u001b[1;33m)\u001b[0m\u001b[1;33m//\u001b[0m\u001b[1;36m2\u001b[0m\u001b[1;33m)\u001b[0m\u001b[1;33m]\u001b[0m\u001b[1;33m\u001b[0m\u001b[1;33m\u001b[0m\u001b[0m\n\u001b[0;32m      4\u001b[0m         \u001b[0mright\u001b[0m \u001b[1;33m=\u001b[0m \u001b[0mnums\u001b[0m\u001b[1;33m[\u001b[0m\u001b[1;33m(\u001b[0m\u001b[0mlen\u001b[0m\u001b[1;33m(\u001b[0m\u001b[0mnums\u001b[0m\u001b[1;33m)\u001b[0m\u001b[1;33m//\u001b[0m\u001b[1;36m2\u001b[0m\u001b[1;33m)\u001b[0m\u001b[1;33m:\u001b[0m\u001b[0mlen\u001b[0m\u001b[1;33m(\u001b[0m\u001b[0mnums\u001b[0m\u001b[1;33m)\u001b[0m\u001b[1;33m]\u001b[0m\u001b[1;33m\u001b[0m\u001b[1;33m\u001b[0m\u001b[0m\n\u001b[1;32m----> 5\u001b[1;33m         \u001b[0mmergesort\u001b[0m\u001b[1;33m(\u001b[0m\u001b[0mleft\u001b[0m\u001b[1;33m)\u001b[0m\u001b[1;33m\u001b[0m\u001b[1;33m\u001b[0m\u001b[0m\n\u001b[0m\u001b[0;32m      6\u001b[0m         \u001b[0mmergesort\u001b[0m\u001b[1;33m(\u001b[0m\u001b[0mright\u001b[0m\u001b[1;33m)\u001b[0m\u001b[1;33m\u001b[0m\u001b[1;33m\u001b[0m\u001b[0m\n\u001b[0;32m      7\u001b[0m \u001b[1;33m\u001b[0m\u001b[0m\n",
      "\u001b[1;32m<ipython-input-18-b13a98d92c9e>\u001b[0m in \u001b[0;36mmergesort\u001b[1;34m(nums)\u001b[0m\n\u001b[0;32m      3\u001b[0m         \u001b[0mleft\u001b[0m \u001b[1;33m=\u001b[0m \u001b[0mnums\u001b[0m\u001b[1;33m[\u001b[0m\u001b[1;36m0\u001b[0m\u001b[1;33m:\u001b[0m\u001b[1;33m(\u001b[0m\u001b[0mlen\u001b[0m\u001b[1;33m(\u001b[0m\u001b[0mnums\u001b[0m\u001b[1;33m)\u001b[0m\u001b[1;33m//\u001b[0m\u001b[1;36m2\u001b[0m\u001b[1;33m)\u001b[0m\u001b[1;33m]\u001b[0m\u001b[1;33m\u001b[0m\u001b[1;33m\u001b[0m\u001b[0m\n\u001b[0;32m      4\u001b[0m         \u001b[0mright\u001b[0m \u001b[1;33m=\u001b[0m \u001b[0mnums\u001b[0m\u001b[1;33m[\u001b[0m\u001b[1;33m(\u001b[0m\u001b[0mlen\u001b[0m\u001b[1;33m(\u001b[0m\u001b[0mnums\u001b[0m\u001b[1;33m)\u001b[0m\u001b[1;33m//\u001b[0m\u001b[1;36m2\u001b[0m\u001b[1;33m)\u001b[0m\u001b[1;33m:\u001b[0m\u001b[0mlen\u001b[0m\u001b[1;33m(\u001b[0m\u001b[0mnums\u001b[0m\u001b[1;33m)\u001b[0m\u001b[1;33m]\u001b[0m\u001b[1;33m\u001b[0m\u001b[1;33m\u001b[0m\u001b[0m\n\u001b[1;32m----> 5\u001b[1;33m         \u001b[0mmergesort\u001b[0m\u001b[1;33m(\u001b[0m\u001b[0mleft\u001b[0m\u001b[1;33m)\u001b[0m\u001b[1;33m\u001b[0m\u001b[1;33m\u001b[0m\u001b[0m\n\u001b[0m\u001b[0;32m      6\u001b[0m         \u001b[0mmergesort\u001b[0m\u001b[1;33m(\u001b[0m\u001b[0mright\u001b[0m\u001b[1;33m)\u001b[0m\u001b[1;33m\u001b[0m\u001b[1;33m\u001b[0m\u001b[0m\n\u001b[0;32m      7\u001b[0m \u001b[1;33m\u001b[0m\u001b[0m\n",
      "\u001b[1;32m<ipython-input-18-b13a98d92c9e>\u001b[0m in \u001b[0;36mmergesort\u001b[1;34m(nums)\u001b[0m\n\u001b[0;32m      3\u001b[0m         \u001b[0mleft\u001b[0m \u001b[1;33m=\u001b[0m \u001b[0mnums\u001b[0m\u001b[1;33m[\u001b[0m\u001b[1;36m0\u001b[0m\u001b[1;33m:\u001b[0m\u001b[1;33m(\u001b[0m\u001b[0mlen\u001b[0m\u001b[1;33m(\u001b[0m\u001b[0mnums\u001b[0m\u001b[1;33m)\u001b[0m\u001b[1;33m//\u001b[0m\u001b[1;36m2\u001b[0m\u001b[1;33m)\u001b[0m\u001b[1;33m]\u001b[0m\u001b[1;33m\u001b[0m\u001b[1;33m\u001b[0m\u001b[0m\n\u001b[0;32m      4\u001b[0m         \u001b[0mright\u001b[0m \u001b[1;33m=\u001b[0m \u001b[0mnums\u001b[0m\u001b[1;33m[\u001b[0m\u001b[1;33m(\u001b[0m\u001b[0mlen\u001b[0m\u001b[1;33m(\u001b[0m\u001b[0mnums\u001b[0m\u001b[1;33m)\u001b[0m\u001b[1;33m//\u001b[0m\u001b[1;36m2\u001b[0m\u001b[1;33m)\u001b[0m\u001b[1;33m:\u001b[0m\u001b[0mlen\u001b[0m\u001b[1;33m(\u001b[0m\u001b[0mnums\u001b[0m\u001b[1;33m)\u001b[0m\u001b[1;33m]\u001b[0m\u001b[1;33m\u001b[0m\u001b[1;33m\u001b[0m\u001b[0m\n\u001b[1;32m----> 5\u001b[1;33m         \u001b[0mmergesort\u001b[0m\u001b[1;33m(\u001b[0m\u001b[0mleft\u001b[0m\u001b[1;33m)\u001b[0m\u001b[1;33m\u001b[0m\u001b[1;33m\u001b[0m\u001b[0m\n\u001b[0m\u001b[0;32m      6\u001b[0m         \u001b[0mmergesort\u001b[0m\u001b[1;33m(\u001b[0m\u001b[0mright\u001b[0m\u001b[1;33m)\u001b[0m\u001b[1;33m\u001b[0m\u001b[1;33m\u001b[0m\u001b[0m\n\u001b[0;32m      7\u001b[0m \u001b[1;33m\u001b[0m\u001b[0m\n",
      "\u001b[1;32m<ipython-input-18-b13a98d92c9e>\u001b[0m in \u001b[0;36mmergesort\u001b[1;34m(nums)\u001b[0m\n\u001b[0;32m      9\u001b[0m     \u001b[0mr\u001b[0m \u001b[1;33m=\u001b[0m \u001b[1;36m0\u001b[0m\u001b[1;33m\u001b[0m\u001b[1;33m\u001b[0m\u001b[0m\n\u001b[0;32m     10\u001b[0m     \u001b[0mtmp\u001b[0m \u001b[1;33m=\u001b[0m \u001b[1;33m[\u001b[0m\u001b[1;33m]\u001b[0m\u001b[1;33m\u001b[0m\u001b[1;33m\u001b[0m\u001b[0m\n\u001b[1;32m---> 11\u001b[1;33m     \u001b[1;32mwhile\u001b[0m \u001b[0ml\u001b[0m \u001b[1;33m<\u001b[0m \u001b[0mlen\u001b[0m\u001b[1;33m(\u001b[0m\u001b[0mleft\u001b[0m\u001b[1;33m)\u001b[0m \u001b[1;32mand\u001b[0m \u001b[0mr\u001b[0m \u001b[1;33m<\u001b[0m \u001b[0mlen\u001b[0m\u001b[1;33m(\u001b[0m\u001b[0mright\u001b[0m\u001b[1;33m)\u001b[0m\u001b[1;33m:\u001b[0m\u001b[1;33m\u001b[0m\u001b[1;33m\u001b[0m\u001b[0m\n\u001b[0m\u001b[0;32m     12\u001b[0m         \u001b[1;32mif\u001b[0m \u001b[0mleft\u001b[0m\u001b[1;33m[\u001b[0m\u001b[0ml\u001b[0m\u001b[1;33m]\u001b[0m \u001b[1;33m<\u001b[0m \u001b[0mright\u001b[0m\u001b[1;33m[\u001b[0m\u001b[0mr\u001b[0m\u001b[1;33m]\u001b[0m\u001b[1;33m:\u001b[0m\u001b[1;33m\u001b[0m\u001b[1;33m\u001b[0m\u001b[0m\n\u001b[0;32m     13\u001b[0m             \u001b[0mtmp\u001b[0m\u001b[1;33m.\u001b[0m\u001b[0mappend\u001b[0m\u001b[1;33m(\u001b[0m\u001b[0mleft\u001b[0m\u001b[1;33m[\u001b[0m\u001b[0ml\u001b[0m\u001b[1;33m]\u001b[0m\u001b[1;33m)\u001b[0m\u001b[1;33m\u001b[0m\u001b[1;33m\u001b[0m\u001b[0m\n",
      "\u001b[1;31mUnboundLocalError\u001b[0m: local variable 'left' referenced before assignment"
     ]
    }
   ],
   "source": [
    "a =  [8,1,5,6,3,2,4,7]\n",
    "mergesort(a)"
   ]
  },
  {
   "cell_type": "markdown",
   "metadata": {},
   "source": [
    "我知道為什麼了！因為我後面的所有while跟if的判斷式都是建立在if len(nums) > 1:的情況下，所以要進行縮排！\n",
    "\n",
    "第一版程式碼：\n",
    "\n",
    "參考資料：https://www.geeksforgeeks.org/merge-sort/"
   ]
  },
  {
   "cell_type": "code",
   "execution_count": 5,
   "metadata": {},
   "outputs": [],
   "source": [
    "def mergesort(nums):\n",
    "    if len(nums) > 1:\n",
    "        left = nums[0:(len(nums)//2)]\n",
    "        right = nums[(len(nums)//2):len(nums)]\n",
    "        mergesort(left)\n",
    "        mergesort(right)\n",
    "    \n",
    "        l = 0\n",
    "        r = 0\n",
    "        k = 0\n",
    "        while l < len(left) and r < len(right):\n",
    "            if left[l] < right[r]:\n",
    "                nums[k] = left[l]\n",
    "                l = l + 1\n",
    "            else:\n",
    "                nums[k] = right[r]\n",
    "                r = r + 1\n",
    "            k = k + 1\n",
    "        while l < len(left):\n",
    "            nums[k] = left[l]\n",
    "            l = l + 1\n",
    "            k = k + 1\n",
    "        while r < len(right):\n",
    "            nums[k] = right[r]\n",
    "            r = r + 1 \n",
    "            k = k + 1\n",
    "        return nums"
   ]
  },
  {
   "cell_type": "code",
   "execution_count": 6,
   "metadata": {},
   "outputs": [
    {
     "data": {
      "text/plain": [
       "[1, 2, 3, 4, 5, 6, 7, 8]"
      ]
     },
     "execution_count": 6,
     "metadata": {},
     "output_type": "execute_result"
    }
   ],
   "source": [
    "a =  [8,1,5,6,3,2,4,7]\n",
    "mergesort(a)"
   ]
  },
  {
   "cell_type": "markdown",
   "metadata": {},
   "source": [
    "本來想全部靠自己的邏輯生出程式碼的，但後來實在卡到不行，所以參考了網路上先進行第一版的程式碼。\n",
    "\n",
    "步驟1：在長度>1的情況，持續地進行左右分堆\n",
    "\n",
    "步驟2：設定3個計數(l、r、k)分別記錄當前left、right、整體arr的index位置\n",
    "\n",
    "步驟3：當計數位置不超過整體長度的情況，左右堆進行比較，並依序放入arr(其實不算放入，應該算是從頭開始把正確的數字取代錯誤的數字)\n",
    "\n",
    "步驟4：第2個跟第3個while迴圈是指，當left、right其中一個已經排完，就把另一個剩下的數字直接丟進arr"
   ]
  },
  {
   "cell_type": "markdown",
   "metadata": {},
   "source": [
    "10/31晚上再進行一次邏輯上的釐清，目前對於原創程式碼的構思如下：\n",
    "\n",
    "1.def merge_sort(nums)，此函式會把輸入值拆成左右左右，直到長度=1(這邊就會重複呼叫自己)，然後再呼叫merge來進行合併\n",
    "\n",
    "2.def merge(left,right)，單純就是merge的流程"
   ]
  },
  {
   "cell_type": "code",
   "execution_count": 8,
   "metadata": {},
   "outputs": [],
   "source": [
    "def merge_sort(nums):\n",
    "    if len(nums) > 1:\n",
    "        left = nums[0:len(nums)//2]\n",
    "        right = nums[len(nums)//2:len(nums)]\n",
    "        merge_sort(left)\n",
    "        merge_sort(right)\n",
    "        SortedArray = merge(left,right)\n",
    "        return SortedArray\n",
    "\n",
    "def merge(left,right):\n",
    "    index_left = 0\n",
    "    index_right = 0\n",
    "    TmpArray = []\n",
    "    while index_left < len(left) and index_right < len(right):\n",
    "        if left[index_left] < right[index_right]:\n",
    "            TmpArray.append(left[index_left])\n",
    "            index_left = index_left + 1\n",
    "        else: #指的就是left[index_left] >= right[index_right]的情況\n",
    "            TmpArray.append(right[index_right])\n",
    "            index_right = index_right + 1\n",
    "    while index_left < len(left):\n",
    "        TmpArray.append(left[index_left])\n",
    "        index_left = index_left + 1\n",
    "    while index_right < len(right):\n",
    "        TmpArray.append(right[index_right])\n",
    "        index_right = index_right + 1\n",
    "    return TmpArray"
   ]
  },
  {
   "cell_type": "code",
   "execution_count": 9,
   "metadata": {},
   "outputs": [
    {
     "data": {
      "text/plain": [
       "[3, 2, 4, 7, 8, 1, 5, 6]"
      ]
     },
     "execution_count": 9,
     "metadata": {},
     "output_type": "execute_result"
    }
   ],
   "source": [
    "a =  [8,1,5,6,3,2,4,7]\n",
    "merge_sort(a)"
   ]
  },
  {
   "cell_type": "markdown",
   "metadata": {},
   "source": [
    "看起來應該是SortedArray = merge(left,right)這行出了問題"
   ]
  },
  {
   "cell_type": "code",
   "execution_count": 22,
   "metadata": {},
   "outputs": [],
   "source": [
    "def m(nums):\n",
    "    if len(nums) > 1:\n",
    "        left = nums[0:(len(nums)//2)]\n",
    "        right = nums[(len(nums)//2):len(nums)]\n",
    "        print(left,right)\n",
    "        m(left)\n",
    "        m(right)\n",
    "        return left,right"
   ]
  },
  {
   "cell_type": "code",
   "execution_count": 23,
   "metadata": {},
   "outputs": [
    {
     "name": "stdout",
     "output_type": "stream",
     "text": [
      "[8, 1, 5, 6] [3, 2, 4, 7]\n",
      "[8, 1] [5, 6]\n",
      "[8] [1]\n",
      "[5] [6]\n",
      "[3, 2] [4, 7]\n",
      "[3] [2]\n",
      "[4] [7]\n"
     ]
    },
    {
     "data": {
      "text/plain": [
       "([8, 1, 5, 6], [3, 2, 4, 7])"
      ]
     },
     "execution_count": 23,
     "metadata": {},
     "output_type": "execute_result"
    }
   ],
   "source": [
    "a =  [8,1,5,6,3,2,4,7]\n",
    "m(a)"
   ]
  },
  {
   "cell_type": "markdown",
   "metadata": {},
   "source": [
    "split的流程沒有問題，但是最後return left,right並沒有把每次split的結果都return"
   ]
  },
  {
   "cell_type": "code",
   "execution_count": 36,
   "metadata": {},
   "outputs": [],
   "source": [
    "def merge_sort(nums):\n",
    "    if len(nums) > 1:\n",
    "        left = nums[0:len(nums)//2]\n",
    "        right = nums[len(nums)//2:len(nums)]\n",
    "    \n",
    "        merge_sort(left)\n",
    "        merge_sort(right)\n",
    "        SortedArray = merge(nums,left,right)\n",
    "\n",
    "def merge(nums,left,right):\n",
    "    print(nums,left,right)"
   ]
  },
  {
   "cell_type": "code",
   "execution_count": 37,
   "metadata": {},
   "outputs": [
    {
     "name": "stdout",
     "output_type": "stream",
     "text": [
      "[8, 1] [8] [1]\n",
      "[5, 6] [5] [6]\n",
      "[8, 1, 5, 6] [8, 1] [5, 6]\n",
      "[3, 2] [3] [2]\n",
      "[4, 7] [4] [7]\n",
      "[3, 2, 4, 7] [3, 2] [4, 7]\n",
      "[8, 1, 5, 6, 3, 2, 4, 7] [8, 1, 5, 6] [3, 2, 4, 7]\n"
     ]
    }
   ],
   "source": [
    "merge_sort([8,1,5,6,3,2,4,7])"
   ]
  },
  {
   "cell_type": "markdown",
   "metadata": {},
   "source": [
    "我好像知道什麼了！要用nums來記錄每次的merge過程，因為nums會跟著left、right一起更動！"
   ]
  },
  {
   "cell_type": "code",
   "execution_count": 13,
   "metadata": {},
   "outputs": [],
   "source": [
    "def merge_sort(nums):\n",
    "    \n",
    "    left = nums[0:len(nums)//2]\n",
    "    right = nums[len(nums)//2:len(nums)]\n",
    "    \n",
    "    if len(left) > 1:\n",
    "        merge_sort(left)\n",
    "    \n",
    "    if len(right) > 1:\n",
    "        merge_sort(right)\n",
    "        \n",
    "    SortedArray = merge(nums,left,right)\n",
    "    return SortedArray\n",
    "\n",
    "def merge(nums,left,right):\n",
    "    \n",
    "    index_left = 0\n",
    "    index_right = 0\n",
    "    index_nums = 0\n",
    "    \n",
    "    while index_left < len(left) and index_right < len(right): \n",
    "        if left[index_left] < right[index_right]:\n",
    "            nums[index_nums] = left[index_left]\n",
    "            index_left = index_left + 1\n",
    "        elif left[index_left] > right[index_right]:\n",
    "            nums[index_nums] = right[index_right]\n",
    "            index_right = index_right + 1\n",
    "        elif left[index_left] == right[index_right]:\n",
    "            nums[index_nums] = left[index_left]\n",
    "            index_left = index_left + 1           \n",
    "        index_nums = index_nums + 1  \n",
    "    \n",
    "    while index_left < len(left) and index_right == len(right): \n",
    "        nums[index_nums] = left[index_left]\n",
    "        index_left = index_left + 1\n",
    "        index_nums = index_nums + 1\n",
    "   \n",
    "    while index_right < len(right) and index_left == len(left): \n",
    "        nums[index_nums] = right[index_right]\n",
    "        index_right = index_right + 1\n",
    "        index_nums = index_nums + 1\n",
    "    \n",
    "    return nums"
   ]
  },
  {
   "cell_type": "code",
   "execution_count": 14,
   "metadata": {},
   "outputs": [
    {
     "data": {
      "text/plain": [
       "[1, 2, 3, 4, 5, 6, 7, 8]"
      ]
     },
     "execution_count": 14,
     "metadata": {},
     "output_type": "execute_result"
    }
   ],
   "source": [
    "merge_sort([8,1,5,6,3,2,4,7])"
   ]
  },
  {
   "cell_type": "markdown",
   "metadata": {},
   "source": [
    "爽！邏輯一次通~為了保守起見，我再用一組測值試試看"
   ]
  },
  {
   "cell_type": "code",
   "execution_count": 15,
   "metadata": {},
   "outputs": [
    {
     "data": {
      "text/plain": [
       "[-1, 0, 1, 2, 3, 4, 5, 6, 7, 8, 11]"
      ]
     },
     "execution_count": 15,
     "metadata": {},
     "output_type": "execute_result"
    }
   ],
   "source": [
    "merge_sort([-1,11,0,8,1,5,6,3,2,4,7])"
   ]
  },
  {
   "cell_type": "markdown",
   "metadata": {},
   "source": [
    "11/3來建class~ 11/5新增更多的原創、註解"
   ]
  },
  {
   "cell_type": "code",
   "execution_count": 5,
   "metadata": {},
   "outputs": [],
   "source": [
    "class Solution(object):\n",
    "    \n",
    "    def merge_sort(self,nums): #merge_sort是給使用者呼叫的函式，會將輸入的nums進行split，之後再呼叫merge，最後再return排列好的nums\n",
    "        \n",
    "        self.nums = nums\n",
    "        \n",
    "        left = nums[0:len(nums)//2]\n",
    "        right = nums[len(nums)//2:len(nums)]\n",
    "    \n",
    "        if len(left) > 1:\n",
    "            Solution().merge_sort(left)\n",
    "    \n",
    "        if len(right) > 1:\n",
    "            Solution().merge_sort(right)\n",
    "        \n",
    "        SortedArray = Solution().merge(nums,left,right)\n",
    "        return SortedArray\n",
    "    \n",
    "    def merge(self,nums,left,right): #merge會接收split完的nums,left,right來進行合併動作，最後return排列好的nums，但使用者不會直接用到這函式\n",
    "    \n",
    "        index_left = 0\n",
    "        index_right = 0\n",
    "        index_nums = 0\n",
    "    \n",
    "        while index_left < len(left) and index_right < len(right): #當左右計數都小於本身長度，可以安心的進行比較\n",
    "            if left[index_left] < right[index_right]:\n",
    "                nums[index_nums] = left[index_left]\n",
    "                index_left = index_left + 1\n",
    "            elif left[index_left] > right[index_right]:\n",
    "                nums[index_nums] = right[index_right]\n",
    "                index_right = index_right + 1\n",
    "            elif left[index_left] == right[index_right]:\n",
    "                nums[index_nums] = left[index_left]\n",
    "                index_left = index_left + 1           \n",
    "            index_nums = index_nums + 1  \n",
    "    \n",
    "        if index_left < len(left) and index_right == len(right): #右計數超過本身長度，把left剩下的值依序塞入nums\n",
    "            for i in range(index_left,len(left)):\n",
    "                nums[index_nums] = left[index_left]\n",
    "                index_left = index_left + 1\n",
    "                index_nums = index_nums + 1\n",
    "        elif index_right < len(right) and index_left == len(left): #左計數超過本身長度，把right剩下的值依序塞入nums\n",
    "            for i in range(index_right,len(right)):\n",
    "                nums[index_nums] = right[index_right]\n",
    "                index_right = index_right + 1\n",
    "                index_nums = index_nums + 1\n",
    "\n",
    "#             while index_left < len(left) and index_right == len(right): \n",
    "#                 nums[index_nums] = left[index_left]\n",
    "#                 index_left = index_left + 1\n",
    "#                 index_nums = index_nums + 1\n",
    "#while迴圈是當statement true，會\"重複執行\"裡面的程式碼，可以用在\"不確定要執行幾次的時候\"\n",
    "#可是今天我很清楚，當left已經跑完，right剩下的值依序塞入nums要執行range(index_right,len(right))次\n",
    "#所以我可以把while改成if包for的判斷式，一樣能達到同樣的效果\n",
    "#邏輯通了寫起來94爽==\n",
    "\n",
    "#             while index_right < len(right) and index_left == len(left):\n",
    "#                 nums[index_nums] = right[index_right]\n",
    "#                 index_right = index_right + 1\n",
    "#                 index_nums = index_nums + 1\n",
    "\n",
    "        return nums"
   ]
  },
  {
   "cell_type": "code",
   "execution_count": 6,
   "metadata": {},
   "outputs": [
    {
     "data": {
      "text/plain": [
       "[-1, 1, 2, 3, 4, 5, 6, 7, 8, 9, 12]"
      ]
     },
     "execution_count": 6,
     "metadata": {},
     "output_type": "execute_result"
    }
   ],
   "source": [
    "a = [3,1,8,5,6,9,7,2,4,-1,12]\n",
    "Solution().merge_sort(a)"
   ]
  },
  {
   "cell_type": "code",
   "execution_count": 7,
   "metadata": {},
   "outputs": [
    {
     "data": {
      "text/plain": [
       "[-41, -33, -1, 1, 2, 3, 4, 5, 6, 7, 7, 8, 9, 12, 21]"
      ]
     },
     "execution_count": 7,
     "metadata": {},
     "output_type": "execute_result"
    }
   ],
   "source": [
    "b = [-33,7,21,-41,3,1,8,5,6,9,7,2,4,-1,12]\n",
    "Solution().merge_sort(b)"
   ]
  },
  {
   "cell_type": "markdown",
   "metadata": {},
   "source": [
    "ok~其實就跟上次建HeapSort的class差不多，呼叫class裡面的def函式的時候，要從Solution裡面呼叫merge_sort，語法稍微不一樣而已。有點類似這種概念：\n",
    "\n",
    "def 陳昱昇(student):\n",
    "    \n",
    "    return \"06170225\"\n",
    "\n",
    "呼叫方式：陳昱昇(student)\n",
    "\n",
    "class 巨資三B(object):\n",
    "\n",
    "    def 陳昱昇(student):\n",
    "    \n",
    "        return \"06170225\"\n",
    "        \n",
    "呼叫方式：巨資三B().陳昱昇(student)"
   ]
  },
  {
   "cell_type": "markdown",
   "metadata": {},
   "source": [
    "merge流程圖："
   ]
  },
  {
   "cell_type": "code",
   "execution_count": 1,
   "metadata": {},
   "outputs": [
    {
     "data": {
      "text/html": [
       "<img src=\"https://github.com/samuel871211/My-python-code/blob/master/week6/merge.jpg?raw=true\" width=\"1000\" height=\"1000\"/>"
      ],
      "text/plain": [
       "<IPython.core.display.Image object>"
      ]
     },
     "execution_count": 1,
     "metadata": {},
     "output_type": "execute_result"
    }
   ],
   "source": [
    "from IPython.display import Image\n",
    "from IPython.core.display import HTML\n",
    "Image(url= \"https://github.com/samuel871211/My-python-code/blob/master/week6/merge.jpg?raw=true\",width = 1000,height = 1000)"
   ]
  }
 ],
 "metadata": {
  "kernelspec": {
   "display_name": "Python 3",
   "language": "python",
   "name": "python3"
  },
  "language_info": {
   "codemirror_mode": {
    "name": "ipython",
    "version": 3
   },
   "file_extension": ".py",
   "mimetype": "text/x-python",
   "name": "python",
   "nbconvert_exporter": "python",
   "pygments_lexer": "ipython3",
   "version": "3.7.3"
  }
 },
 "nbformat": 4,
 "nbformat_minor": 2
}
