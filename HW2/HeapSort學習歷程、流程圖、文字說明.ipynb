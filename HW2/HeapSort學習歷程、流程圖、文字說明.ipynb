{
 "cells": [
  {
   "cell_type": "markdown",
   "metadata": {},
   "source": [
    "參考資料：\n",
    "\n",
    "https://www.youtube.com/watch?v=MtQL_ll5KhQ&t"
   ]
  },
  {
   "cell_type": "markdown",
   "metadata": {},
   "source": [
    "10/27先把邏輯搞清楚，再來開始想程式碼要怎麼鋪陳，先從流程圖開始做起，看看能看出什麼端倪。\n",
    "\n",
    "流程圖如下："
   ]
  },
  {
   "cell_type": "code",
   "execution_count": 3,
   "metadata": {},
   "outputs": [
    {
     "data": {
      "text/html": [
       "<img src=\"https://github.com/samuel871211/My-python-code/blob/master/week6/1.jpg?raw=true\" width=\"1000\" height=\"1000\"/>"
      ],
      "text/plain": [
       "<IPython.core.display.Image object>"
      ]
     },
     "execution_count": 3,
     "metadata": {},
     "output_type": "execute_result"
    }
   ],
   "source": [
    "from IPython.display import Image\n",
    "from IPython.core.display import HTML\n",
    "Image(url= \"https://github.com/samuel871211/My-python-code/blob/master/week6/1.jpg?raw=true\",width = 1000,height = 1000)"
   ]
  },
  {
   "cell_type": "markdown",
   "metadata": {},
   "source": [
    "我一開始是先從上面處理到下面，可是這樣還沒完，因為10>9，這樣不符合MaxHeap的規則，所以必須再從下面處理回上面\n",
    "\n",
    "到這邊，我不禁有個問題，如果先從下面處理到上面，是否就可以避免掉上述的問題了呢？\n",
    "\n",
    "於是我又畫了另一個流程圖："
   ]
  },
  {
   "cell_type": "code",
   "execution_count": 4,
   "metadata": {},
   "outputs": [
    {
     "data": {
      "text/html": [
       "<img src=\"https://github.com/samuel871211/My-python-code/blob/master/week6/2.jpg?raw=true\" width=\"1000\" height=\"1000\"/>"
      ],
      "text/plain": [
       "<IPython.core.display.Image object>"
      ]
     },
     "execution_count": 4,
     "metadata": {},
     "output_type": "execute_result"
    }
   ],
   "source": [
    "Image(url= \"https://github.com/samuel871211/My-python-code/blob/master/week6/2.jpg?raw=true\",width = 1000,height = 1000)"
   ]
  },
  {
   "cell_type": "markdown",
   "metadata": {},
   "source": [
    "到這邊我幾乎是可以確定一件事情，不管一開始是從下面處理到上面，還是從上面處理到下面，最後都還是要再反方向進行一次\n",
    "\n",
    "目前我有一個初步的想法，我先def一個函式，用來處理3數比較的過程，再def另一個主要的函式，創建MaxHeap跟一步一步抽取最大值然後再處理"
   ]
  },
  {
   "cell_type": "markdown",
   "metadata": {},
   "source": [
    "為了更加理解程式碼的邏輯，我決定先從老師的程式碼進行測試，一步步的去了解每個步驟\n",
    "\n",
    "參考資料：https://github.com/pecu/DSA/blob/master/06_HeapSort/heapSort.py"
   ]
  },
  {
   "cell_type": "code",
   "execution_count": 6,
   "metadata": {},
   "outputs": [],
   "source": [
    "def heapify(arr,n,i):\n",
    "    largest = i\n",
    "    left = 2 * i + 1\n",
    "    right = 2 * i + 2\n",
    "    if left < n and arr[i] < arr[left]:\n",
    "        largest = left\n",
    "    \n",
    "    if right < n and arr[largest] < arr[right]:\n",
    "        largest = right\n",
    "    \n",
    "    if largest != i:\n",
    "        arr[largest],arr[i] = arr[i],arr[largest]\n",
    "        \n",
    "        heapify(arr,n,largest)\n",
    "def heapsort(arr):\n",
    "    n = len(arr)\n",
    "    for i in range(len(arr),-1,-1):\n",
    "        heapify(arr,n,i)\n",
    "    for i in range(n-1,0,-1):\n",
    "        arr[i],arr[0] = arr[0],arr[i]\n",
    "        heapify(arr,i,0)"
   ]
  },
  {
   "cell_type": "code",
   "execution_count": 7,
   "metadata": {},
   "outputs": [
    {
     "name": "stdout",
     "output_type": "stream",
     "text": [
      "[1, 2, 3, 8, 9, 10, 12]\n"
     ]
    }
   ],
   "source": [
    "a = [1,9,8,10,3,2,12]\n",
    "heapsort(a)\n",
    "print(a)"
   ]
  },
  {
   "cell_type": "markdown",
   "metadata": {},
   "source": [
    "如果把最後一段for迴圈拿掉，是否還能正常執行呢？"
   ]
  },
  {
   "cell_type": "code",
   "execution_count": 12,
   "metadata": {},
   "outputs": [],
   "source": [
    "def heapify(arr,n,i):\n",
    "    largest = i\n",
    "    left = 2 * i + 1\n",
    "    right = 2 * i + 2\n",
    "    if left < n and arr[i] < arr[left]:\n",
    "        largest = left\n",
    "    \n",
    "    if right < n and arr[largest] < arr[right]:\n",
    "        largest = right\n",
    "    \n",
    "    if largest != i:\n",
    "        arr[largest],arr[i] = arr[i],arr[largest]\n",
    "        \n",
    "        heapify(arr,n,largest)\n",
    "def heapsort(arr):\n",
    "    n = len(arr)\n",
    "    for i in range(len(arr),-1,-1):\n",
    "        heapify(arr,n,i)"
   ]
  },
  {
   "cell_type": "code",
   "execution_count": 13,
   "metadata": {},
   "outputs": [
    {
     "name": "stdout",
     "output_type": "stream",
     "text": [
      "[12, 10, 8, 9, 3, 2, 1]\n"
     ]
    }
   ],
   "source": [
    "b = [1,9,8,10,3,2,12]\n",
    "heapsort(b)\n",
    "print(b)"
   ]
  },
  {
   "cell_type": "markdown",
   "metadata": {},
   "source": [
    "執行到這邊就是單純的MaxHeap！為了謹慎，我再用一組測值試試看"
   ]
  },
  {
   "cell_type": "code",
   "execution_count": 15,
   "metadata": {},
   "outputs": [
    {
     "name": "stdout",
     "output_type": "stream",
     "text": [
      "[15, 13, 12, 11, 9, 4, 8, 10, 6, 5, 3, 1, 2, 1, 8]\n"
     ]
    }
   ],
   "source": [
    "c = [1,9,8,10,3,2,12,11,6,5,13,1,4,8,15]\n",
    "heapsort(c)\n",
    "print(c)"
   ]
  },
  {
   "cell_type": "markdown",
   "metadata": {},
   "source": [
    "這個也是MaxHeap！那麼如果我有辦法用流程圖推導MaxHeap的創建過程，最難的部份我就學會了！"
   ]
  },
  {
   "cell_type": "markdown",
   "metadata": {},
   "source": [
    "為了更理解程式碼每次執行時，每次變數的變化，我稍微修改一下程式碼，把重點的值print出來"
   ]
  },
  {
   "cell_type": "code",
   "execution_count": 1,
   "metadata": {},
   "outputs": [],
   "source": [
    "def heapify(arr,n,i):\n",
    "    largest = i\n",
    "    print(largest) #追蹤每次的largest變化\n",
    "    left = 2 * i + 1\n",
    "    right = 2 * i + 2\n",
    "    if left < n and arr[i] < arr[left]:\n",
    "        largest = left\n",
    "    \n",
    "    if right < n and arr[largest] < arr[right]:\n",
    "        largest = right\n",
    "    \n",
    "    if largest != i:\n",
    "        arr[largest],arr[i] = arr[i],arr[largest]\n",
    "        print(arr) #追蹤每次的arr變化\n",
    "        \n",
    "        heapify(arr,n,largest)\n",
    "def heapsort(arr):\n",
    "    n = len(arr)\n",
    "    for i in range(n,-1,-1):\n",
    "        heapify(arr,n,i)"
   ]
  },
  {
   "cell_type": "code",
   "execution_count": 2,
   "metadata": {},
   "outputs": [
    {
     "name": "stdout",
     "output_type": "stream",
     "text": [
      "7\n",
      "6\n",
      "5\n",
      "4\n",
      "3\n",
      "2\n",
      "[1, 9, 12, 10, 3, 2, 8]\n",
      "6\n",
      "1\n",
      "[1, 10, 12, 9, 3, 2, 8]\n",
      "3\n",
      "0\n",
      "[12, 10, 1, 9, 3, 2, 8]\n",
      "2\n",
      "[12, 10, 8, 9, 3, 2, 1]\n",
      "6\n"
     ]
    }
   ],
   "source": [
    "d = [1,9,8,10,3,2,12]\n",
    "heapsort(d)"
   ]
  },
  {
   "cell_type": "markdown",
   "metadata": {},
   "source": [
    "我大概花了半小時才理解這到底是怎麼運作的\n",
    "\n",
    "由於heapsort裡面的for迴圈是從for i in range(n,-1,-1)，等於i是從76543210，heapify會從index=7的位置開始指定為largest\n",
    "\n",
    "但是這邊我就覺得奇怪了，明明只要針對有子節點的節點來進行heapify，為何i要從7開始呢？\n",
    "\n",
    "明明是從i=2的時候才開始有output array，那麼為何在設定i變數的時候不直接從210就好了呢？\n",
    "\n",
    "我如果用for i in range((n//2)-1,-1,-1)，等於i是從210，這樣不是更好嗎？\n",
    "\n",
    "沒關係，我先把MaxHeap的流程圖畫下來，之後再來修改成我自己的程式碼\n",
    "\n",
    "BuildMaxHeap的流程圖如下："
   ]
  },
  {
   "cell_type": "code",
   "execution_count": 4,
   "metadata": {},
   "outputs": [
    {
     "data": {
      "text/html": [
       "<img src=\"https://github.com/samuel871211/My-python-code/blob/master/week6/3.jpg?raw=true\" width=\"1000\" height=\"1000\"/>"
      ],
      "text/plain": [
       "<IPython.core.display.Image object>"
      ]
     },
     "execution_count": 4,
     "metadata": {},
     "output_type": "execute_result"
    }
   ],
   "source": [
    "from IPython.display import Image\n",
    "from IPython.core.display import HTML\n",
    "Image(url= \"https://github.com/samuel871211/My-python-code/blob/master/week6/3.jpg?raw=true\",width = 1000,height = 1000)"
   ]
  },
  {
   "cell_type": "markdown",
   "metadata": {},
   "source": [
    "MaxHeap建立完成之後，接下來就是將頭節點跟尾節點交換位置，假裝尾節點不見，從index=0的位置heapify，重複地進行此步驟，就能把arr排列完成了\n",
    "\n",
    "我第一個遇到的問題是：要如何\"假裝尾節點不見\"？經過一番理解程式碼後，我終於恍然大悟！如果arr長度是7，我只要排列index0~5的部分就好了啊！"
   ]
  },
  {
   "cell_type": "markdown",
   "metadata": {},
   "source": [
    "10/28更新MaxHeap跟後續Swap、Heapify的流程圖："
   ]
  },
  {
   "cell_type": "code",
   "execution_count": 4,
   "metadata": {},
   "outputs": [
    {
     "data": {
      "text/html": [
       "<img src=\"https://github.com/samuel871211/My-python-code/blob/master/week6/heapsort.jpg?raw=true\" width=\"1000\" height=\"1000\"/>"
      ],
      "text/plain": [
       "<IPython.core.display.Image object>"
      ]
     },
     "execution_count": 4,
     "metadata": {},
     "output_type": "execute_result"
    }
   ],
   "source": [
    "from IPython.display import Image\n",
    "from IPython.core.display import HTML\n",
    "Image(url= \"https://github.com/samuel871211/My-python-code/blob/master/week6/heapsort.jpg?raw=true\",width = 1000,height = 1000)"
   ]
  },
  {
   "cell_type": "markdown",
   "metadata": {},
   "source": [
    "HeapSort的整體流程：\n",
    "\n",
    "1.BuildMaxHeap(創建最大堆)，這個也是最麻煩的步驟！必須要從下而上的進行heapify，並且每次跟largest交換之後，還得再去查看subtree是否符合MaxHeap的規則\n",
    "\n",
    "2.Swap+Heapify，swap就是把頭節點的值跟尾節點的值交換，此時尾節點的值就已經在正確的位置了，而頭節點的值很明顯是在錯誤的位置，所以就對index=0的位置進行heapify，以我的流程圖為例，虛線部分代表已經排列好的，所以只要將實線部分heapify就好~"
   ]
  },
  {
   "cell_type": "markdown",
   "metadata": {},
   "source": [
    "10/28更新學習歷程，跟B班李育綺一起討論HeapSort的錄影~\n",
    "\n",
    "https://youtu.be/mgOjQeUyAHE (Swap+Heapify Flow Chart)\n",
    "\n",
    "https://youtu.be/Jp0bRDUnKtE (Build_Max_Heap Flow Chart)\n",
    "\n",
    "https://youtu.be/9PTVGVC1_a0 (Why we can't build max heap in ascending order(2))\n",
    "\n",
    "https://youtu.be/RBacYN7kX1g (Why we can't build max heap in ascending order(1))\n",
    "\n",
    "https://youtu.be/5SYHPoRlQXQ (Swap+Heapify(2))\n",
    "\n",
    "https://youtu.be/9V9b0tymQp8 (Build_Max_Heap(2) Swap+Heapify(1))\n",
    "\n",
    "https://youtu.be/1lYpWZQ68LU (Build_Max_Heap(1))"
   ]
  },
  {
   "cell_type": "markdown",
   "metadata": {},
   "source": [
    "嘗試用自己的邏輯來寫程式碼~"
   ]
  },
  {
   "cell_type": "code",
   "execution_count": 21,
   "metadata": {},
   "outputs": [],
   "source": [
    "def Heap_Sort(arr):\n",
    "    \n",
    "    n = len(arr)\n",
    "    \n",
    "    for i in range((n//2)-1,-1,-1):\n",
    "        Heapify(arr,n,i)\n",
    "    \n",
    "    for i in range(n-1,0,-1):\n",
    "        arr[0],arr[i]=arr[i],arr[0]\n",
    "        Heapify(arr,i,0)\n",
    "    return(arr)\n",
    "\n",
    "def Heapify(arr,n,i):\n",
    "    \n",
    "    largest = i\n",
    "    left = 2 * i + 1\n",
    "    right = 2 * i + 2\n",
    "    \n",
    "    if left < n and arr[largest] < arr[left]:\n",
    "        largest = left\n",
    "    \n",
    "    if right < n and arr[largest] < arr[right]:\n",
    "        largest = right\n",
    "    \n",
    "    if largest != i:\n",
    "        arr[largest],arr[i] = arr[i],arr[largest]\n",
    "        Heapify(arr,n,largest)"
   ]
  },
  {
   "cell_type": "code",
   "execution_count": 22,
   "metadata": {},
   "outputs": [
    {
     "data": {
      "text/plain": [
       "[1, 2, 3, 4, 5, 6, 7, 8, 9, 10]"
      ]
     },
     "execution_count": 22,
     "metadata": {},
     "output_type": "execute_result"
    }
   ],
   "source": [
    "f = [1,9,8,3,7,6,4,2,5,10]\n",
    "Heap_Sort(f)"
   ]
  },
  {
   "cell_type": "markdown",
   "metadata": {},
   "source": [
    "10/28晚上自行重打一次程式碼，成功！其實邏輯部分不難，我都只是錯一些小部分而已，就像考卷寫完沒有檢查一樣...\n",
    "\n",
    "不過這版的程式碼跟老師的實在太相似了！所以我決定再進行重寫。\n",
    "\n",
    "第二版程式碼："
   ]
  },
  {
   "cell_type": "code",
   "execution_count": 23,
   "metadata": {},
   "outputs": [],
   "source": [
    "def HeapSort(arr):\n",
    "    SortedArray = SwapAndSiftDown(arr)\n",
    "    return SortedArray\n",
    "    \n",
    "def BuildMaxHeap(arr):\n",
    "    \n",
    "    n = len(arr)\n",
    "    \n",
    "    for i in range((n//2)-1,-1,-1):\n",
    "        Heapify(arr,n,i)\n",
    "    return arr\n",
    "        \n",
    "def SwapAndSiftDown(arr):\n",
    "    \n",
    "    MaxHeapArray = BuildMaxHeap(arr)\n",
    "    n = len(MaxHeapArray)\n",
    "    \n",
    "    for i in range(n-1,0,-1):\n",
    "        arr[0],arr[i]=arr[i],arr[0]\n",
    "        Heapify(MaxHeapArray,i,0)\n",
    "    return arr\n",
    "    \n",
    "def Heapify(arr,n,i):\n",
    "    largest = i\n",
    "    left = 2 * i + 1\n",
    "    right = 2 * i + 2\n",
    "    \n",
    "    if left < n and arr[largest] < arr[left]:\n",
    "        largest = left\n",
    "    \n",
    "    if right < n and arr[largest] < arr[right]:\n",
    "        largest = right\n",
    "    \n",
    "    if largest != i:\n",
    "        arr[largest],arr[i] = arr[i],arr[largest]\n",
    "        Heapify(arr,n,largest)"
   ]
  },
  {
   "cell_type": "code",
   "execution_count": 24,
   "metadata": {},
   "outputs": [
    {
     "data": {
      "text/plain": [
       "[1, 2, 3, 4, 5, 6, 7, 8, 9, 10]"
      ]
     },
     "execution_count": 24,
     "metadata": {},
     "output_type": "execute_result"
    }
   ],
   "source": [
    "c = [1,9,8,3,7,6,4,2,5,10]\n",
    "HeapSort(c)"
   ]
  },
  {
   "cell_type": "code",
   "execution_count": 25,
   "metadata": {},
   "outputs": [
    {
     "data": {
      "text/plain": [
       "[10, 9, 8, 5, 7, 6, 4, 2, 3, 1]"
      ]
     },
     "execution_count": 25,
     "metadata": {},
     "output_type": "execute_result"
    }
   ],
   "source": [
    "d = [1,9,8,3,7,6,4,2,5,10]\n",
    "BuildMaxHeap(d)"
   ]
  },
  {
   "cell_type": "code",
   "execution_count": 26,
   "metadata": {},
   "outputs": [
    {
     "data": {
      "text/plain": [
       "[0, 2, 3, 4, 4, 5, 7, 7, 8, 9, 10]"
      ]
     },
     "execution_count": 26,
     "metadata": {},
     "output_type": "execute_result"
    }
   ],
   "source": [
    "e = [10,3,5,7,4,2,4,7,8,9,0]\n",
    "SwapAndSiftDown(e)"
   ]
  },
  {
   "cell_type": "markdown",
   "metadata": {},
   "source": [
    "舒爽==邏輯通了之後，寫程式根本不是困難的事情，再來就加上一些註解吧！"
   ]
  },
  {
   "cell_type": "code",
   "execution_count": 27,
   "metadata": {},
   "outputs": [],
   "source": [
    "def HeapSort(arr): \n",
    "    SortedArray = SwapAndSiftDown(arr)\n",
    "    return SortedArray\n",
    "#HeapSort為控制底下函數的大魔王，輸入list進去後，它會呼叫底下的函式幫它進行排序，最後return答案給使用者\n",
    "    \n",
    "def BuildMaxHeap(arr):\n",
    "    \n",
    "    n = len(arr)\n",
    "    \n",
    "    for i in range((n//2)-1,-1,-1):\n",
    "        Heapify(arr,n,i)\n",
    "    return arr\n",
    "#BuildMaxHeap就是把未排序的array創建成最大堆\n",
    "        \n",
    "def SwapAndSiftDown(arr):\n",
    "    \n",
    "    MaxHeapArray = BuildMaxHeap(arr)\n",
    "    n = len(MaxHeapArray)\n",
    "    \n",
    "    for i in range(n-1,0,-1):\n",
    "        arr[0],arr[i]=arr[i],arr[0]\n",
    "        Heapify(MaxHeapArray,i,0)\n",
    "    return arr\n",
    "#SwapAndSiftDown會先呼叫BuildMaxHeap，並且再用最大堆來進行Swap跟SiftDown\n",
    "    \n",
    "def Heapify(arr,n,i):\n",
    "    largest = i\n",
    "    left = 2 * i + 1\n",
    "    right = 2 * i + 2\n",
    "    \n",
    "    if left < n and arr[largest] < arr[left]:\n",
    "        largest = left\n",
    "    \n",
    "    if right < n and arr[largest] < arr[right]:\n",
    "        largest = right\n",
    "    \n",
    "    if largest != i:\n",
    "        arr[largest],arr[i] = arr[i],arr[largest]\n",
    "        Heapify(arr,n,largest)\n",
    "#主要的排序程序邏輯判斷"
   ]
  },
  {
   "cell_type": "markdown",
   "metadata": {},
   "source": [
    "很難用文字來解釋==我直接放各個函式之間的關係圖比較快"
   ]
  },
  {
   "cell_type": "code",
   "execution_count": 28,
   "metadata": {},
   "outputs": [
    {
     "data": {
      "text/html": [
       "<img src=\"https://github.com/samuel871211/My-python-code/blob/master/week6/%E9%97%9C%E4%BF%82%E5%9C%96.jpg?raw=true\" width=\"1000\" height=\"1000\"/>"
      ],
      "text/plain": [
       "<IPython.core.display.Image object>"
      ]
     },
     "execution_count": 28,
     "metadata": {},
     "output_type": "execute_result"
    }
   ],
   "source": [
    "Image(url= \"https://github.com/samuel871211/My-python-code/blob/master/week6/%E9%97%9C%E4%BF%82%E5%9C%96.jpg?raw=true\",width = 1000,height = 1000)"
   ]
  },
  {
   "cell_type": "markdown",
   "metadata": {},
   "source": [
    "10/29依照助教給予的格式，將程式碼進行微調"
   ]
  },
  {
   "cell_type": "code",
   "execution_count": 27,
   "metadata": {},
   "outputs": [],
   "source": [
    "class Solution(object):\n",
    "    def heap_sort(self,nums): \n",
    "        self.nums = nums\n",
    "        SortedArray = Solution().SwapAndSiftDown(nums)\n",
    "        return SortedArray\n",
    "    #HeapSort為控制底下函數的大魔王，輸入list進去後，它會呼叫底下的函式幫它進行排序，最後return答案給使用者\n",
    "    \n",
    "    def BuildMaxHeap(self,nums):\n",
    "    \n",
    "        n = len(nums)\n",
    "    \n",
    "        for i in range((n//2)-1,-1,-1):\n",
    "            Solution().Heapify(nums,n,i)\n",
    "        return nums\n",
    "    #BuildMaxHeap就是把未排序的array創建成最大堆\n",
    "        \n",
    "    def SwapAndSiftDown(self,nums):\n",
    "    \n",
    "        MaxHeapArray = Solution().BuildMaxHeap(nums)\n",
    "    \n",
    "        n = len(MaxHeapArray)\n",
    "    \n",
    "        for i in range(n-1,0,-1):\n",
    "            nums[0],nums[i]=nums[i],nums[0]\n",
    "            Solution().Heapify(MaxHeapArray,i,0)\n",
    "        return nums\n",
    "    #SwapAndSiftDown會先呼叫BuildMaxHeap，並且再用最大堆來進行Swap跟SiftDown\n",
    "    \n",
    "    def Heapify(self,nums,n,i):\n",
    "        largest = i\n",
    "        left = 2 * i + 1\n",
    "        right = 2 * i + 2\n",
    "    \n",
    "        if left < n and nums[largest] < nums[left]:\n",
    "            largest = left\n",
    "    \n",
    "        if right < n and nums[largest] < nums[right]:\n",
    "            largest = right\n",
    "    \n",
    "        if largest != i:\n",
    "            nums[largest],nums[i] = nums[i],nums[largest]\n",
    "            Solution().Heapify(nums,n,largest)\n",
    "    #主要的排序程序邏輯判斷"
   ]
  },
  {
   "cell_type": "markdown",
   "metadata": {},
   "source": [
    "建class又稍微再複雜一點點，不過邏輯不難懂！在函式呼叫的部分也要再做小修正即可\n",
    "\n",
    "原本沒有建class的情況，我可以直接呼叫Heapify、SwapAndSiftDown、BuildMaxHeap、heap_sort\n",
    "\n",
    "但是今天上述4個函式都是建立在class Solution底下，所以我變成要呼叫\"class Solution底下的Heapify\"、\"class Solution底下的SwapAndSiftDown\"\n",
    "\n",
    "所以語法會從\"SwapAndSiftDown(arr)\"變成\"Solution().SwapAndSiftDown(arr)\""
   ]
  },
  {
   "cell_type": "code",
   "execution_count": 28,
   "metadata": {},
   "outputs": [
    {
     "data": {
      "text/plain": [
       "[-1, 0, 1, 1, 2, 3, 4, 5, 6, 7, 8, 9]"
      ]
     },
     "execution_count": 28,
     "metadata": {},
     "output_type": "execute_result"
    }
   ],
   "source": [
    "a=[9,1,2,5,4,8,6,3,1,7,-1,0]\n",
    "Solution().heap_sort(a)"
   ]
  },
  {
   "cell_type": "markdown",
   "metadata": {},
   "source": [
    "沒問題，輸出結果排列正確"
   ]
  },
  {
   "cell_type": "code",
   "execution_count": 29,
   "metadata": {},
   "outputs": [
    {
     "data": {
      "text/plain": [
       "[9, 7, 8, 5, 4, 2, 6, 3, 1, -1, 1]"
      ]
     },
     "execution_count": 29,
     "metadata": {},
     "output_type": "execute_result"
    }
   ],
   "source": [
    "b=[9,1,2,5,4,8,6,3,1,-1,7]\n",
    "Solution().BuildMaxHeap(b)"
   ]
  },
  {
   "cell_type": "markdown",
   "metadata": {},
   "source": [
    "沒問題，輸出結果是最大堆"
   ]
  },
  {
   "cell_type": "code",
   "execution_count": 30,
   "metadata": {},
   "outputs": [
    {
     "data": {
      "text/plain": [
       "[1, 1, 2, 3, 4, 5, 6, 7, 8, 9]"
      ]
     },
     "execution_count": 30,
     "metadata": {},
     "output_type": "execute_result"
    }
   ],
   "source": [
    "c=[9,1,2,5,4,8,6,3,1,7]\n",
    "Solution().SwapAndSiftDown(c)"
   ]
  },
  {
   "cell_type": "markdown",
   "metadata": {},
   "source": [
    "沒問題，輸出結果排列正確"
   ]
  }
 ],
 "metadata": {
  "kernelspec": {
   "display_name": "Python 3",
   "language": "python",
   "name": "python3"
  },
  "language_info": {
   "codemirror_mode": {
    "name": "ipython",
    "version": 3
   },
   "file_extension": ".py",
   "mimetype": "text/x-python",
   "name": "python",
   "nbconvert_exporter": "python",
   "pygments_lexer": "ipython3",
   "version": "3.7.3"
  }
 },
 "nbformat": 4,
 "nbformat_minor": 2
}
