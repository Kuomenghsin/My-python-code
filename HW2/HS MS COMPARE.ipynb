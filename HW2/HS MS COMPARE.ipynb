{
 "cells": [
  {
   "cell_type": "code",
   "execution_count": 1,
   "metadata": {},
   "outputs": [
    {
     "data": {
      "text/html": [
       "<img src=\"https://github.com/samuel871211/My-python-code/blob/master/week6/COMPARE.jpg?raw=true\" width=\"1000\" height=\"1000\"/>"
      ],
      "text/plain": [
       "<IPython.core.display.Image object>"
      ]
     },
     "execution_count": 1,
     "metadata": {},
     "output_type": "execute_result"
    }
   ],
   "source": [
    "from IPython.display import Image\n",
    "from IPython.core.display import HTML\n",
    "Image(url= \"https://github.com/samuel871211/My-python-code/blob/master/week6/COMPARE.jpg?raw=true\",width = 1000,height = 1000)"
   ]
  },
  {
   "cell_type": "markdown",
   "metadata": {},
   "source": [
    "對於寫HeapSort的感想：\n",
    "\n",
    "當初在看程式碼跟網路上的邏輯講解時，完全搞不懂BuildMaxHeap、Heapify等等函式的概念是什麼\n",
    "\n",
    "後來是先一步步的拆解程式碼的每一小段是在進行什麼步驟，並且把重要的變數print出來，才茅塞頓開\n",
    "\n",
    "要先進行BuildMaxHeap，之後再進行Swap跟SiftDown，所以後來我在寫def的時候就依照步驟分開來寫\n",
    "\n",
    "中間就是學到蠻多東西的，包含各函式間是怎麼呼叫的，還有對於整體程式碼架構(每個def的工作)的建構\n",
    "\n",
    "當在寫有數個def的大架構程式碼的時候，不是一行一行寫的，而是要先把各個def的功能先定義出來\n",
    "\n",
    "之後再來進行微調，各函式之間的相互關係也要在腦袋裡有清楚的邏輯概念，不然真的會很辛苦\n",
    "\n",
    "對於寫MergeSort的感想：\n",
    "\n",
    "這個我覺得比HeapSort稍微簡單一點，也許是因為之前有QuickSort的經驗，所以在split部分沒什麼卡關\n",
    "\n",
    "就是用recursive的方式來進行分堆，但是沒有pivot，也不用去比較大小，所以更加的簡單\n",
    "\n",
    "Merge的部分稍難，因為我是分兩個def來寫，我不知道left、right比較過後要放在哪裡\n",
    "\n",
    "一開始我是額外設一個空list，但後來發現這樣似乎是不可行，於是又再度釐清nums、left、right的關係\n",
    "\n",
    "才發現說要用每次的nums來記錄left、right比較過後的排序，但是對於例外情況的掌控不是很好\n",
    "\n",
    "所以一開始merge部分有先參考網路上程式碼，11/4還是11/5，因為在教別人MergeSort的時候\n",
    "\n",
    "我自己又學到了更多的邏輯概念，所以當晚就將程式碼再進行原創性的修改，果不其然，完全沒有error！\n",
    "\n",
    "蠻享受整個寫程式的感覺，雖然平均都要花上3-5天，總共數十小時的奮鬥，可是邏輯通了的瞬間就是特別爽\n",
    "\n",
    "剛開學的時候連codesignal都不會寫，當時真的是蠻絕望的，現在\"大概\"有步入軌道，也不會有那麼多的負面情緒\n",
    "\n",
    "看到error也不會覺得很惱怒了，就是平常心面對，自學的建立真的是蠻辛苦的，就像剛開始健身一樣\n",
    "\n",
    "練一天就要休三天，因為肌肉常常會痠痛。但過了一兩個月，熟悉之後，就會變成生活的一部分了！"
   ]
  }
 ],
 "metadata": {
  "kernelspec": {
   "display_name": "Python 3",
   "language": "python",
   "name": "python3"
  },
  "language_info": {
   "codemirror_mode": {
    "name": "ipython",
    "version": 3
   },
   "file_extension": ".py",
   "mimetype": "text/x-python",
   "name": "python",
   "nbconvert_exporter": "python",
   "pygments_lexer": "ipython3",
   "version": "3.7.3"
  }
 },
 "nbformat": 4,
 "nbformat_minor": 2
}
