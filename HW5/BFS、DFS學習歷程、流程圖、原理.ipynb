{
 "cells": [
  {
   "cell_type": "markdown",
   "metadata": {},
   "source": [
    "參考資料：\n",
    "\n",
    "https://www.programiz.com/dsa/graph-bfs\n",
    "\n",
    "https://www.javatpoint.com/breadth-first-search-algorithm\n",
    "\n",
    "http://alrightchiu.github.io/SecondRound/graph-breadth-first-searchbfsguang-du-you-xian-sou-xun.html\n",
    "\n",
    "https://www.javatpoint.com/breadth-first-search-algorithm\n",
    "\n",
    "https://www.accelebrate.com/blog/using-defaultdict-python\n",
    "\n",
    "https://ithelp.ithome.com.tw/articles/10193094\n",
    "\n",
    "http://szteven3.logdown.com/posts/205697-algorithm-notes-time-complexity"
   ]
  },
  {
   "cell_type": "markdown",
   "metadata": {},
   "source": [
    "12/7先來複習stack、queue，練習LeetCode 232 225 155"
   ]
  },
  {
   "cell_type": "code",
   "execution_count": null,
   "metadata": {},
   "outputs": [],
   "source": [
    "#232. Implement Queue using Stacks\n",
    "\n",
    "class MyQueue:\n",
    "\n",
    "    def __init__(self):\n",
    "        \"\"\"\n",
    "        Initialize your data structure here.\n",
    "        \"\"\"\n",
    "        self.data = []\n",
    "        self.temp = []\n",
    "\n",
    "    def push(self, x: int) -> None:\n",
    "        \"\"\"\n",
    "        Push element x to the back of queue.\n",
    "        \"\"\"\n",
    "        self.data.append(x)\n",
    "\n",
    "    def pop(self) -> int:\n",
    "        \"\"\"\n",
    "        Removes the element from in front of queue and returns that element.\n",
    "        \"\"\"\n",
    "        if len(self.data) != 0:\n",
    "            for i in range(len(self.data)-1):\n",
    "                self.temp.append(self.data[-1])\n",
    "                self.data = self.data[:len(self.data)-1]\n",
    "            cur = self.data[-1]\n",
    "            self.data = []\n",
    "            a = len(self.temp)\n",
    "            for i in range(a):\n",
    "                self.data.append(self.temp[-1])\n",
    "                self.temp = self.temp[:len(self.temp)-1]\n",
    "            return cur\n",
    "\n",
    "    def peek(self) -> int:\n",
    "        \"\"\"\n",
    "        Get the front element.\n",
    "        \"\"\"\n",
    "        if self.data != 0:\n",
    "            for i in range(len(self.data)-1):\n",
    "                self.temp.append(self.data[-1])\n",
    "                self.data = self.data[:len(self.data)-1]\n",
    "            cur = self.data[-1]\n",
    "            a = len(self.temp)\n",
    "            for i in range(a):\n",
    "                self.data.append(self.temp[-1])\n",
    "                self.temp = self.temp[:len(self.temp)-1]\n",
    "            return cur\n",
    "\n",
    "    def empty(self) -> bool:\n",
    "        \"\"\"\n",
    "        Returns whether the queue is empty.\n",
    "        \"\"\"\n",
    "        if len(self.data) == 0:\n",
    "            return True\n",
    "        return False\n",
    "\n",
    "# Your MyQueue object will be instantiated and called as such:\n",
    "# obj = MyQueue()\n",
    "# obj.push(x)\n",
    "# param_2 = obj.pop()\n",
    "# param_3 = obj.peek()\n",
    "# param_4 = obj.empty()\n",
    "\n",
    "#225. Implement Stack using Queues\n",
    "\n",
    "class MyStack:\n",
    "\n",
    "    def __init__(self):\n",
    "        \"\"\"\n",
    "        Initialize your data structure here.\n",
    "        \"\"\"\n",
    "        self.data = []\n",
    "        self.temp = []\n",
    "\n",
    "    def push(self, x: int) -> None:\n",
    "        \"\"\"\n",
    "        Push element x onto stack.\n",
    "        \"\"\"\n",
    "        self.data.append(x)\n",
    "\n",
    "    def pop(self) -> int:\n",
    "        \"\"\"\n",
    "        Removes the element on top of the stack and returns that element.\n",
    "        \"\"\"\n",
    "        a = len(self.data)\n",
    "        if a != 0:\n",
    "            for i in range(a-1):\n",
    "                self.temp.append(self.data[0])\n",
    "                self.data = self.data[1:]\n",
    "            cur = self.data[0]\n",
    "            self.data = []\n",
    "            for i in range(a-1):\n",
    "                self.data.append(self.temp[0])\n",
    "                self.temp = self.temp[1:]\n",
    "            return cur    \n",
    "\n",
    "    def top(self) -> int:\n",
    "        \"\"\"\n",
    "        Get the top element.\n",
    "        \"\"\"\n",
    "        a = len(self.data)\n",
    "        if a != 0:\n",
    "            for i in range(a-1):\n",
    "                self.temp.append(self.data[0])\n",
    "                self.data = self.data[1:]\n",
    "            cur = self.data[0]\n",
    "            self.temp.append(self.data[0])\n",
    "            self.data = []\n",
    "            for i in range(a):\n",
    "                self.data.append(self.temp[0])\n",
    "                self.temp = self.temp[1:]\n",
    "            return cur \n",
    "\n",
    "    def empty(self) -> bool:\n",
    "        \"\"\"\n",
    "        Returns whether the stack is empty.\n",
    "        \"\"\"\n",
    "        if len(self.data) == 0:\n",
    "            return True\n",
    "        return False   \n",
    "\n",
    "# Your MyStack object will be instantiated and called as such:\n",
    "# obj = MyStack()\n",
    "# obj.push(x)\n",
    "# param_2 = obj.pop()\n",
    "# param_3 = obj.top()\n",
    "# param_4 = obj.empty()\n",
    "\n",
    "#155. Min Stack\n",
    "\n",
    "class MinStack:\n",
    "\n",
    "    def __init__(self):\n",
    "        \"\"\"\n",
    "        initialize your data structure here.\n",
    "        \"\"\"\n",
    "        self.data = []\n",
    "\n",
    "    def push(self, x: int) -> None:\n",
    "        self.data.append(x)\n",
    "\n",
    "    def pop(self) -> None:\n",
    "        if len(self.data) != 0:\n",
    "            self.data = self.data[:len(self.data)-1]\n",
    "\n",
    "    def top(self) -> int:\n",
    "        if len(self.data) != 0:\n",
    "            return self.data[-1]\n",
    "        \n",
    "    def getMin(self) -> int:\n",
    "        if len(self.data) != 0:\n",
    "            return min(self.data)\n",
    "\n",
    "\n",
    "# Your MinStack object will be instantiated and called as such:\n",
    "# obj = MinStack()\n",
    "# obj.push(x)\n",
    "# obj.pop()\n",
    "# param_3 = obj.top()\n",
    "# param_4 = obj.getMin()"
   ]
  },
  {
   "cell_type": "code",
   "execution_count": 16,
   "metadata": {},
   "outputs": [
    {
     "name": "stdout",
     "output_type": "stream",
     "text": [
      "defaultdict(<class 'list'>, {'a1': ['1', '2', '3'], 'a2': ['4', '5', '6']})\n",
      "defaultdict(<class 'list'>, {'b1': ['7', '8', '9'], 'b2': ['10', '11', '12']})\n",
      "defaultdict(<class 'list'>, {'c1': ['13', '14', '15'], 'c2': ['16', '17', '18']})\n",
      "defaultdict(<class 'list'>, {'a1': ['1', '2', '3'], 'a2': ['4', '5', '6'], 'a3': [5, 7, 9]})\n"
     ]
    }
   ],
   "source": [
    "from collections import defaultdict\n",
    "\n",
    "a = defaultdict(list)\n",
    "b = defaultdict(list)\n",
    "c = defaultdict(list)\n",
    "a[\"a1\"].append(\"1\")\n",
    "a[\"a1\"].append(\"2\")\n",
    "a[\"a1\"].append(\"3\")\n",
    "a[\"a2\"].append(\"4\")\n",
    "a[\"a2\"].append(\"5\")\n",
    "a[\"a2\"].append(\"6\")\n",
    "b[\"b1\"].append(\"7\")\n",
    "b[\"b1\"].append(\"8\")\n",
    "b[\"b1\"].append(\"9\")\n",
    "b[\"b2\"].append(\"10\")\n",
    "b[\"b2\"].append(\"11\")\n",
    "b[\"b2\"].append(\"12\")\n",
    "c[\"c1\"].append(\"13\")\n",
    "c[\"c1\"].append(\"14\")\n",
    "c[\"c1\"].append(\"15\")\n",
    "c[\"c2\"].append(\"16\")\n",
    "c[\"c2\"].append(\"17\")\n",
    "c[\"c2\"].append(\"18\")\n",
    "print(a)\n",
    "print(b)\n",
    "print(c)\n",
    "for i in range(len(a[\"a1\"])):\n",
    "    a[\"a3\"].append(int(a[\"a1\"][i])+int(a[\"a2\"][i]))\n",
    "print(a)"
   ]
  },
  {
   "cell_type": "markdown",
   "metadata": {},
   "source": [
    "大概測試了一下defaultdict的功能跟語法，覺得還蠻酷的ㄟ，這個感覺要處理一些複雜一點的資料的話，還蠻方便的"
   ]
  },
  {
   "cell_type": "code",
   "execution_count": 1,
   "metadata": {},
   "outputs": [],
   "source": [
    "from collections import defaultdict\n",
    "\n",
    "class Graph:\n",
    "    \n",
    "    def __init__(self):\n",
    "        self.graph = defaultdict(list)\n",
    "    \n",
    "    def addEdge(self,u,v):\n",
    "        self.graph[u].append(v)\n",
    "\n",
    "    def BFS(self,s):     \n",
    "        list1 = self.graph[s]\n",
    "        list2 = [s]\n",
    "        print(list1 == [0,1,3] and list2 == [2])"
   ]
  },
  {
   "cell_type": "code",
   "execution_count": 2,
   "metadata": {},
   "outputs": [
    {
     "name": "stdout",
     "output_type": "stream",
     "text": [
      "True\n"
     ]
    }
   ],
   "source": [
    "a = Graph()\n",
    "a.addEdge(0,1)\n",
    "a.addEdge(0,3)\n",
    "a.addEdge(0,4)\n",
    "a.addEdge(1,3)\n",
    "a.addEdge(1,4)\n",
    "a.addEdge(2,0)\n",
    "a.addEdge(2,1)\n",
    "a.addEdge(2,3)\n",
    "a.addEdge(3,0)\n",
    "a.addEdge(4,1)\n",
    "a.BFS(2)"
   ]
  },
  {
   "cell_type": "code",
   "execution_count": 1,
   "metadata": {},
   "outputs": [],
   "source": [
    "from collections import defaultdict\n",
    "\n",
    "class Graph:\n",
    "    \n",
    "    def __init__(self):\n",
    "        self.graph = defaultdict(list)\n",
    "    \n",
    "    def addEdge(self,u,v):\n",
    "        self.graph[u].append(v)\n",
    "\n",
    "    def BFS(self,s):     \n",
    "        q1 = self.graph[s]\n",
    "        q2 = [s]\n",
    "        q2.append(q1[0])\n",
    "        q1.pop(0)\n",
    "        for i in range(len(self.graph[q2[-1]])):\n",
    "            if self.graph[q2[-1]][i] not in q1:\n",
    "                q1.append(self.graph[q2[-1]][i])\n",
    "        print(q1 == [1,3,4] and q2 == [2,0])"
   ]
  },
  {
   "cell_type": "code",
   "execution_count": 2,
   "metadata": {},
   "outputs": [
    {
     "name": "stdout",
     "output_type": "stream",
     "text": [
      "True\n"
     ]
    }
   ],
   "source": [
    "a = Graph()\n",
    "a.addEdge(0,1)\n",
    "a.addEdge(0,3)\n",
    "a.addEdge(0,4)\n",
    "a.addEdge(1,3)\n",
    "a.addEdge(1,4)\n",
    "a.addEdge(2,0)\n",
    "a.addEdge(2,1)\n",
    "a.addEdge(2,3)\n",
    "a.addEdge(3,0)\n",
    "a.addEdge(4,1)\n",
    "a.BFS(2)"
   ]
  },
  {
   "cell_type": "markdown",
   "metadata": {},
   "source": [
    "目前第一步跟第二步都正確，再來就是要思考如何用while或是for的方式來重複執行步驟"
   ]
  },
  {
   "cell_type": "code",
   "execution_count": 4,
   "metadata": {},
   "outputs": [],
   "source": [
    "from collections import defaultdict\n",
    "\n",
    "class Graph:\n",
    "    \n",
    "    def __init__(self):\n",
    "        self.graph = defaultdict(list)\n",
    "    \n",
    "    def addEdge(self,u,v):\n",
    "        self.graph[u].append(v)\n",
    "\n",
    "    def BFS(self,s):     \n",
    "        q1 = self.graph[s]\n",
    "        q2 = [s]\n",
    "        while len(q1) != 0:\n",
    "            q2.append(q1[0])\n",
    "            q1.pop(0)\n",
    "            for i in range(len(self.graph[q2[-1]])):\n",
    "                if self.graph[q2[-1]][i] not in q1 and self.graph[q2[-1]][i] not in q2:\n",
    "                    q1.append(self.graph[q2[-1]][i])\n",
    "        return q2"
   ]
  },
  {
   "cell_type": "code",
   "execution_count": 5,
   "metadata": {},
   "outputs": [
    {
     "data": {
      "text/plain": [
       "[2, 0, 1, 3, 4]"
      ]
     },
     "execution_count": 5,
     "metadata": {},
     "output_type": "execute_result"
    }
   ],
   "source": [
    "a = Graph()\n",
    "a.addEdge(0,1)\n",
    "a.addEdge(0,3)\n",
    "a.addEdge(0,4)\n",
    "a.addEdge(1,3)\n",
    "a.addEdge(1,4)\n",
    "a.addEdge(2,0)\n",
    "a.addEdge(2,1)\n",
    "a.addEdge(2,3)\n",
    "a.addEdge(3,0)\n",
    "a.addEdge(4,1)\n",
    "a.BFS(2)"
   ]
  },
  {
   "cell_type": "markdown",
   "metadata": {},
   "source": [
    "ㄟ都...該不會這樣就寫完了吧...再多用幾組測值來打臉我的邏輯吧=="
   ]
  },
  {
   "cell_type": "code",
   "execution_count": 6,
   "metadata": {},
   "outputs": [
    {
     "data": {
      "text/plain": [
       "[3, 5, 7, 2, 6, 1, 4]"
      ]
     },
     "execution_count": 6,
     "metadata": {},
     "output_type": "execute_result"
    }
   ],
   "source": [
    "a = Graph()\n",
    "a.addEdge(1,2)\n",
    "a.addEdge(1,4)\n",
    "a.addEdge(2,3)\n",
    "a.addEdge(2,6)\n",
    "a.addEdge(3,5)\n",
    "a.addEdge(3,7)\n",
    "a.addEdge(2,1)\n",
    "a.addEdge(4,6)\n",
    "a.addEdge(5,2)\n",
    "a.addEdge(5,6)\n",
    "a.addEdge(6,1)\n",
    "a.addEdge(7,5)\n",
    "a.BFS(3)"
   ]
  },
  {
   "cell_type": "markdown",
   "metadata": {},
   "source": [
    "這是當初上課的時候老師隨堂考的測值，我把A轉成1，B轉成2，類推，目前這樣測也是正常"
   ]
  },
  {
   "cell_type": "code",
   "execution_count": 1,
   "metadata": {},
   "outputs": [],
   "source": [
    "from collections import defaultdict\n",
    "\n",
    "class Graph:\n",
    "    \n",
    "    def __init__(self):\n",
    "        self.graph = defaultdict(list)\n",
    "    \n",
    "    def addEdge(self,u,v):\n",
    "        self.graph[u].append(v)\n",
    "\n",
    "    def BFS(self,s):     \n",
    "        q1 = self.graph[s]\n",
    "        q2 = [s]\n",
    "        while len(q1) != 0:\n",
    "            q2.append(q1[0])\n",
    "            q1.pop(0)\n",
    "            for i in range(len(self.graph[q2[-1]])):\n",
    "                if self.graph[q2[-1]][i] not in q1 and self.graph[q2[-1]][i] not in q2:\n",
    "                    q1.append(self.graph[q2[-1]][i])\n",
    "        return q2\n",
    "    \n",
    "    def DFS(self,s):\n",
    "        s1 = self.graph[s]\n",
    "        s2 = [s]\n",
    "        while len(s1) != 0:\n",
    "            s2.append(s1[-1])\n",
    "            s1.pop(-1)\n",
    "            for i in range(len(self.graph[s2[-1]])):\n",
    "                if self.graph[s2[-1]][i] not in s1 and self.graph[s2[-1]][i] not in s2:\n",
    "                    s1.append(self.graph[s2[-1]][i])\n",
    "        return s2\n",
    "\n",
    "# 參考資料：\n",
    "\n",
    "# https://www.programiz.com/dsa/graph-bfs\n",
    "\n",
    "# https://www.javatpoint.com/breadth-first-search-algorithm\n",
    "\n",
    "# http://alrightchiu.github.io/SecondRound/graph-breadth-first-searchbfsguang-du-you-xian-sou-xun.html\n",
    "\n",
    "# https://www.javatpoint.com/breadth-first-search-algorithm\n",
    "\n",
    "# https://www.accelebrate.com/blog/using-defaultdict-python\n",
    "\n",
    "# https://ithelp.ithome.com.tw/articles/10193094\n",
    "\n",
    "# http://szteven3.logdown.com/posts/205697-algorithm-notes-time-complexity"
   ]
  },
  {
   "cell_type": "code",
   "execution_count": 2,
   "metadata": {},
   "outputs": [
    {
     "data": {
      "text/plain": [
       "[7, 5, 6, 1, 4, 2, 3]"
      ]
     },
     "execution_count": 2,
     "metadata": {},
     "output_type": "execute_result"
    }
   ],
   "source": [
    "a = Graph()\n",
    "a.addEdge(1,2)\n",
    "a.addEdge(1,4)\n",
    "a.addEdge(2,3)\n",
    "a.addEdge(2,6)\n",
    "a.addEdge(3,5)\n",
    "a.addEdge(3,7)\n",
    "a.addEdge(2,1)\n",
    "a.addEdge(4,6)\n",
    "a.addEdge(5,2)\n",
    "a.addEdge(5,6)\n",
    "a.addEdge(6,1)\n",
    "a.addEdge(7,5)\n",
    "a.DFS(7)"
   ]
  },
  {
   "cell_type": "code",
   "execution_count": 3,
   "metadata": {},
   "outputs": [
    {
     "data": {
      "text/plain": [
       "[2, 3, 1, 4, 0]"
      ]
     },
     "execution_count": 3,
     "metadata": {},
     "output_type": "execute_result"
    }
   ],
   "source": [
    "a = Graph()\n",
    "a.addEdge(0,1)\n",
    "a.addEdge(0,3)\n",
    "a.addEdge(0,4)\n",
    "a.addEdge(1,3)\n",
    "a.addEdge(1,4)\n",
    "a.addEdge(2,0)\n",
    "a.addEdge(2,1)\n",
    "a.addEdge(2,3)\n",
    "a.addEdge(3,0)\n",
    "a.addEdge(4,1)\n",
    "a.DFS(2)"
   ]
  },
  {
   "cell_type": "code",
   "execution_count": 4,
   "metadata": {},
   "outputs": [
    {
     "data": {
      "text/plain": [
       "[11, 8, 9, 2, 4, 7, 12, 6, 3, 10, 1, 5]"
      ]
     },
     "execution_count": 4,
     "metadata": {},
     "output_type": "execute_result"
    }
   ],
   "source": [
    "a = Graph()\n",
    "a.addEdge(1,5)\n",
    "a.addEdge(2,4)\n",
    "a.addEdge(3,9)\n",
    "a.addEdge(3,10)\n",
    "a.addEdge(4,2)\n",
    "a.addEdge(4,5)\n",
    "a.addEdge(4,7)\n",
    "a.addEdge(5,4)\n",
    "a.addEdge(6,7)\n",
    "a.addEdge(6,5)\n",
    "a.addEdge(6,1)\n",
    "a.addEdge(6,3)\n",
    "a.addEdge(7,12)\n",
    "a.addEdge(7,4)\n",
    "a.addEdge(8,9)\n",
    "a.addEdge(9,8)\n",
    "a.addEdge(10,8)\n",
    "a.addEdge(10,3)\n",
    "a.addEdge(11,5)\n",
    "a.addEdge(11,2)\n",
    "a.addEdge(11,8)\n",
    "a.addEdge(12,1)\n",
    "a.addEdge(12,11)\n",
    "a.addEdge(12,6)\n",
    "a.DFS(11)"
   ]
  },
  {
   "cell_type": "code",
   "execution_count": 5,
   "metadata": {},
   "outputs": [
    {
     "data": {
      "text/plain": [
       "[11, 5, 2, 8, 4, 9, 7, 12, 1, 6, 3, 10]"
      ]
     },
     "execution_count": 5,
     "metadata": {},
     "output_type": "execute_result"
    }
   ],
   "source": [
    "a = Graph()\n",
    "a.addEdge(1,5)\n",
    "a.addEdge(2,4)\n",
    "a.addEdge(3,9)\n",
    "a.addEdge(3,10)\n",
    "a.addEdge(4,2)\n",
    "a.addEdge(4,5)\n",
    "a.addEdge(4,7)\n",
    "a.addEdge(5,4)\n",
    "a.addEdge(6,7)\n",
    "a.addEdge(6,5)\n",
    "a.addEdge(6,1)\n",
    "a.addEdge(6,3)\n",
    "a.addEdge(7,12)\n",
    "a.addEdge(7,4)\n",
    "a.addEdge(8,9)\n",
    "a.addEdge(9,8)\n",
    "a.addEdge(10,8)\n",
    "a.addEdge(10,3)\n",
    "a.addEdge(11,5)\n",
    "a.addEdge(11,2)\n",
    "a.addEdge(11,8)\n",
    "a.addEdge(12,1)\n",
    "a.addEdge(12,11)\n",
    "a.addEdge(12,6)\n",
    "a.BFS(11)"
   ]
  },
  {
   "cell_type": "code",
   "execution_count": 6,
   "metadata": {},
   "outputs": [
    {
     "data": {
      "text/plain": [
       "['A', 'B', 'C', 'D', 'E', 'F']"
      ]
     },
     "execution_count": 6,
     "metadata": {},
     "output_type": "execute_result"
    }
   ],
   "source": [
    "obj = Graph()\n",
    "obj.addEdge('A','B')\n",
    "obj.addEdge('A','C')\n",
    "obj.addEdge('B','A')\n",
    "obj.addEdge('B','D')\n",
    "obj.addEdge('B','E')\n",
    "obj.addEdge('C','A')\n",
    "obj.addEdge('C','F')\n",
    "obj.addEdge('D','B')\n",
    "obj.addEdge('E','B')\n",
    "obj.addEdge('E','F')\n",
    "obj.addEdge('F','C')\n",
    "obj.addEdge('F','E')\n",
    "obj.BFS('A')"
   ]
  },
  {
   "cell_type": "code",
   "execution_count": 7,
   "metadata": {},
   "outputs": [
    {
     "data": {
      "text/plain": [
       "['A', 'C', 'F', 'E', 'B', 'D']"
      ]
     },
     "execution_count": 7,
     "metadata": {},
     "output_type": "execute_result"
    }
   ],
   "source": [
    "obj = Graph()\n",
    "obj.addEdge('A','B')\n",
    "obj.addEdge('A','C')\n",
    "obj.addEdge('B','A')\n",
    "obj.addEdge('B','D')\n",
    "obj.addEdge('B','E')\n",
    "obj.addEdge('C','A')\n",
    "obj.addEdge('C','F')\n",
    "obj.addEdge('D','B')\n",
    "obj.addEdge('E','B')\n",
    "obj.addEdge('E','F')\n",
    "obj.addEdge('F','C')\n",
    "obj.addEdge('F','E')\n",
    "obj.DFS('A')"
   ]
  },
  {
   "cell_type": "markdown",
   "metadata": {},
   "source": [
    "BFS跟DFS的原理、比較：\n",
    "\n",
    "BFS全名為Breadth first search，廣度優先搜尋\n",
    "\n",
    "DFS全名為Depth first search，深度優先搜尋\n",
    "\n",
    "其實寫過程式碼之後，再來回頭去看這兩個演算法，真心覺得不難~\n",
    "\n",
    "在BFS的情況底下，我們會把起點當成LEVEL 1\n",
    "\n",
    "接下來，把所有LEVEL 1連結到的點走訪一次，就會當成LEVEL 2\n",
    "\n",
    "然後把所有LEVEL 2所連結到的點走訪一次，就會當成LEVEL 3，依此類推\n",
    "\n",
    "直到所有點都被訪問過，就會終止\n",
    "\n",
    "在程式碼的執行步驟，我們會創建兩個queue，q1負責暫時存放尚未被訪問過的點\n",
    "\n",
    "q2負責存放已經被訪問過的點，由於queue是只能從頭(index = 0)的位置取出\n",
    "\n",
    "並且加入的時候只能加到尾巴，如此一來，便能確保每次從q1取出點放到q2的時候\n",
    "\n",
    "一定會先把LEVEL較低的點先訪問完，LEVEL較高的點加到q1暫存空間的尾巴\n",
    "\n",
    "在空間複雜度的情況，是O(n)，並且n代表的是圖形有幾個點\n",
    "\n",
    "由於q1到最後會變成空的list，而q2會變成最終的答案，且q2長度 = 圖形有幾個點\n",
    "\n",
    "至於時間複雜度的情況，應為O(n+v)，n為圖形有幾個點，v為圖形有幾個邊"
   ]
  },
  {
   "cell_type": "code",
   "execution_count": 4,
   "metadata": {
    "scrolled": true
   },
   "outputs": [
    {
     "data": {
      "text/html": [
       "<img src=\"https://github.com/samuel871211/My-python-code/blob/master/week6/BFS%20DFS%E6%B5%81%E7%A8%8B%E5%9C%96.jpg?raw=true\" width=\"1000\" height=\"1000\"/>"
      ],
      "text/plain": [
       "<IPython.core.display.Image object>"
      ]
     },
     "execution_count": 4,
     "metadata": {},
     "output_type": "execute_result"
    }
   ],
   "source": [
    "from IPython.display import Image\n",
    "from IPython.core.display import HTML\n",
    "Image(url=\"https://github.com/samuel871211/My-python-code/blob/master/week6/BFS%20DFS%E6%B5%81%E7%A8%8B%E5%9C%96.jpg?raw=true\"  ,width = 1000,height = 1000)"
   ]
  }
 ],
 "metadata": {
  "kernelspec": {
   "display_name": "Python 3",
   "language": "python",
   "name": "python3"
  },
  "language_info": {
   "codemirror_mode": {
    "name": "ipython",
    "version": 3
   },
   "file_extension": ".py",
   "mimetype": "text/x-python",
   "name": "python",
   "nbconvert_exporter": "python",
   "pygments_lexer": "ipython3",
   "version": "3.7.4"
  }
 },
 "nbformat": 4,
 "nbformat_minor": 2
}
