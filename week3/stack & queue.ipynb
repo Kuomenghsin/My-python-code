{
 "cells": [
  {
   "cell_type": "code",
   "execution_count": 1,
   "metadata": {},
   "outputs": [],
   "source": [
    "class MinStack(object):\n",
    "\n",
    "    def __init__(self):\n",
    "        self.main=[] #總共創造兩個[]，main用來存放所有push進來的資料\n",
    "        self.mins=[] #當push值進來時，mins用來存放最小值    \n",
    "\n",
    "    def push(self, x):\n",
    "        self.main.append(x)                         #沒有任何懸念，push值就直接append進self.main\n",
    "        if len(self.main) == 1 or x<=self.mins[-1]: #如果這是第一筆push值(x) 或\n",
    "            self.mins.append(x)                     #self.mins的最上面那個數值>=新進來的push值(x)\n",
    "                                                    #咱們就把它也append進去self.mins吧！\n",
    "\n",
    "    def pop(self):\n",
    "        item=self.main.pop()        \n",
    "        if item == self.mins[-1]:   #如果item=self.mins的最上面那個數值\n",
    "            self.mins.pop()         #簡單講就是最新push的值是最小值的話，兩個stack都要一起pop\n",
    "                                    #這樣才能維持最小值的正確\n",
    "\n",
    "    def top(self):\n",
    "        return self.main[-1]        #這個沒問題！直接把self.main的最上面的值return\n",
    "        \n",
    "    def getMin(self):\n",
    "        return self.mins[-1]        #由於每次push時，都有把最小值放進self.mins，所以這邊就輕鬆了#"
   ]
  },
  {
   "cell_type": "code",
   "execution_count": null,
   "metadata": {},
   "outputs": [],
   "source": []
  }
 ],
 "metadata": {
  "kernelspec": {
   "display_name": "Python 3",
   "language": "python",
   "name": "python3"
  },
  "language_info": {
   "codemirror_mode": {
    "name": "ipython",
    "version": 3
   },
   "file_extension": ".py",
   "mimetype": "text/x-python",
   "name": "python",
   "nbconvert_exporter": "python",
   "pygments_lexer": "ipython3",
   "version": "3.7.1"
  }
 },
 "nbformat": 4,
 "nbformat_minor": 2
}
